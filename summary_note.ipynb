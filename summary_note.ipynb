{
 "cells": [
  {
   "cell_type": "markdown",
   "metadata": {},
   "source": [
    "# まとめノート\n",
    "\n",
    "今までの話をまとめる（2017/12/28）\n",
    "\n",
    "検閲の話を適当にしているので、ちゃんとした話はsummary_note_2へ\n",
    "\n",
    "summary_note_2の結論は検閲なくてもrobustに推定できるって言うことなので、summary_note_3で検閲をなくしてやってみる。\n",
    "\n",
    "summary_note_3の結論は検閲なしのデータでやるとロジット予測がダメダメと言うこと。\n",
    "\n",
    "よってデータは検閲されたデータであるという仮定をおくのが今のところは妥当。\n",
    "\n",
    "→cutを大きくすれば、最終的なサンプルサイズは小さくなるけど、予測誤差を小さくできる。のでM市場でも動かせる。（M市場データでは十分大きな$\\mu + \\delta$が実現していることを仮定しないといけないが、まぁ妥当では？）"
   ]
  },
  {
   "cell_type": "code",
   "execution_count": 49,
   "metadata": {
    "collapsed": true
   },
   "outputs": [],
   "source": [
    "import numpy as np\n",
    "import scipy.stats as st\n",
    "import matplotlib.pyplot as plt\n",
    "% matplotlib inline\n",
    "import pandas as pd\n",
    "from mpl_toolkits.mplot3d import Axes3D\n",
    "from matplotlib import cm\n",
    "from numpy.linalg import inv\n",
    "from numpy.random import *\n",
    "import numdifftools as nd\n",
    "from sklearn import linear_model"
   ]
  },
  {
   "cell_type": "markdown",
   "metadata": {},
   "source": [
    "## サンプルデータ\n",
    "\n",
    "修正（2018/1/7）：データの出し方間違ってたので修正"
   ]
  },
  {
   "cell_type": "code",
   "execution_count": 98,
   "metadata": {
    "collapsed": true
   },
   "outputs": [],
   "source": [
    "a = st.uniform()\n",
    "s = st.norm()\n",
    "e = st.norm()\n",
    "M = 5000\n",
    "T = 1000\n",
    "beta1 = 0.8\n",
    "beta2 = -0.5\n",
    "beta3 = -0.5\n",
    "delta = -0.25\n",
    "cut = 0.255"
   ]
  },
  {
   "cell_type": "code",
   "execution_count": 99,
   "metadata": {
    "collapsed": true
   },
   "outputs": [],
   "source": [
    "def mne(x, mu1, mu2, delta,random, a):\n",
    "    prob_x = 1 + (mu2 + x[1])/delta\n",
    "    prob_y = 1 + (mu1+x[0])/delta\n",
    "    probs = np.cumsum([prob_x*prob_y, (1-prob_x)*prob_y, prob_x*(1-prob_y), (1-prob_x)*(1-prob_y)])\n",
    "    prob = a.rvs(1, random_state = random)\n",
    "    ind = np.searchsorted(probs, prob)\n",
    "    if ind == 0:\n",
    "        return [0,0,0]\n",
    "    elif ind == 1:\n",
    "        return [1,0,2]\n",
    "    elif ind == 2:\n",
    "        return [0,1,1]\n",
    "    else:\n",
    "        return [1,1,3]\n",
    "\n",
    "# ここも企業ごとに境目帰るようにしないとダメだよ。あとrandomもね\n",
    "def nash(x, mu1, mu2, true_delta, random, a):\n",
    "    if x[0] < -mu1:\n",
    "        if x[1] < -mu2:\n",
    "            return [0,0,0]\n",
    "        else :\n",
    "            return [0,1,1]\n",
    "    elif -mu1 < x[0] < -mu1 -true_delta:\n",
    "        if x[1] < -mu2:\n",
    "            return [1,0,2]\n",
    "        elif -mu2 < x[1] < -mu2 -true_delta:\n",
    "            return mne(x, mu1, mu2, true_delta, random, a)\n",
    "        else:\n",
    "            return [0,1,1]\n",
    "    else:\n",
    "        if x[1] < -mu2 -true_delta:\n",
    "            return [1,0,2]\n",
    "        else:\n",
    "            return [1,1,3]\n",
    "        \n",
    "def diffe(p):\n",
    "    p_0 = sum([True for i in data2[p, :, 2] if i == 0.0])/T\n",
    "    p_2 = sum([True for i in data2[p, :, 2] if i == 3.0])/T\n",
    "    return p_0 - p_2\n",
    "\n",
    "def num(p):\n",
    "    num0 = sum([True for i in data2[p, :, 2] if i == 0.0])\n",
    "    num2 = sum([True for i in data2[p, :, 2] if i == 3.0])\n",
    "    num1 = T - num0 - num2\n",
    "    return num0, num1, num2"
   ]
  },
  {
   "cell_type": "code",
   "execution_count": 100,
   "metadata": {
    "collapsed": true
   },
   "outputs": [],
   "source": [
    "# M市場分のデータを作る。\n",
    "data = e.rvs(size = (M,3), random_state = 101)\n",
    "eps = s.rvs(size = (M,T,2), random_state = 18)\n",
    "data2 = np.ones((M,T,3))\n",
    "for m in range(M):\n",
    "    for t in range(T):\n",
    "        data2[m, t, :] = nash(eps[m, t, :], data[m, 0]*beta1 + data[m, 1]*beta2, data[m, 0]*beta1 + data[m, 2]*beta2, delta, m+t*M, a)\n",
    "\n",
    "d = np.array([diffe(p) for p in range(M)])\n",
    "d2 = np.reshape(np.array([num(p) for p in range(M)]), (M, 3))\n",
    "df = pd.DataFrame({\"Pop\" : data[:,0], \"Dist1\" : data[:, 1], \"Dist2\" : data[:, 2], \"diff\" : d, \"num0\":d2[:, 0], \"num1\":d2[:, 1], \"num2\":d2[:, 2]})\n",
    "df = df[(beta1 * df.Pop + beta2 * df.Dist1 + delta > cut) & (beta1 * df.Pop + beta2 * df.Dist2 + delta > cut)]\n",
    "df.to_csv(\"robust_norm.csv\")"
   ]
  },
  {
   "cell_type": "code",
   "execution_count": 101,
   "metadata": {
    "collapsed": false
   },
   "outputs": [
    {
     "data": {
      "text/plain": [
       "(946, 7)"
      ]
     },
     "execution_count": 101,
     "metadata": {},
     "output_type": "execute_result"
    }
   ],
   "source": [
    "df.shape"
   ]
  },
  {
   "cell_type": "markdown",
   "metadata": {},
   "source": [
    "## 推定"
   ]
  },
  {
   "cell_type": "code",
   "execution_count": 130,
   "metadata": {
    "collapsed": false
   },
   "outputs": [],
   "source": [
    "df = pd.read_csv(\"robust_norm.csv\")\n",
    "pop = df[[\"Pop\"]].values[:, 0]\n",
    "dist1 = df[[\"Dist1\"]].values[:, 0]\n",
    "dist2 = df[[\"Dist2\"]].values[:, 0]\n",
    "num0 = df[[\"num0\"]].values[:, 0]\n",
    "num2 = df[[\"num2\"]].values[:, 0]\n",
    "diff = df[[\"diff\"]].values[:, 0]"
   ]
  },
  {
   "cell_type": "code",
   "execution_count": 141,
   "metadata": {
    "collapsed": true
   },
   "outputs": [],
   "source": [
    "def br(x):\n",
    "    xb1 = x[0] * pop + x[1] * dist1\n",
    "    xb2 = x[0] * pop + x[1] * dist2\n",
    "    logl = num0*(np.log(s.cdf(-xb1)*s.cdf(-xb2))) \\\n",
    "    + num2*(np.log(s.cdf(xb1+x[2])*s.cdf(xb2+x[2])))\\\n",
    "    + (T-num0-num2)*np.log(1-s.cdf(-xb1)*s.cdf(-xb2)-s.cdf(xb1+x[2])*s.cdf(xb2+x[2]))\n",
    "    return sum(logl)/M\n",
    "\n",
    "def br1(x):\n",
    "    xb1 = x[0] * pop + x[1] * dist1\n",
    "    xb2 = x[0] * pop + x[1] * dist2\n",
    "    logl = num0*(np.log(s.cdf(-xb1)*s.cdf(-xb2))) \\\n",
    "    + num2*(np.log(s.cdf(xb1+x[2])*s.cdf(xb2+x[2])))\\\n",
    "    + (T-num0-num2)*np.log(1-s.cdf(-xb1)*s.cdf(-xb2)-s.cdf(xb1+x[2])*s.cdf(xb2+x[2]))\n",
    "    return logl\n",
    "\n",
    "def robust(x):\n",
    "    xb1 = x[0] * pop + x[1] * dist1\n",
    "    xb2 = x[0] * pop + x[1] * dist2\n",
    "    r = (diff + s.cdf(xb1 + x[2])*s.cdf(xb2 + x[2]) - s.cdf(-xb1)*s.cdf(-xb2))**2\n",
    "    return -sum(r)/M\n",
    "\n",
    "def robust1(x):\n",
    "    xb1 = x[0] * pop + x[1] * dist1\n",
    "    xb2 = x[0] * pop + x[1] * dist2\n",
    "    r = diff + s.cdf(xb1 + x[2])*s.cdf(xb2 + x[2]) - s.cdf(-xb1)*s.cdf(-xb2)\n",
    "    return r\n",
    "\n",
    "def NR(initial, fun, tol, maxit):\n",
    "    theta = initial\n",
    "    for i in range(0,maxit):\n",
    "        G = nd.Gradient(fun)(theta)\n",
    "        H = nd.Hessian(fun)(theta)\n",
    "        del_theta = inv(H).dot(G)\n",
    "        theta = theta - del_theta\n",
    "        if np.linalg.norm(del_theta) < tol:\n",
    "            print(\"NR終わり\")\n",
    "            break\n",
    "    return theta"
   ]
  },
  {
   "cell_type": "code",
   "execution_count": 142,
   "metadata": {
    "collapsed": false
   },
   "outputs": [
    {
     "name": "stderr",
     "output_type": "stream",
     "text": [
      "/Users/susu/anaconda/lib/python3.5/site-packages/ipykernel/__main__.py:4: RuntimeWarning: divide by zero encountered in log\n",
      "/Users/susu/anaconda/lib/python3.5/site-packages/ipykernel/__main__.py:4: RuntimeWarning: invalid value encountered in log\n",
      "/Users/susu/anaconda/lib/python3.5/site-packages/numdifftools/extrapolation.py:443: RuntimeWarning: invalid value encountered in less_equal\n",
      "  converged = err <= tol\n",
      "/Users/susu/anaconda/lib/python3.5/site-packages/numdifftools/limits.py:150: RuntimeWarning: invalid value encountered in less\n",
      "  outliers = (((abs(der) < (a_median / trim_fact)) +\n",
      "/Users/susu/anaconda/lib/python3.5/site-packages/numdifftools/limits.py:151: RuntimeWarning: invalid value encountered in greater\n",
      "  (abs(der) > (a_median * trim_fact))) * (a_median > 1e-8) +\n",
      "/Users/susu/anaconda/lib/python3.5/site-packages/numdifftools/limits.py:152: RuntimeWarning: invalid value encountered in less\n",
      "  ((der < p25-1.5*iqr) + (p75+1.5*iqr < der)))\n",
      "/Users/susu/anaconda/lib/python3.5/site-packages/ipykernel/__main__.py:4: RuntimeWarning: divide by zero encountered in log\n",
      "/Users/susu/anaconda/lib/python3.5/site-packages/ipykernel/__main__.py:4: RuntimeWarning: invalid value encountered in log\n",
      "/Users/susu/anaconda/lib/python3.5/site-packages/numdifftools/core.py:951: RuntimeWarning: invalid value encountered in double_scalars\n",
      "  f(x - ee[i, :] + ee[j, :], *args, **kwargs) +\n",
      "/Users/susu/anaconda/lib/python3.5/site-packages/numdifftools/extrapolation.py:443: RuntimeWarning: invalid value encountered in less_equal\n",
      "  converged = err <= tol\n",
      "/Users/susu/anaconda/lib/python3.5/site-packages/numdifftools/limits.py:150: RuntimeWarning: invalid value encountered in less\n",
      "  outliers = (((abs(der) < (a_median / trim_fact)) +\n",
      "/Users/susu/anaconda/lib/python3.5/site-packages/numdifftools/limits.py:151: RuntimeWarning: invalid value encountered in greater\n",
      "  (abs(der) > (a_median * trim_fact))) * (a_median > 1e-8) +\n",
      "/Users/susu/anaconda/lib/python3.5/site-packages/numdifftools/limits.py:152: RuntimeWarning: invalid value encountered in less\n",
      "  ((der < p25-1.5*iqr) + (p75+1.5*iqr < der)))\n",
      "/Users/susu/anaconda/lib/python3.5/site-packages/ipykernel/__main__.py:4: RuntimeWarning: divide by zero encountered in log\n",
      "/Users/susu/anaconda/lib/python3.5/site-packages/ipykernel/__main__.py:4: RuntimeWarning: invalid value encountered in log\n",
      "/Users/susu/anaconda/lib/python3.5/site-packages/numdifftools/extrapolation.py:443: RuntimeWarning: invalid value encountered in less_equal\n",
      "  converged = err <= tol\n",
      "/Users/susu/anaconda/lib/python3.5/site-packages/numdifftools/limits.py:150: RuntimeWarning: invalid value encountered in less\n",
      "  outliers = (((abs(der) < (a_median / trim_fact)) +\n",
      "/Users/susu/anaconda/lib/python3.5/site-packages/numdifftools/limits.py:151: RuntimeWarning: invalid value encountered in greater\n",
      "  (abs(der) > (a_median * trim_fact))) * (a_median > 1e-8) +\n",
      "/Users/susu/anaconda/lib/python3.5/site-packages/numdifftools/limits.py:152: RuntimeWarning: invalid value encountered in less\n",
      "  ((der < p25-1.5*iqr) + (p75+1.5*iqr < der)))\n",
      "/Users/susu/anaconda/lib/python3.5/site-packages/ipykernel/__main__.py:4: RuntimeWarning: divide by zero encountered in log\n",
      "/Users/susu/anaconda/lib/python3.5/site-packages/ipykernel/__main__.py:4: RuntimeWarning: invalid value encountered in log\n",
      "/Users/susu/anaconda/lib/python3.5/site-packages/numdifftools/core.py:951: RuntimeWarning: invalid value encountered in double_scalars\n",
      "  f(x - ee[i, :] + ee[j, :], *args, **kwargs) +\n",
      "/Users/susu/anaconda/lib/python3.5/site-packages/numdifftools/extrapolation.py:443: RuntimeWarning: invalid value encountered in less_equal\n",
      "  converged = err <= tol\n",
      "/Users/susu/anaconda/lib/python3.5/site-packages/numdifftools/limits.py:150: RuntimeWarning: invalid value encountered in less\n",
      "  outliers = (((abs(der) < (a_median / trim_fact)) +\n",
      "/Users/susu/anaconda/lib/python3.5/site-packages/numdifftools/limits.py:151: RuntimeWarning: invalid value encountered in greater\n",
      "  (abs(der) > (a_median * trim_fact))) * (a_median > 1e-8) +\n",
      "/Users/susu/anaconda/lib/python3.5/site-packages/numdifftools/limits.py:152: RuntimeWarning: invalid value encountered in less\n",
      "  ((der < p25-1.5*iqr) + (p75+1.5*iqr < der)))\n",
      "/Users/susu/anaconda/lib/python3.5/site-packages/ipykernel/__main__.py:4: RuntimeWarning: divide by zero encountered in log\n",
      "/Users/susu/anaconda/lib/python3.5/site-packages/ipykernel/__main__.py:4: RuntimeWarning: invalid value encountered in log\n",
      "/Users/susu/anaconda/lib/python3.5/site-packages/numdifftools/extrapolation.py:443: RuntimeWarning: invalid value encountered in less_equal\n",
      "  converged = err <= tol\n",
      "/Users/susu/anaconda/lib/python3.5/site-packages/numdifftools/limits.py:150: RuntimeWarning: invalid value encountered in less\n",
      "  outliers = (((abs(der) < (a_median / trim_fact)) +\n",
      "/Users/susu/anaconda/lib/python3.5/site-packages/numdifftools/limits.py:151: RuntimeWarning: invalid value encountered in greater\n",
      "  (abs(der) > (a_median * trim_fact))) * (a_median > 1e-8) +\n",
      "/Users/susu/anaconda/lib/python3.5/site-packages/numdifftools/limits.py:152: RuntimeWarning: invalid value encountered in less\n",
      "  ((der < p25-1.5*iqr) + (p75+1.5*iqr < der)))\n",
      "/Users/susu/anaconda/lib/python3.5/site-packages/ipykernel/__main__.py:4: RuntimeWarning: divide by zero encountered in log\n",
      "/Users/susu/anaconda/lib/python3.5/site-packages/ipykernel/__main__.py:4: RuntimeWarning: invalid value encountered in log\n",
      "/Users/susu/anaconda/lib/python3.5/site-packages/numdifftools/core.py:951: RuntimeWarning: invalid value encountered in double_scalars\n",
      "  f(x - ee[i, :] + ee[j, :], *args, **kwargs) +\n",
      "/Users/susu/anaconda/lib/python3.5/site-packages/numdifftools/extrapolation.py:443: RuntimeWarning: invalid value encountered in less_equal\n",
      "  converged = err <= tol\n",
      "/Users/susu/anaconda/lib/python3.5/site-packages/numdifftools/limits.py:150: RuntimeWarning: invalid value encountered in less\n",
      "  outliers = (((abs(der) < (a_median / trim_fact)) +\n",
      "/Users/susu/anaconda/lib/python3.5/site-packages/numdifftools/limits.py:151: RuntimeWarning: invalid value encountered in greater\n",
      "  (abs(der) > (a_median * trim_fact))) * (a_median > 1e-8) +\n",
      "/Users/susu/anaconda/lib/python3.5/site-packages/numdifftools/limits.py:152: RuntimeWarning: invalid value encountered in less\n",
      "  ((der < p25-1.5*iqr) + (p75+1.5*iqr < der)))\n"
     ]
    },
    {
     "name": "stdout",
     "output_type": "stream",
     "text": [
      "NR終わり\n",
      "NR終わり\n"
     ]
    }
   ],
   "source": [
    "# 推定\n",
    "tole = 0.000005\n",
    "maxx = 100000\n",
    "initial = [0.8,-0.5,-0.25]\n",
    "result_br = NR(initial, br, tole, maxx)\n",
    "result_rob = NR(initial, robust, tole, maxx)"
   ]
  },
  {
   "cell_type": "code",
   "execution_count": 143,
   "metadata": {
    "collapsed": false
   },
   "outputs": [
    {
     "data": {
      "text/plain": [
       "array([ 0.79068607, -0.49554507, -0.2340692 ])"
      ]
     },
     "execution_count": 143,
     "metadata": {},
     "output_type": "execute_result"
    }
   ],
   "source": [
    "# かなりいい。\n",
    "result_br"
   ]
  },
  {
   "cell_type": "code",
   "execution_count": 144,
   "metadata": {
    "collapsed": false
   },
   "outputs": [
    {
     "data": {
      "text/plain": [
       "array([ 0.79429955, -0.49699546, -0.23984325])"
      ]
     },
     "execution_count": 144,
     "metadata": {},
     "output_type": "execute_result"
    }
   ],
   "source": [
    "# こっちはいつも通りいい\n",
    "result_rob"
   ]
  },
  {
   "cell_type": "markdown",
   "metadata": {},
   "source": [
    "## ハウスマン検定"
   ]
  },
  {
   "cell_type": "code",
   "execution_count": 145,
   "metadata": {
    "collapsed": true
   },
   "outputs": [],
   "source": [
    "def hausman(result1, result2):\n",
    "    # 足したものにヘッセでもヘッセしてから足しても変わらんから別にいいのか\n",
    "    H_br = nd.Hessian(br)(result1)\n",
    "    inv_H_br = inv(H_br)\n",
    "    tri_1 = -inv_H_br\n",
    "\n",
    "    J_br = nd.Jacobian(br1)(result1)\n",
    "    circle_1 = np.dot(J_br.T, J_br)/M\n",
    "\n",
    "    G_rob = nd.Gradient(robust)(result2)\n",
    "    a = np.matrix(-G_rob)\n",
    "    tri_3 = -np.dot(inv(np.dot(a.T, a)), a.T)\n",
    "\n",
    "    b = np.matrix(robust1(result2)).T\n",
    "    circle_3 = np.dot(J_br.T, b)/M\n",
    "\n",
    "    circle_6 = -robust(result2)\n",
    "\n",
    "    A_11 = np.dot(np.dot(tri_1, circle_1), tri_1.T)\n",
    "    A_33 = np.dot(np.dot(tri_3, circle_6), tri_3.T)\n",
    "    A_13 = np.dot(np.dot(tri_1, circle_3), tri_3.T)\n",
    "    A_31 = np.dot(np.dot(tri_3, circle_3.T), tri_1.T)\n",
    "    \n",
    "    avar = A_11 - A_13 -A_31 + A_33\n",
    "    gap = np.matrix(result1 - result2)\n",
    "    h = M * np.dot(np.dot(gap, inv(avar)), gap.T)\n",
    "    \n",
    "    return h, np.rank(avar)"
   ]
  },
  {
   "cell_type": "code",
   "execution_count": 146,
   "metadata": {
    "collapsed": false
   },
   "outputs": [
    {
     "name": "stderr",
     "output_type": "stream",
     "text": [
      "/Users/susu/anaconda/lib/python3.5/site-packages/ipykernel/__main__.py:4: RuntimeWarning: divide by zero encountered in log\n",
      "/Users/susu/anaconda/lib/python3.5/site-packages/ipykernel/__main__.py:4: RuntimeWarning: invalid value encountered in log\n",
      "/Users/susu/anaconda/lib/python3.5/site-packages/numdifftools/core.py:951: RuntimeWarning: invalid value encountered in double_scalars\n",
      "  f(x - ee[i, :] + ee[j, :], *args, **kwargs) +\n",
      "/Users/susu/anaconda/lib/python3.5/site-packages/numdifftools/extrapolation.py:443: RuntimeWarning: invalid value encountered in less_equal\n",
      "  converged = err <= tol\n",
      "/Users/susu/anaconda/lib/python3.5/site-packages/numdifftools/limits.py:150: RuntimeWarning: invalid value encountered in less\n",
      "  outliers = (((abs(der) < (a_median / trim_fact)) +\n",
      "/Users/susu/anaconda/lib/python3.5/site-packages/numdifftools/limits.py:151: RuntimeWarning: invalid value encountered in greater\n",
      "  (abs(der) > (a_median * trim_fact))) * (a_median > 1e-8) +\n",
      "/Users/susu/anaconda/lib/python3.5/site-packages/numdifftools/limits.py:152: RuntimeWarning: invalid value encountered in less\n",
      "  ((der < p25-1.5*iqr) + (p75+1.5*iqr < der)))\n",
      "/Users/susu/anaconda/lib/python3.5/site-packages/ipykernel/__main__.py:10: RuntimeWarning: divide by zero encountered in log\n",
      "/Users/susu/anaconda/lib/python3.5/site-packages/ipykernel/__main__.py:10: RuntimeWarning: invalid value encountered in log\n",
      "/Users/susu/anaconda/lib/python3.5/site-packages/numdifftools/extrapolation.py:443: RuntimeWarning: invalid value encountered in less_equal\n",
      "  converged = err <= tol\n",
      "/Users/susu/anaconda/lib/python3.5/site-packages/numdifftools/limits.py:150: RuntimeWarning: invalid value encountered in less\n",
      "  outliers = (((abs(der) < (a_median / trim_fact)) +\n",
      "/Users/susu/anaconda/lib/python3.5/site-packages/numdifftools/limits.py:151: RuntimeWarning: invalid value encountered in greater\n",
      "  (abs(der) > (a_median * trim_fact))) * (a_median > 1e-8) +\n",
      "/Users/susu/anaconda/lib/python3.5/site-packages/numdifftools/limits.py:152: RuntimeWarning: invalid value encountered in less\n",
      "  ((der < p25-1.5*iqr) + (p75+1.5*iqr < der)))\n",
      "/Users/susu/anaconda/lib/python3.5/site-packages/numpy/core/fromnumeric.py:2699: VisibleDeprecationWarning: `rank` is deprecated; use the `ndim` attribute or function instead. To find the rank of a matrix see `numpy.linalg.matrix_rank`.\n",
      "  VisibleDeprecationWarning)\n"
     ]
    }
   ],
   "source": [
    "h, rank = hausman(result_br, result_rob)"
   ]
  },
  {
   "cell_type": "code",
   "execution_count": 147,
   "metadata": {
    "collapsed": false
   },
   "outputs": [
    {
     "name": "stdout",
     "output_type": "stream",
     "text": [
      "[[ 7.77944372]]\n",
      "2\n"
     ]
    }
   ],
   "source": [
    "print(h)\n",
    "print(rank)"
   ]
  },
  {
   "cell_type": "markdown",
   "metadata": {},
   "source": [
    "## M市場ケース\n",
    "\n",
    "多分ロジットの予測を使うのは理論的に正しくない。→GLMをやってるので正しいよ\n",
    "\n",
    "論文に乗せるようなdiffとの比較をするためには最初のような出し方をする必要があるね。そっちの方がわかりやすいわ\n",
    "\n",
    "### Robust"
   ]
  },
  {
   "cell_type": "code",
   "execution_count": 102,
   "metadata": {
    "collapsed": false
   },
   "outputs": [],
   "source": [
    "df = pd.read_csv(\"robust_norm.csv\")\n",
    "seed(1234)\n",
    "m = df.shape[0]\n",
    "draw = randint(1,T+1,m) \n",
    "df[\"draw\"] = draw\n",
    "df[\"realized_entry\"] = df.apply(lambda x: 0 if(x[\"draw\"] <= x[\"num0\"]) else 1 if(x[\"draw\"] <= x[\"num1\"]) else 2, axis = 1)"
   ]
  },
  {
   "cell_type": "markdown",
   "metadata": {
    "collapsed": true
   },
   "source": [
    "df[\"popdist1\"] = df[\"Pop\"] * df[\"Dist1\"]\n",
    "df[\"popdist2\"]= df[\"Pop\"] * df[\"Dist2\"]\n",
    "df[\"dist1dist2\"]= df[\"Dist2\"] * df[\"Dist1\"]\n",
    "df[\"pop_sq\"] = df[\"Pop\"]**2\n",
    "df[\"dist1_sq\"] = df[\"Dist1\"]**2\n",
    "df[\"dist2_sq\"] = df[\"Dist2\"]**2\n",
    "\n",
    "df[\"pop_tr\"] = df[\"Pop\"]**3\n",
    "df[\"dist1_tr\"] = df[\"Dist1\"]**3\n",
    "df[\"dist2_tr\"] = df[\"Dist2\"]**3\n",
    "df[\"pop_sqdist1\"] = df[\"Pop\"]**2 * df[\"Dist1\"]\n",
    "df[\"pop_sqdist2\"] = df[\"Pop\"]**2 * df[\"Dist2\"]\n",
    "df[\"dist1_sqpop\"] = df[\"Pop\"] * df[\"Dist1\"]**2\n",
    "df[\"dist1_sqdist2\"] = df[\"Dist2\"] * df[\"Dist1\"]**2\n",
    "df[\"dist2_sqpop\"] = df[\"Pop\"] * df[\"Dist2\"]**2\n",
    "df[\"dist2_sqdist1\"] = df[\"Dist1\"] * df[\"Dist2\"]**2"
   ]
  },
  {
   "cell_type": "code",
   "execution_count": 103,
   "metadata": {
    "collapsed": false
   },
   "outputs": [
    {
     "data": {
      "text/plain": [
       "LogisticRegression(C=100000.0, class_weight=None, dual=False,\n",
       "          fit_intercept=True, intercept_scaling=1, max_iter=100,\n",
       "          multi_class='ovr', n_jobs=1, penalty='l1', random_state=None,\n",
       "          solver='liblinear', tol=0.0001, verbose=0, warm_start=False)"
      ]
     },
     "execution_count": 103,
     "metadata": {},
     "output_type": "execute_result"
    }
   ],
   "source": [
    "# logit\n",
    "logreg = linear_model.LogisticRegression(C=1e5, penalty='l1')\n",
    "Y = df.realized_entry\n",
    "X = df.drop([\"Unnamed: 0\", \"diff\", \"num0\", \"num1\", \"num2\", \"draw\", \"realized_entry\"],axis = 1)\n",
    "logreg.fit(X, Y)"
   ]
  },
  {
   "cell_type": "code",
   "execution_count": 104,
   "metadata": {
    "collapsed": false
   },
   "outputs": [
    {
     "data": {
      "image/png": "[encoded data removed]",
      "text/plain": [
       "<matplotlib.figure.Figure at 0x1129c55c0>"
      ]
     },
     "metadata": {},
     "output_type": "display_data"
    }
   ],
   "source": [
    "# diff estimation\n",
    "# cutを大きくすれば、誤差を生んでるところを消せるので精度が上がる\n",
    "df[\"diff_est\"] = logreg.predict_proba(X)[:, 0] - logreg.predict_proba(X)[:, 2]\n",
    "d = df[\"diff\"].values\n",
    "d_est = df[\"diff_est\"].values\n",
    "plt.scatter(d, d_est)\n",
    "a = np.linspace(-1.2, 0,200)\n",
    "plt.plot(a, a)\n",
    "plt.savefig(\"logit.png\")\n",
    "plt.show()"
   ]
  },
  {
   "cell_type": "code",
   "execution_count": 105,
   "metadata": {
    "collapsed": false
   },
   "outputs": [
    {
     "name": "stdout",
     "output_type": "stream",
     "text": [
      "NR終わり\n"
     ]
    }
   ],
   "source": [
    "# 推定値を用いてRobust推定\n",
    "pop = df[[\"Pop\"]].values[:, 0]\n",
    "dist1 = df[[\"Dist1\"]].values[:, 0]\n",
    "dist2 = df[[\"Dist2\"]].values[:, 0]\n",
    "num0 = df[[\"num0\"]].values[:, 0]\n",
    "num2 = df[[\"num2\"]].values[:, 0]\n",
    "diff = df[[\"diff_est\"]].values[:, 0]\n",
    "initial = [0.8,-0.5,-0.25]\n",
    "tole = 0.000005\n",
    "maxx = 100000\n",
    "result_rob2 = NR(initial, robust, tole, maxx)"
   ]
  },
  {
   "cell_type": "code",
   "execution_count": 106,
   "metadata": {
    "collapsed": false
   },
   "outputs": [
    {
     "data": {
      "text/plain": [
       "array([ 0.80851591, -0.50332032, -0.19265647])"
      ]
     },
     "execution_count": 106,
     "metadata": {},
     "output_type": "execute_result"
    }
   ],
   "source": [
    "# cutを大きくすればバイアスは消せる。（そういう仮定を置くということ）\n",
    "result_rob2"
   ]
  },
  {
   "cell_type": "markdown",
   "metadata": {
    "collapsed": true
   },
   "source": [
    "### br"
   ]
  },
  {
   "cell_type": "code",
   "execution_count": 107,
   "metadata": {
    "collapsed": true
   },
   "outputs": [],
   "source": [
    "# make dummy variable\n",
    "df[\"realized_entry\"] = df[\"realized_entry\"].apply(str)\n",
    "dummy_df = pd.get_dummies(df[[\"realized_entry\"]])\n",
    "df = pd.merge(df, dummy_df, left_index=True, right_index=True)"
   ]
  },
  {
   "cell_type": "code",
   "execution_count": 108,
   "metadata": {
    "collapsed": false
   },
   "outputs": [],
   "source": [
    "entry0 = df[[\"realized_entry_0\"]].values[:, 0]\n",
    "entry1 = df[[\"realized_entry_1\"]].values[:, 0]\n",
    "entry2 = df[[\"realized_entry_2\"]].values[:, 0]\n",
    "\n",
    "def brM(x):\n",
    "    xb1 = x[0] * pop + x[1] * dist1\n",
    "    xb2 = x[0] * pop + x[1] * dist2\n",
    "    logl = entry0*(np.log(s.cdf(-xb1)*s.cdf(-xb2))) \\\n",
    "    + entry2*(np.log(s.cdf(xb1+x[2])*s.cdf(xb2+x[2])))\\\n",
    "    + entry1*np.log(1-s.cdf(-xb1)*s.cdf(-xb2)-s.cdf(xb1+x[2])*s.cdf(xb2+x[2]))\n",
    "    return sum(logl)\n",
    "\n",
    "def brM1(x):\n",
    "    xb1 = x[0] * pop + x[1] * dist1\n",
    "    xb2 = x[0] * pop + x[1] * dist2\n",
    "    logl = entry0*(np.log(s.cdf(-xb1)*s.cdf(-xb2))) \\\n",
    "    + entry2*(np.log(s.cdf(xb1+x[2])*s.cdf(xb2+x[2])))\\\n",
    "    + entry1*np.log(1-s.cdf(-xb1)*s.cdf(-xb2)-s.cdf(xb1+x[2])*s.cdf(xb2+x[2]))\n",
    "    return logl"
   ]
  },
  {
   "cell_type": "code",
   "execution_count": 109,
   "metadata": {
    "collapsed": false
   },
   "outputs": [
    {
     "name": "stderr",
     "output_type": "stream",
     "text": [
      "/Users/susu/anaconda/lib/python3.5/site-packages/ipykernel/__main__.py:8: RuntimeWarning: divide by zero encountered in log\n",
      "/Users/susu/anaconda/lib/python3.5/site-packages/ipykernel/__main__.py:8: RuntimeWarning: invalid value encountered in multiply\n",
      "/Users/susu/anaconda/lib/python3.5/site-packages/ipykernel/__main__.py:8: RuntimeWarning: invalid value encountered in log\n",
      "/Users/susu/anaconda/lib/python3.5/site-packages/numdifftools/extrapolation.py:443: RuntimeWarning: invalid value encountered in less_equal\n",
      "  converged = err <= tol\n",
      "/Users/susu/anaconda/lib/python3.5/site-packages/numdifftools/limits.py:150: RuntimeWarning: invalid value encountered in less\n",
      "  outliers = (((abs(der) < (a_median / trim_fact)) +\n",
      "/Users/susu/anaconda/lib/python3.5/site-packages/numdifftools/limits.py:151: RuntimeWarning: invalid value encountered in greater\n",
      "  (abs(der) > (a_median * trim_fact))) * (a_median > 1e-8) +\n",
      "/Users/susu/anaconda/lib/python3.5/site-packages/numdifftools/limits.py:152: RuntimeWarning: invalid value encountered in less\n",
      "  ((der < p25-1.5*iqr) + (p75+1.5*iqr < der)))\n",
      "/Users/susu/anaconda/lib/python3.5/site-packages/ipykernel/__main__.py:8: RuntimeWarning: divide by zero encountered in log\n",
      "/Users/susu/anaconda/lib/python3.5/site-packages/ipykernel/__main__.py:8: RuntimeWarning: invalid value encountered in multiply\n",
      "/Users/susu/anaconda/lib/python3.5/site-packages/ipykernel/__main__.py:8: RuntimeWarning: invalid value encountered in log\n",
      "/Users/susu/anaconda/lib/python3.5/site-packages/numdifftools/extrapolation.py:443: RuntimeWarning: invalid value encountered in less_equal\n",
      "  converged = err <= tol\n",
      "/Users/susu/anaconda/lib/python3.5/site-packages/numdifftools/limits.py:150: RuntimeWarning: invalid value encountered in less\n",
      "  outliers = (((abs(der) < (a_median / trim_fact)) +\n",
      "/Users/susu/anaconda/lib/python3.5/site-packages/numdifftools/limits.py:151: RuntimeWarning: invalid value encountered in greater\n",
      "  (abs(der) > (a_median * trim_fact))) * (a_median > 1e-8) +\n",
      "/Users/susu/anaconda/lib/python3.5/site-packages/numdifftools/limits.py:152: RuntimeWarning: invalid value encountered in less\n",
      "  ((der < p25-1.5*iqr) + (p75+1.5*iqr < der)))\n",
      "/Users/susu/anaconda/lib/python3.5/site-packages/ipykernel/__main__.py:8: RuntimeWarning: divide by zero encountered in log\n",
      "/Users/susu/anaconda/lib/python3.5/site-packages/ipykernel/__main__.py:8: RuntimeWarning: invalid value encountered in multiply\n",
      "/Users/susu/anaconda/lib/python3.5/site-packages/ipykernel/__main__.py:8: RuntimeWarning: invalid value encountered in log\n",
      "/Users/susu/anaconda/lib/python3.5/site-packages/numdifftools/extrapolation.py:443: RuntimeWarning: invalid value encountered in less_equal\n",
      "  converged = err <= tol\n",
      "/Users/susu/anaconda/lib/python3.5/site-packages/numdifftools/limits.py:150: RuntimeWarning: invalid value encountered in less\n",
      "  outliers = (((abs(der) < (a_median / trim_fact)) +\n",
      "/Users/susu/anaconda/lib/python3.5/site-packages/numdifftools/limits.py:151: RuntimeWarning: invalid value encountered in greater\n",
      "  (abs(der) > (a_median * trim_fact))) * (a_median > 1e-8) +\n",
      "/Users/susu/anaconda/lib/python3.5/site-packages/numdifftools/limits.py:152: RuntimeWarning: invalid value encountered in less\n",
      "  ((der < p25-1.5*iqr) + (p75+1.5*iqr < der)))\n",
      "/Users/susu/anaconda/lib/python3.5/site-packages/ipykernel/__main__.py:8: RuntimeWarning: divide by zero encountered in log\n",
      "/Users/susu/anaconda/lib/python3.5/site-packages/ipykernel/__main__.py:8: RuntimeWarning: invalid value encountered in multiply\n",
      "/Users/susu/anaconda/lib/python3.5/site-packages/ipykernel/__main__.py:8: RuntimeWarning: invalid value encountered in log\n",
      "/Users/susu/anaconda/lib/python3.5/site-packages/numdifftools/extrapolation.py:443: RuntimeWarning: invalid value encountered in less_equal\n",
      "  converged = err <= tol\n",
      "/Users/susu/anaconda/lib/python3.5/site-packages/numdifftools/limits.py:150: RuntimeWarning: invalid value encountered in less\n",
      "  outliers = (((abs(der) < (a_median / trim_fact)) +\n",
      "/Users/susu/anaconda/lib/python3.5/site-packages/numdifftools/limits.py:151: RuntimeWarning: invalid value encountered in greater\n",
      "  (abs(der) > (a_median * trim_fact))) * (a_median > 1e-8) +\n",
      "/Users/susu/anaconda/lib/python3.5/site-packages/numdifftools/limits.py:152: RuntimeWarning: invalid value encountered in less\n",
      "  ((der < p25-1.5*iqr) + (p75+1.5*iqr < der)))\n",
      "/Users/susu/anaconda/lib/python3.5/site-packages/ipykernel/__main__.py:8: RuntimeWarning: divide by zero encountered in log\n",
      "/Users/susu/anaconda/lib/python3.5/site-packages/ipykernel/__main__.py:8: RuntimeWarning: invalid value encountered in multiply\n",
      "/Users/susu/anaconda/lib/python3.5/site-packages/ipykernel/__main__.py:8: RuntimeWarning: invalid value encountered in log\n",
      "/Users/susu/anaconda/lib/python3.5/site-packages/numdifftools/extrapolation.py:443: RuntimeWarning: invalid value encountered in less_equal\n",
      "  converged = err <= tol\n",
      "/Users/susu/anaconda/lib/python3.5/site-packages/numdifftools/limits.py:150: RuntimeWarning: invalid value encountered in less\n",
      "  outliers = (((abs(der) < (a_median / trim_fact)) +\n",
      "/Users/susu/anaconda/lib/python3.5/site-packages/numdifftools/limits.py:151: RuntimeWarning: invalid value encountered in greater\n",
      "  (abs(der) > (a_median * trim_fact))) * (a_median > 1e-8) +\n",
      "/Users/susu/anaconda/lib/python3.5/site-packages/numdifftools/limits.py:152: RuntimeWarning: invalid value encountered in less\n",
      "  ((der < p25-1.5*iqr) + (p75+1.5*iqr < der)))\n",
      "/Users/susu/anaconda/lib/python3.5/site-packages/ipykernel/__main__.py:8: RuntimeWarning: divide by zero encountered in log\n",
      "/Users/susu/anaconda/lib/python3.5/site-packages/ipykernel/__main__.py:8: RuntimeWarning: invalid value encountered in multiply\n",
      "/Users/susu/anaconda/lib/python3.5/site-packages/ipykernel/__main__.py:8: RuntimeWarning: invalid value encountered in log\n",
      "/Users/susu/anaconda/lib/python3.5/site-packages/numdifftools/extrapolation.py:443: RuntimeWarning: invalid value encountered in less_equal\n",
      "  converged = err <= tol\n",
      "/Users/susu/anaconda/lib/python3.5/site-packages/numdifftools/limits.py:150: RuntimeWarning: invalid value encountered in less\n",
      "  outliers = (((abs(der) < (a_median / trim_fact)) +\n",
      "/Users/susu/anaconda/lib/python3.5/site-packages/numdifftools/limits.py:151: RuntimeWarning: invalid value encountered in greater\n",
      "  (abs(der) > (a_median * trim_fact))) * (a_median > 1e-8) +\n",
      "/Users/susu/anaconda/lib/python3.5/site-packages/numdifftools/limits.py:152: RuntimeWarning: invalid value encountered in less\n",
      "  ((der < p25-1.5*iqr) + (p75+1.5*iqr < der)))\n",
      "/Users/susu/anaconda/lib/python3.5/site-packages/ipykernel/__main__.py:8: RuntimeWarning: divide by zero encountered in log\n",
      "/Users/susu/anaconda/lib/python3.5/site-packages/ipykernel/__main__.py:8: RuntimeWarning: invalid value encountered in multiply\n",
      "/Users/susu/anaconda/lib/python3.5/site-packages/ipykernel/__main__.py:8: RuntimeWarning: invalid value encountered in log\n",
      "/Users/susu/anaconda/lib/python3.5/site-packages/numdifftools/extrapolation.py:443: RuntimeWarning: invalid value encountered in less_equal\n",
      "  converged = err <= tol\n",
      "/Users/susu/anaconda/lib/python3.5/site-packages/numdifftools/limits.py:150: RuntimeWarning: invalid value encountered in less\n",
      "  outliers = (((abs(der) < (a_median / trim_fact)) +\n",
      "/Users/susu/anaconda/lib/python3.5/site-packages/numdifftools/limits.py:151: RuntimeWarning: invalid value encountered in greater\n",
      "  (abs(der) > (a_median * trim_fact))) * (a_median > 1e-8) +\n",
      "/Users/susu/anaconda/lib/python3.5/site-packages/numdifftools/limits.py:152: RuntimeWarning: invalid value encountered in less\n",
      "  ((der < p25-1.5*iqr) + (p75+1.5*iqr < der)))\n",
      "/Users/susu/anaconda/lib/python3.5/site-packages/ipykernel/__main__.py:8: RuntimeWarning: divide by zero encountered in log\n",
      "/Users/susu/anaconda/lib/python3.5/site-packages/ipykernel/__main__.py:8: RuntimeWarning: invalid value encountered in multiply\n",
      "/Users/susu/anaconda/lib/python3.5/site-packages/ipykernel/__main__.py:8: RuntimeWarning: invalid value encountered in log\n"
     ]
    },
    {
     "name": "stdout",
     "output_type": "stream",
     "text": [
      "NR終わり\n"
     ]
    },
    {
     "name": "stderr",
     "output_type": "stream",
     "text": [
      "/Users/susu/anaconda/lib/python3.5/site-packages/numdifftools/extrapolation.py:443: RuntimeWarning: invalid value encountered in less_equal\n",
      "  converged = err <= tol\n",
      "/Users/susu/anaconda/lib/python3.5/site-packages/numdifftools/limits.py:150: RuntimeWarning: invalid value encountered in less\n",
      "  outliers = (((abs(der) < (a_median / trim_fact)) +\n",
      "/Users/susu/anaconda/lib/python3.5/site-packages/numdifftools/limits.py:151: RuntimeWarning: invalid value encountered in greater\n",
      "  (abs(der) > (a_median * trim_fact))) * (a_median > 1e-8) +\n",
      "/Users/susu/anaconda/lib/python3.5/site-packages/numdifftools/limits.py:152: RuntimeWarning: invalid value encountered in less\n",
      "  ((der < p25-1.5*iqr) + (p75+1.5*iqr < der)))\n"
     ]
    }
   ],
   "source": [
    "result_brM = NR(initial, brM, tole, maxx)"
   ]
  },
  {
   "cell_type": "code",
   "execution_count": 110,
   "metadata": {
    "collapsed": false
   },
   "outputs": [
    {
     "data": {
      "text/plain": [
       "array([ 0.6965522 , -0.42540351, -0.0150792 ])"
      ]
     },
     "execution_count": 110,
     "metadata": {},
     "output_type": "execute_result"
    }
   ],
   "source": [
    "result_brM"
   ]
  },
  {
   "cell_type": "code",
   "execution_count": 113,
   "metadata": {
    "collapsed": true
   },
   "outputs": [],
   "source": [
    "def hausmanM(result1, result2):\n",
    "    # ここ違くない？\n",
    "    # サンプルの一つずつに対してヘッセを計算して、足し合わせるんでしょ？\n",
    "    H_br = nd.Hessian(brM)(result1)\n",
    "    inv_H_br = inv(H_br)\n",
    "    tri_1 = -inv_H_br\n",
    "\n",
    "    J_br = nd.Jacobian(brM1)(result1)\n",
    "    circle_1 = np.dot(J_br.T, J_br)\n",
    "\n",
    "    G_rob = nd.Gradient(robust)(result2)\n",
    "    a = np.matrix(G_rob)\n",
    "    tri_3 = -np.dot(inv(np.dot(a.T, a)), a.T)\n",
    "\n",
    "    b = np.matrix(robust1(result2)).T\n",
    "    circle_3 = np.dot(J_br.T, b)\n",
    "\n",
    "    circle_6 = robust(result2)\n",
    "\n",
    "    A_11 = np.dot(np.dot(tri_1, circle_1), tri_1.T)\n",
    "    A_33 = np.dot(np.dot(tri_3, circle_6), tri_3.T)\n",
    "    A_13 = np.dot(np.dot(tri_1, circle_3), tri_3.T)\n",
    "    A_31 = np.dot(np.dot(tri_3, circle_3.T), tri_1.T)\n",
    "    \n",
    "    avar = A_11 - A_13 -A_31 + A_33\n",
    "    gap = np.matrix(result1 - result2)\n",
    "    h = np.dot(np.dot(gap, inv(avar)), gap.T)\n",
    "    \n",
    "    return h, np.rank(avar)"
   ]
  },
  {
   "cell_type": "code",
   "execution_count": 114,
   "metadata": {
    "collapsed": false
   },
   "outputs": [
    {
     "name": "stderr",
     "output_type": "stream",
     "text": [
      "/Users/susu/anaconda/lib/python3.5/site-packages/ipykernel/__main__.py:8: RuntimeWarning: divide by zero encountered in log\n",
      "/Users/susu/anaconda/lib/python3.5/site-packages/ipykernel/__main__.py:8: RuntimeWarning: invalid value encountered in multiply\n",
      "/Users/susu/anaconda/lib/python3.5/site-packages/ipykernel/__main__.py:8: RuntimeWarning: invalid value encountered in log\n",
      "/Users/susu/anaconda/lib/python3.5/site-packages/numdifftools/extrapolation.py:443: RuntimeWarning: invalid value encountered in less_equal\n",
      "  converged = err <= tol\n",
      "/Users/susu/anaconda/lib/python3.5/site-packages/numdifftools/limits.py:150: RuntimeWarning: invalid value encountered in less\n",
      "  outliers = (((abs(der) < (a_median / trim_fact)) +\n",
      "/Users/susu/anaconda/lib/python3.5/site-packages/numdifftools/limits.py:151: RuntimeWarning: invalid value encountered in greater\n",
      "  (abs(der) > (a_median * trim_fact))) * (a_median > 1e-8) +\n",
      "/Users/susu/anaconda/lib/python3.5/site-packages/numdifftools/limits.py:152: RuntimeWarning: invalid value encountered in less\n",
      "  ((der < p25-1.5*iqr) + (p75+1.5*iqr < der)))\n",
      "/Users/susu/anaconda/lib/python3.5/site-packages/ipykernel/__main__.py:14: RuntimeWarning: divide by zero encountered in log\n",
      "/Users/susu/anaconda/lib/python3.5/site-packages/ipykernel/__main__.py:14: RuntimeWarning: invalid value encountered in multiply\n",
      "/Users/susu/anaconda/lib/python3.5/site-packages/ipykernel/__main__.py:14: RuntimeWarning: invalid value encountered in log\n",
      "/Users/susu/anaconda/lib/python3.5/site-packages/numdifftools/extrapolation.py:443: RuntimeWarning: invalid value encountered in less_equal\n",
      "  converged = err <= tol\n",
      "/Users/susu/anaconda/lib/python3.5/site-packages/numdifftools/limits.py:150: RuntimeWarning: invalid value encountered in less\n",
      "  outliers = (((abs(der) < (a_median / trim_fact)) +\n",
      "/Users/susu/anaconda/lib/python3.5/site-packages/numdifftools/limits.py:151: RuntimeWarning: invalid value encountered in greater\n",
      "  (abs(der) > (a_median * trim_fact))) * (a_median > 1e-8) +\n",
      "/Users/susu/anaconda/lib/python3.5/site-packages/numdifftools/limits.py:152: RuntimeWarning: invalid value encountered in less\n",
      "  ((der < p25-1.5*iqr) + (p75+1.5*iqr < der)))\n",
      "/Users/susu/anaconda/lib/python3.5/site-packages/numpy/core/fromnumeric.py:2699: VisibleDeprecationWarning: `rank` is deprecated; use the `ndim` attribute or function instead. To find the rank of a matrix see `numpy.linalg.matrix_rank`.\n",
      "  VisibleDeprecationWarning)\n"
     ]
    },
    {
     "data": {
      "text/plain": [
       "(matrix([[-13591.21281722]]), 2)"
      ]
     },
     "execution_count": 114,
     "metadata": {},
     "output_type": "execute_result"
    }
   ],
   "source": [
    "hausmanM(result_brM, result_rob2)"
   ]
  },
  {
   "cell_type": "code",
   "execution_count": null,
   "metadata": {
    "collapsed": true
   },
   "outputs": [],
   "source": []
  }
 ],
 "metadata": {
  "kernelspec": {
   "display_name": "Python 3",
   "language": "python",
   "name": "python3"
  },
  "language_info": {
   "codemirror_mode": {
    "name": "ipython",
    "version": 3
   },
   "file_extension": ".py",
   "mimetype": "text/x-python",
   "name": "python",
   "nbconvert_exporter": "python",
   "pygments_lexer": "ipython3",
   "version": "3.5.1"
  }
 },
 "nbformat": 4,
 "nbformat_minor": 2
}
