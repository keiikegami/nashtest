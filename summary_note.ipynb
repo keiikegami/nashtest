{
 "cells": [
  {
   "cell_type": "markdown",
   "metadata": {},
   "source": [
    "# まとめノート\n",
    "\n",
    "今までの話をまとめる"
   ]
  },
  {
   "cell_type": "code",
   "execution_count": 1,
   "metadata": {
    "collapsed": true
   },
   "outputs": [],
   "source": [
    "import numpy as np\n",
    "import scipy.stats as st\n",
    "import matplotlib.pyplot as plt\n",
    "% matplotlib inline\n",
    "import pandas as pd\n",
    "from mpl_toolkits.mplot3d import Axes3D\n",
    "from matplotlib import cm\n",
    "from numpy.linalg import inv\n",
    "from numpy.random import *\n",
    "import numdifftools as nd\n",
    "from sklearn import linear_model"
   ]
  },
  {
   "cell_type": "markdown",
   "metadata": {},
   "source": [
    "## サンプルデータ"
   ]
  },
  {
   "cell_type": "code",
   "execution_count": 2,
   "metadata": {
    "collapsed": true
   },
   "outputs": [],
   "source": [
    "a = st.uniform()\n",
    "s = st.norm()\n",
    "e = st.norm()\n",
    "M = 10000\n",
    "T = 3000\n",
    "random = 101\n",
    "beta1 = 0.8\n",
    "beta2 = -0.5\n",
    "beta3 = -0.5\n",
    "delta = -0.25"
   ]
  },
  {
   "cell_type": "code",
   "execution_count": 3,
   "metadata": {
    "collapsed": true
   },
   "outputs": [],
   "source": [
    "def mne(x, mu,delta,random, a):\n",
    "    prob_x = 1 + (mu + x[1])/delta\n",
    "    prob_y = 1 + (mu+x[0])/delta\n",
    "    probs = np.cumsum([prob_x*prob_y, (1-prob_x)*prob_y, prob_x*(1-prob_y), (1-prob_x)*(1-prob_y)])\n",
    "    prob = a.rvs(1, random_state = random)\n",
    "    ind = np.searchsorted(probs, prob)\n",
    "    if ind == 0:\n",
    "        return [0,0,0]\n",
    "    elif ind == 1:\n",
    "        return [1,0,2]\n",
    "    elif ind == 2:\n",
    "        return [0,1,1]\n",
    "    else:\n",
    "        return [1,1,3]\n",
    "\n",
    "def nash(x, true_mu, true_delta, random, a):\n",
    "    if x[0] < -true_mu:\n",
    "        if x[1] < -true_mu:\n",
    "            return [0,0,0]\n",
    "        else :\n",
    "            return [0,1,1]\n",
    "    elif -true_mu < x[0] < -true_mu -true_delta:\n",
    "        if x[1] < -true_mu:\n",
    "            return [1,0,2]\n",
    "        elif -true_mu < x[1] < -true_mu -true_delta:\n",
    "            return mne(x, true_mu,true_delta, random, a)\n",
    "        else:\n",
    "            return [0,1,1]\n",
    "    else:\n",
    "        if x[1] < -true_mu -true_delta:\n",
    "            return [1,0,2]\n",
    "        else:\n",
    "            return [1,1,3]\n",
    "        \n",
    "def diff(p):\n",
    "    p_0 = sum([True for i in data2[p, :, 2] if i == 0.0])/T\n",
    "    p_2 = sum([True for i in data2[p, :, 2] if i == 3.0])/T\n",
    "    return p_0 - p_2\n",
    "\n",
    "def num(p):\n",
    "    num0 = sum([True for i in data2[p, :, 2] if i == 0.0])\n",
    "    num2 = sum([True for i in data2[p, :, 2] if i == 3.0])\n",
    "    num1 = T - num0 - num2\n",
    "    return num0, num1, num2"
   ]
  },
  {
   "cell_type": "code",
   "execution_count": 4,
   "metadata": {
    "collapsed": true
   },
   "outputs": [],
   "source": [
    "# M市場分のデータを作る。\n",
    "data = e.rvs(size = (M,3), random_state = 101)\n",
    "eps = s.rvs(size = (M,T,2), random_state = 18)\n",
    "data2 = np.ones((M,T,3))\n",
    "for m in range(M):\n",
    "    for t in range(T):\n",
    "        data2[m, t, :] = nash(eps[m, t, :], data[m, 0]*beta1 + data[m, 1]*beta2, delta, random, a)\n",
    "\n",
    "d = np.array([diff(p) for p in range(M)])\n",
    "d2 = np.reshape(np.array([num(p) for p in range(M)]), (M, 3))\n",
    "df = pd.DataFrame({\"Pop\" : data[:,0], \"Dist1\" : data[:, 1], \"Dist2\" : data[:, 2], \"diff\" : d, \"num0\":d2[:, 0], \"num1\":d2[:, 1], \"num2\":d2[:, 2]})\n",
    "df2 = df[(beta1 * df.Pop + beta2 * df.Dist1 + delta > 0) & (beta1 * df.Pop + beta2 * df.Dist2 + delta > 0)]\n",
    "df2.to_csv(\"robust_norm.csv\")"
   ]
  },
  {
   "cell_type": "markdown",
   "metadata": {},
   "source": [
    "## 推定"
   ]
  },
  {
   "cell_type": "code",
   "execution_count": 5,
   "metadata": {
    "collapsed": true
   },
   "outputs": [],
   "source": [
    "df = pd.read_csv(\"robust_norm.csv\")\n",
    "pop = df[[\"Pop\"]].values[:, 0]\n",
    "dist1 = df[[\"Dist1\"]].values[:, 0]\n",
    "dist2 = df[[\"Dist2\"]].values[:, 0]\n",
    "num0 = df[[\"num0\"]].values[:, 0]\n",
    "num2 = df[[\"num2\"]].values[:, 0]\n",
    "diff = df[[\"diff\"]].values[:, 0]"
   ]
  },
  {
   "cell_type": "code",
   "execution_count": 6,
   "metadata": {
    "collapsed": true
   },
   "outputs": [],
   "source": [
    "def br(x):\n",
    "    xb1 = x[0] * pop + x[1] * dist1\n",
    "    xb2 = x[0] * pop + x[1] * dist2\n",
    "    logl = num0*(np.log(s.cdf(-xb1)*s.cdf(-xb2)) -np.log(1-s.cdf(-xb1)*s.cdf(-xb2)-s.cdf(xb1+x[2])*s.cdf(xb2+x[2]))) \\\n",
    "    + num2*(np.log(s.cdf(xb1+x[2])*s.cdf(xb2+x[2])) - np.log(1-s.cdf(-xb1)*s.cdf(-xb2)-s.cdf(xb1+x[2])*s.cdf(xb2+x[2])))\\\n",
    "    + T*np.log(1-s.cdf(-xb1)*s.cdf(-xb2)-s.cdf(xb1+x[2])*s.cdf(xb2+x[2]))\n",
    "    return sum(logl)\n",
    "\n",
    "def br1(x):\n",
    "    xb1 = x[0] * pop + x[1] * dist1\n",
    "    xb2 = x[0] * pop + x[1] * dist2\n",
    "    logl = num0*(np.log(s.cdf(-xb1)*s.cdf(-xb2)) -np.log(1-s.cdf(-xb1)*s.cdf(-xb2)-s.cdf(xb1+x[2])*s.cdf(xb2+x[2]))) \\\n",
    "    + num2*(np.log(s.cdf(xb1+x[2])*s.cdf(xb2+x[2])) - np.log(1-s.cdf(-xb1)*s.cdf(-xb2)-s.cdf(xb1+x[2])*s.cdf(xb2+x[2])))\\\n",
    "    + T*np.log(1-s.cdf(-xb1)*s.cdf(-xb2)-s.cdf(xb1+x[2])*s.cdf(xb2+x[2]))\n",
    "    return logl\n",
    "\n",
    "def robust(x):\n",
    "    xb1 = x[0] * pop + x[1] * dist1\n",
    "    xb2 = x[0] * pop + x[1] * dist2\n",
    "    r = (diff + s.cdf(xb1 + x[2])*s.cdf(xb2 + x[2]) - s.cdf(-xb1)*s.cdf(-xb2))**2\n",
    "    return -sum(r)\n",
    "\n",
    "def robust1(x):\n",
    "    xb1 = x[0] * pop + x[1] * dist1\n",
    "    xb2 = x[0] * pop + x[1] * dist2\n",
    "    r = diff + s.cdf(xb1 + x[2])*s.cdf(xb2 + x[2]) - s.cdf(-xb1)*s.cdf(-xb2)\n",
    "    return r\n",
    "\n",
    "def NR(initial, fun, tol, maxit):\n",
    "    theta = initial\n",
    "    for i in range(0,maxit):\n",
    "        G = nd.Gradient(fun)(theta)\n",
    "        H = nd.Hessian(fun)(theta)\n",
    "        del_theta = inv(H).dot(G)\n",
    "        theta = theta - del_theta\n",
    "        if np.linalg.norm(del_theta) < tol:\n",
    "            print(\"NR終わり\")\n",
    "            break\n",
    "    return theta"
   ]
  },
  {
   "cell_type": "code",
   "execution_count": 7,
   "metadata": {
    "collapsed": false
   },
   "outputs": [
    {
     "name": "stderr",
     "output_type": "stream",
     "text": [
      "/Users/susu/anaconda/lib/python3.5/site-packages/ipykernel/__main__.py:4: RuntimeWarning: divide by zero encountered in log\n",
      "/Users/susu/anaconda/lib/python3.5/site-packages/ipykernel/__main__.py:4: RuntimeWarning: invalid value encountered in multiply\n",
      "/Users/susu/anaconda/lib/python3.5/site-packages/ipykernel/__main__.py:4: RuntimeWarning: invalid value encountered in log\n",
      "/Users/susu/anaconda/lib/python3.5/site-packages/numdifftools/extrapolation.py:443: RuntimeWarning: invalid value encountered in less_equal\n",
      "  converged = err <= tol\n",
      "/Users/susu/anaconda/lib/python3.5/site-packages/numdifftools/limits.py:150: RuntimeWarning: invalid value encountered in less\n",
      "  outliers = (((abs(der) < (a_median / trim_fact)) +\n",
      "/Users/susu/anaconda/lib/python3.5/site-packages/numdifftools/limits.py:151: RuntimeWarning: invalid value encountered in greater\n",
      "  (abs(der) > (a_median * trim_fact))) * (a_median > 1e-8) +\n",
      "/Users/susu/anaconda/lib/python3.5/site-packages/numdifftools/limits.py:152: RuntimeWarning: invalid value encountered in less\n",
      "  ((der < p25-1.5*iqr) + (p75+1.5*iqr < der)))\n",
      "/Users/susu/anaconda/lib/python3.5/site-packages/ipykernel/__main__.py:4: RuntimeWarning: divide by zero encountered in log\n",
      "/Users/susu/anaconda/lib/python3.5/site-packages/ipykernel/__main__.py:4: RuntimeWarning: invalid value encountered in multiply\n",
      "/Users/susu/anaconda/lib/python3.5/site-packages/ipykernel/__main__.py:4: RuntimeWarning: invalid value encountered in add\n",
      "/Users/susu/anaconda/lib/python3.5/site-packages/ipykernel/__main__.py:4: RuntimeWarning: invalid value encountered in log\n",
      "/Users/susu/anaconda/lib/python3.5/site-packages/numdifftools/extrapolation.py:443: RuntimeWarning: invalid value encountered in less_equal\n",
      "  converged = err <= tol\n",
      "/Users/susu/anaconda/lib/python3.5/site-packages/numdifftools/limits.py:150: RuntimeWarning: invalid value encountered in less\n",
      "  outliers = (((abs(der) < (a_median / trim_fact)) +\n",
      "/Users/susu/anaconda/lib/python3.5/site-packages/numdifftools/limits.py:151: RuntimeWarning: invalid value encountered in greater\n",
      "  (abs(der) > (a_median * trim_fact))) * (a_median > 1e-8) +\n",
      "/Users/susu/anaconda/lib/python3.5/site-packages/numdifftools/limits.py:152: RuntimeWarning: invalid value encountered in less\n",
      "  ((der < p25-1.5*iqr) + (p75+1.5*iqr < der)))\n",
      "/Users/susu/anaconda/lib/python3.5/site-packages/ipykernel/__main__.py:4: RuntimeWarning: divide by zero encountered in log\n",
      "/Users/susu/anaconda/lib/python3.5/site-packages/ipykernel/__main__.py:4: RuntimeWarning: invalid value encountered in multiply\n",
      "/Users/susu/anaconda/lib/python3.5/site-packages/ipykernel/__main__.py:4: RuntimeWarning: invalid value encountered in log\n",
      "/Users/susu/anaconda/lib/python3.5/site-packages/numdifftools/extrapolation.py:443: RuntimeWarning: invalid value encountered in less_equal\n",
      "  converged = err <= tol\n",
      "/Users/susu/anaconda/lib/python3.5/site-packages/numdifftools/limits.py:150: RuntimeWarning: invalid value encountered in less\n",
      "  outliers = (((abs(der) < (a_median / trim_fact)) +\n",
      "/Users/susu/anaconda/lib/python3.5/site-packages/numdifftools/limits.py:151: RuntimeWarning: invalid value encountered in greater\n",
      "  (abs(der) > (a_median * trim_fact))) * (a_median > 1e-8) +\n",
      "/Users/susu/anaconda/lib/python3.5/site-packages/numdifftools/limits.py:152: RuntimeWarning: invalid value encountered in less\n",
      "  ((der < p25-1.5*iqr) + (p75+1.5*iqr < der)))\n",
      "/Users/susu/anaconda/lib/python3.5/site-packages/ipykernel/__main__.py:4: RuntimeWarning: divide by zero encountered in log\n",
      "/Users/susu/anaconda/lib/python3.5/site-packages/ipykernel/__main__.py:4: RuntimeWarning: invalid value encountered in multiply\n",
      "/Users/susu/anaconda/lib/python3.5/site-packages/ipykernel/__main__.py:4: RuntimeWarning: invalid value encountered in add\n",
      "/Users/susu/anaconda/lib/python3.5/site-packages/ipykernel/__main__.py:4: RuntimeWarning: invalid value encountered in log\n",
      "/Users/susu/anaconda/lib/python3.5/site-packages/numdifftools/extrapolation.py:443: RuntimeWarning: invalid value encountered in less_equal\n",
      "  converged = err <= tol\n",
      "/Users/susu/anaconda/lib/python3.5/site-packages/numdifftools/limits.py:150: RuntimeWarning: invalid value encountered in less\n",
      "  outliers = (((abs(der) < (a_median / trim_fact)) +\n",
      "/Users/susu/anaconda/lib/python3.5/site-packages/numdifftools/limits.py:151: RuntimeWarning: invalid value encountered in greater\n",
      "  (abs(der) > (a_median * trim_fact))) * (a_median > 1e-8) +\n",
      "/Users/susu/anaconda/lib/python3.5/site-packages/numdifftools/limits.py:152: RuntimeWarning: invalid value encountered in less\n",
      "  ((der < p25-1.5*iqr) + (p75+1.5*iqr < der)))\n",
      "/Users/susu/anaconda/lib/python3.5/site-packages/ipykernel/__main__.py:4: RuntimeWarning: divide by zero encountered in log\n",
      "/Users/susu/anaconda/lib/python3.5/site-packages/ipykernel/__main__.py:4: RuntimeWarning: invalid value encountered in multiply\n",
      "/Users/susu/anaconda/lib/python3.5/site-packages/ipykernel/__main__.py:4: RuntimeWarning: invalid value encountered in log\n",
      "/Users/susu/anaconda/lib/python3.5/site-packages/numdifftools/extrapolation.py:443: RuntimeWarning: invalid value encountered in less_equal\n",
      "  converged = err <= tol\n",
      "/Users/susu/anaconda/lib/python3.5/site-packages/numdifftools/limits.py:150: RuntimeWarning: invalid value encountered in less\n",
      "  outliers = (((abs(der) < (a_median / trim_fact)) +\n",
      "/Users/susu/anaconda/lib/python3.5/site-packages/numdifftools/limits.py:151: RuntimeWarning: invalid value encountered in greater\n",
      "  (abs(der) > (a_median * trim_fact))) * (a_median > 1e-8) +\n",
      "/Users/susu/anaconda/lib/python3.5/site-packages/numdifftools/limits.py:152: RuntimeWarning: invalid value encountered in less\n",
      "  ((der < p25-1.5*iqr) + (p75+1.5*iqr < der)))\n",
      "/Users/susu/anaconda/lib/python3.5/site-packages/ipykernel/__main__.py:4: RuntimeWarning: divide by zero encountered in log\n",
      "/Users/susu/anaconda/lib/python3.5/site-packages/ipykernel/__main__.py:4: RuntimeWarning: invalid value encountered in multiply\n",
      "/Users/susu/anaconda/lib/python3.5/site-packages/ipykernel/__main__.py:4: RuntimeWarning: invalid value encountered in add\n",
      "/Users/susu/anaconda/lib/python3.5/site-packages/ipykernel/__main__.py:4: RuntimeWarning: invalid value encountered in log\n",
      "/Users/susu/anaconda/lib/python3.5/site-packages/numdifftools/extrapolation.py:443: RuntimeWarning: invalid value encountered in less_equal\n",
      "  converged = err <= tol\n",
      "/Users/susu/anaconda/lib/python3.5/site-packages/numdifftools/limits.py:150: RuntimeWarning: invalid value encountered in less\n",
      "  outliers = (((abs(der) < (a_median / trim_fact)) +\n",
      "/Users/susu/anaconda/lib/python3.5/site-packages/numdifftools/limits.py:151: RuntimeWarning: invalid value encountered in greater\n",
      "  (abs(der) > (a_median * trim_fact))) * (a_median > 1e-8) +\n",
      "/Users/susu/anaconda/lib/python3.5/site-packages/numdifftools/limits.py:152: RuntimeWarning: invalid value encountered in less\n",
      "  ((der < p25-1.5*iqr) + (p75+1.5*iqr < der)))\n",
      "/Users/susu/anaconda/lib/python3.5/site-packages/ipykernel/__main__.py:4: RuntimeWarning: divide by zero encountered in log\n",
      "/Users/susu/anaconda/lib/python3.5/site-packages/ipykernel/__main__.py:4: RuntimeWarning: invalid value encountered in multiply\n",
      "/Users/susu/anaconda/lib/python3.5/site-packages/ipykernel/__main__.py:4: RuntimeWarning: invalid value encountered in log\n",
      "/Users/susu/anaconda/lib/python3.5/site-packages/numdifftools/extrapolation.py:443: RuntimeWarning: invalid value encountered in less_equal\n",
      "  converged = err <= tol\n",
      "/Users/susu/anaconda/lib/python3.5/site-packages/numdifftools/limits.py:150: RuntimeWarning: invalid value encountered in less\n",
      "  outliers = (((abs(der) < (a_median / trim_fact)) +\n",
      "/Users/susu/anaconda/lib/python3.5/site-packages/numdifftools/limits.py:151: RuntimeWarning: invalid value encountered in greater\n",
      "  (abs(der) > (a_median * trim_fact))) * (a_median > 1e-8) +\n",
      "/Users/susu/anaconda/lib/python3.5/site-packages/numdifftools/limits.py:152: RuntimeWarning: invalid value encountered in less\n",
      "  ((der < p25-1.5*iqr) + (p75+1.5*iqr < der)))\n",
      "/Users/susu/anaconda/lib/python3.5/site-packages/ipykernel/__main__.py:4: RuntimeWarning: divide by zero encountered in log\n",
      "/Users/susu/anaconda/lib/python3.5/site-packages/ipykernel/__main__.py:4: RuntimeWarning: invalid value encountered in multiply\n",
      "/Users/susu/anaconda/lib/python3.5/site-packages/ipykernel/__main__.py:4: RuntimeWarning: invalid value encountered in add\n",
      "/Users/susu/anaconda/lib/python3.5/site-packages/ipykernel/__main__.py:4: RuntimeWarning: invalid value encountered in log\n",
      "/Users/susu/anaconda/lib/python3.5/site-packages/numdifftools/extrapolation.py:443: RuntimeWarning: invalid value encountered in less_equal\n",
      "  converged = err <= tol\n",
      "/Users/susu/anaconda/lib/python3.5/site-packages/numdifftools/limits.py:150: RuntimeWarning: invalid value encountered in less\n",
      "  outliers = (((abs(der) < (a_median / trim_fact)) +\n",
      "/Users/susu/anaconda/lib/python3.5/site-packages/numdifftools/limits.py:151: RuntimeWarning: invalid value encountered in greater\n",
      "  (abs(der) > (a_median * trim_fact))) * (a_median > 1e-8) +\n",
      "/Users/susu/anaconda/lib/python3.5/site-packages/numdifftools/limits.py:152: RuntimeWarning: invalid value encountered in less\n",
      "  ((der < p25-1.5*iqr) + (p75+1.5*iqr < der)))\n"
     ]
    },
    {
     "name": "stdout",
     "output_type": "stream",
     "text": [
      "NR終わり\n",
      "NR終わり\n"
     ]
    }
   ],
   "source": [
    "# 推定\n",
    "tole = 0.000005\n",
    "maxx = 100000\n",
    "initial = [0.8,-0.5,-0.25]\n",
    "result_br = NR(initial, br, tole, maxx)\n",
    "result_rob = NR(initial, robust, tole, maxx)"
   ]
  },
  {
   "cell_type": "code",
   "execution_count": 8,
   "metadata": {
    "collapsed": false
   },
   "outputs": [
    {
     "data": {
      "text/plain": [
       "array([ 0.73263699, -0.42756166, -0.14524672])"
      ]
     },
     "execution_count": 8,
     "metadata": {},
     "output_type": "execute_result"
    }
   ],
   "source": [
    "result_br"
   ]
  },
  {
   "cell_type": "code",
   "execution_count": 9,
   "metadata": {
    "collapsed": false
   },
   "outputs": [
    {
     "data": {
      "text/plain": [
       "array([ 0.7938106 , -0.48693054, -0.23378507])"
      ]
     },
     "execution_count": 9,
     "metadata": {},
     "output_type": "execute_result"
    }
   ],
   "source": [
    "result_rob"
   ]
  },
  {
   "cell_type": "markdown",
   "metadata": {},
   "source": [
    "## ハウスマン検定"
   ]
  },
  {
   "cell_type": "code",
   "execution_count": 10,
   "metadata": {
    "collapsed": true
   },
   "outputs": [],
   "source": [
    "def hausman(result1, result2):\n",
    "    H_br = nd.Hessian(br)(result1)\n",
    "    inv_H_br = inv(H_br)\n",
    "    tri_1 = -inv_H_br\n",
    "\n",
    "    J_br = nd.Jacobian(br1)(result1)\n",
    "    circle_1 = np.dot(J_br.T, J_br)\n",
    "\n",
    "    G_rob = nd.Gradient(robust)(result2)\n",
    "    a = np.matrix(G_rob)\n",
    "    tri_3 = -np.dot(inv(np.dot(a.T, a)), a.T)\n",
    "\n",
    "    b = np.matrix(robust1(result2)).T\n",
    "    circle_3 = np.dot(J_br.T, b)\n",
    "\n",
    "    circle_6 = robust(result2)\n",
    "\n",
    "    A_11 = np.dot(np.dot(tri_1, circle_1), tri_1.T)/M\n",
    "    A_33 = np.dot(np.dot(tri_3, circle_6), tri_3.T)/M\n",
    "    A_13 = np.dot(np.dot(tri_1, circle_3), tri_3.T)/M\n",
    "    A_31 = np.dot(np.dot(tri_3, circle_3.T), tri_1.T)/M\n",
    "    \n",
    "    avar = A_11 - A_13 -A_31 + A_33\n",
    "    gap = np.matrix(result1 - result2)\n",
    "    h = M * np.dot(np.dot(gap, inv(avar)), gap.T)\n",
    "    \n",
    "    return h, np.rank(avar)"
   ]
  },
  {
   "cell_type": "code",
   "execution_count": 11,
   "metadata": {
    "collapsed": false
   },
   "outputs": [
    {
     "name": "stderr",
     "output_type": "stream",
     "text": [
      "/Users/susu/anaconda/lib/python3.5/site-packages/ipykernel/__main__.py:4: RuntimeWarning: divide by zero encountered in log\n",
      "/Users/susu/anaconda/lib/python3.5/site-packages/ipykernel/__main__.py:4: RuntimeWarning: invalid value encountered in multiply\n",
      "/Users/susu/anaconda/lib/python3.5/site-packages/ipykernel/__main__.py:4: RuntimeWarning: invalid value encountered in add\n",
      "/Users/susu/anaconda/lib/python3.5/site-packages/ipykernel/__main__.py:4: RuntimeWarning: invalid value encountered in log\n",
      "/Users/susu/anaconda/lib/python3.5/site-packages/numdifftools/extrapolation.py:443: RuntimeWarning: invalid value encountered in less_equal\n",
      "  converged = err <= tol\n",
      "/Users/susu/anaconda/lib/python3.5/site-packages/numdifftools/limits.py:150: RuntimeWarning: invalid value encountered in less\n",
      "  outliers = (((abs(der) < (a_median / trim_fact)) +\n",
      "/Users/susu/anaconda/lib/python3.5/site-packages/numdifftools/limits.py:151: RuntimeWarning: invalid value encountered in greater\n",
      "  (abs(der) > (a_median * trim_fact))) * (a_median > 1e-8) +\n",
      "/Users/susu/anaconda/lib/python3.5/site-packages/numdifftools/limits.py:152: RuntimeWarning: invalid value encountered in less\n",
      "  ((der < p25-1.5*iqr) + (p75+1.5*iqr < der)))\n",
      "/Users/susu/anaconda/lib/python3.5/site-packages/ipykernel/__main__.py:10: RuntimeWarning: divide by zero encountered in log\n",
      "/Users/susu/anaconda/lib/python3.5/site-packages/ipykernel/__main__.py:10: RuntimeWarning: invalid value encountered in multiply\n",
      "/Users/susu/anaconda/lib/python3.5/site-packages/ipykernel/__main__.py:10: RuntimeWarning: invalid value encountered in log\n",
      "/Users/susu/anaconda/lib/python3.5/site-packages/numdifftools/extrapolation.py:443: RuntimeWarning: invalid value encountered in less_equal\n",
      "  converged = err <= tol\n",
      "/Users/susu/anaconda/lib/python3.5/site-packages/numdifftools/limits.py:150: RuntimeWarning: invalid value encountered in less\n",
      "  outliers = (((abs(der) < (a_median / trim_fact)) +\n",
      "/Users/susu/anaconda/lib/python3.5/site-packages/numdifftools/limits.py:151: RuntimeWarning: invalid value encountered in greater\n",
      "  (abs(der) > (a_median * trim_fact))) * (a_median > 1e-8) +\n",
      "/Users/susu/anaconda/lib/python3.5/site-packages/numdifftools/limits.py:152: RuntimeWarning: invalid value encountered in less\n",
      "  ((der < p25-1.5*iqr) + (p75+1.5*iqr < der)))\n",
      "/Users/susu/anaconda/lib/python3.5/site-packages/numpy/core/fromnumeric.py:2699: VisibleDeprecationWarning: `rank` is deprecated; use the `ndim` attribute or function instead. To find the rank of a matrix see `numpy.linalg.matrix_rank`.\n",
      "  VisibleDeprecationWarning)\n"
     ]
    }
   ],
   "source": [
    "h, rank = hausman(result_br, result_rob)"
   ]
  },
  {
   "cell_type": "code",
   "execution_count": 12,
   "metadata": {
    "collapsed": false
   },
   "outputs": [
    {
     "name": "stdout",
     "output_type": "stream",
     "text": [
      "[[  8.93550846e+09]]\n",
      "2\n"
     ]
    }
   ],
   "source": [
    "print(h)\n",
    "print(rank)"
   ]
  },
  {
   "cell_type": "markdown",
   "metadata": {},
   "source": [
    "## M市場ケース\n",
    "\n",
    "多分ロジットの予測を使うのは理論的に正しくない。\n",
    "\n",
    "ちゃんと定式化しよう。"
   ]
  },
  {
   "cell_type": "code",
   "execution_count": 25,
   "metadata": {
    "collapsed": false
   },
   "outputs": [],
   "source": [
    "# 実現した参入企業数を出す\n",
    "df = pd.read_csv(\"robust_norm.csv\")\n",
    "seed(1234)\n",
    "m = df.shape[0]\n",
    "draw = randint(1,T+1,m) \n",
    "df[\"draw\"] = draw\n",
    "df[\"realized_entry\"] = df.apply(lambda x: 0 if(x[\"draw\"] <= x[\"num0\"]) else 1 if(x[\"draw\"] <= x[\"num1\"]) else 2, axis = 1)"
   ]
  },
  {
   "cell_type": "markdown",
   "metadata": {},
   "source": [
    "df[\"popdist1\"] = df[\"Pop\"] * df[\"Dist1\"]\n",
    "df[\"popdist2\"]= df[\"Pop\"] * df[\"Dist2\"]\n",
    "df[\"dist1dist2\"]= df[\"Dist2\"] * df[\"Dist1\"]\n",
    "df[\"pop_sq\"] = df[\"Pop\"]**2\n",
    "df[\"dist1_sq\"] = df[\"Dist1\"]**2\n",
    "df[\"dist2_sq\"] = df[\"Dist2\"]**2\n",
    "\n",
    "df[\"pop_tr\"] = df[\"Pop\"]**3\n",
    "df[\"dist1_tr\"] = df[\"Dist1\"]**3\n",
    "df[\"dist2_tr\"] = df[\"Dist2\"]**3\n",
    "df[\"pop_sqdist1\"] = df[\"Pop\"]**2 * df[\"Dist1\"]\n",
    "df[\"pop_sqdist2\"] = df[\"Pop\"]**2 * df[\"Dist2\"]\n",
    "df[\"dist1_sqpop\"] = df[\"Pop\"] * df[\"Dist1\"]**2\n",
    "df[\"dist1_sqdist2\"] = df[\"Dist2\"] * df[\"Dist1\"]**2\n",
    "df[\"dist2_sqpop\"] = df[\"Pop\"] * df[\"Dist2\"]**2\n",
    "df[\"dist2_sqdist1\"] = df[\"Dist1\"] * df[\"Dist2\"]**2"
   ]
  },
  {
   "cell_type": "code",
   "execution_count": 26,
   "metadata": {
    "collapsed": false
   },
   "outputs": [
    {
     "data": {
      "text/plain": [
       "LogisticRegression(C=100000.0, class_weight=None, dual=False,\n",
       "          fit_intercept=True, intercept_scaling=1, max_iter=100,\n",
       "          multi_class='ovr', n_jobs=1, penalty='l1', random_state=None,\n",
       "          solver='liblinear', tol=0.0001, verbose=0, warm_start=False)"
      ]
     },
     "execution_count": 26,
     "metadata": {},
     "output_type": "execute_result"
    }
   ],
   "source": [
    "# logit\n",
    "logreg = linear_model.LogisticRegression(C=1e5, penalty='l1')\n",
    "Y = df.realized_entry\n",
    "X = df.drop([\"Unnamed: 0\", \"diff\", \"num0\", \"num1\", \"num2\", \"draw\", \"realized_entry\"],axis = 1)\n",
    "logreg.fit(X, Y)"
   ]
  },
  {
   "cell_type": "code",
   "execution_count": 27,
   "metadata": {
    "collapsed": false
   },
   "outputs": [
    {
     "data": {
      "text/plain": [
       "<matplotlib.collections.PathCollection at 0x13d68e278>"
      ]
     },
     "execution_count": 27,
     "metadata": {},
     "output_type": "execute_result"
    },
    {
     "data": {
      "image/png": "[encoded data removed]",
      "text/plain": [
       "<matplotlib.figure.Figure at 0x13d6fa0b8>"
      ]
     },
     "metadata": {},
     "output_type": "display_data"
    }
   ],
   "source": [
    "# diff estimation\n",
    "df[\"diff_est\"] = logreg.predict_proba(X)[:, 0] - logreg.predict_proba(X)[:, 2]\n",
    "d = df[\"diff\"].values\n",
    "d_est = df[\"diff_est\"].values\n",
    "plt.scatter(d, d_est)"
   ]
  },
  {
   "cell_type": "code",
   "execution_count": 28,
   "metadata": {
    "collapsed": false
   },
   "outputs": [
    {
     "name": "stdout",
     "output_type": "stream",
     "text": [
      "NR終わり\n"
     ]
    }
   ],
   "source": [
    "# 推定値を用いてRobust推定\n",
    "diff = df[[\"diff_est\"]].values[:, 0]\n",
    "result_rob2 = NR(initial, robust, tole, maxx)"
   ]
  },
  {
   "cell_type": "code",
   "execution_count": 29,
   "metadata": {
    "collapsed": false
   },
   "outputs": [
    {
     "data": {
      "text/plain": [
       "array([ 0.6218881 , -0.34439028,  0.11658492])"
      ]
     },
     "execution_count": 29,
     "metadata": {},
     "output_type": "execute_result"
    }
   ],
   "source": [
    "# サンプル数多くしてもバイアスは消えないな\n",
    "# 一致性がないならhausmanやっても仕方ない\n",
    "result_rob2"
   ]
  },
  {
   "cell_type": "code",
   "execution_count": null,
   "metadata": {
    "collapsed": true
   },
   "outputs": [],
   "source": []
  }
 ],
 "metadata": {
  "kernelspec": {
   "display_name": "Python 3",
   "language": "python",
   "name": "python3"
  },
  "language_info": {
   "codemirror_mode": {
    "name": "ipython",
    "version": 3
   },
   "file_extension": ".py",
   "mimetype": "text/x-python",
   "name": "python",
   "nbconvert_exporter": "python",
   "pygments_lexer": "ipython3",
   "version": "3.5.1"
  }
 },
 "nbformat": 4,
 "nbformat_minor": 2
}
