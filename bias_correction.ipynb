{
 "cells": [
  {
   "cell_type": "code",
   "execution_count": 1,
   "metadata": {
    "collapsed": true
   },
   "outputs": [],
   "source": [
    "import numpy as np\n",
    "import scipy.stats as st\n",
    "import matplotlib.pyplot as plt\n",
    "% matplotlib inline\n",
    "import pandas as pd\n",
    "from mpl_toolkits.mplot3d import Axes3D\n",
    "from matplotlib import cm"
   ]
  },
  {
   "cell_type": "code",
   "execution_count": 2,
   "metadata": {
    "collapsed": false
   },
   "outputs": [],
   "source": [
    "e = st.norm()"
   ]
  },
  {
   "cell_type": "code",
   "execution_count": 3,
   "metadata": {
    "collapsed": false
   },
   "outputs": [],
   "source": [
    "def area_11(mu, delta):\n",
    "    return (1-e.cdf(-mu-delta))**2\n",
    "\n",
    "def area_00(mu,delta):\n",
    "    return (e.cdf(-mu))**2\n",
    "\n",
    "def star(mu,delta):\n",
    "    return (e.cdf(-mu-delta) - e.cdf(-mu))**2\n",
    "\n",
    "def corr_term_11(mu, delta):\n",
    "    return (mu*(e.cdf(-mu-delta)-e.cdf(-mu))/delta + (e.pdf(-mu)-e.pdf(-mu-delta))/delta)**2\n",
    "\n",
    "def corr_term_00(mu, delta):\n",
    "    return ((mu+delta)*(e.cdf(-mu-delta)-e.cdf(-mu))/delta + (e.pdf(-mu)-e.pdf(-mu-delta))/delta)**2\n",
    "\n",
    "def correct_ratio_11(mu,delta):\n",
    "    return area_11(mu,delta)/(area_11(mu,delta)+corr_term_11(mu, delta))\n",
    "\n",
    "def  correct_ratio_00(mu,delta):\n",
    "    return area_00(mu,delta)/(area_00(mu,delta)+corr_term_00(mu, delta))"
   ]
  },
  {
   "cell_type": "code",
   "execution_count": 4,
   "metadata": {
    "collapsed": false
   },
   "outputs": [
    {
     "name": "stderr",
     "output_type": "stream",
     "text": [
      "/Users/susu/anaconda/lib/python3.5/site-packages/ipykernel/__main__.py:14: RuntimeWarning: invalid value encountered in double_scalars\n"
     ]
    },
    {
     "ename": "KeyboardInterrupt",
     "evalue": "",
     "output_type": "error",
     "traceback": [
      "\u001b[0;31m---------------------------------------------------------------------------\u001b[0m",
      "\u001b[0;31mKeyboardInterrupt\u001b[0m                         Traceback (most recent call last)",
      "\u001b[0;32m<ipython-input-4-9fbdb8e0195f>\u001b[0m in \u001b[0;36m<module>\u001b[0;34m()\u001b[0m\n\u001b[1;32m      2\u001b[0m \u001b[0mdeltas\u001b[0m \u001b[0;34m=\u001b[0m \u001b[0mnp\u001b[0m\u001b[0;34m.\u001b[0m\u001b[0mlinspace\u001b[0m\u001b[0;34m(\u001b[0m\u001b[0;34m-\u001b[0m\u001b[0;36m20\u001b[0m\u001b[0;34m,\u001b[0m\u001b[0;36m0\u001b[0m\u001b[0;34m,\u001b[0m\u001b[0;36m200\u001b[0m\u001b[0;34m)\u001b[0m\u001b[0;34m\u001b[0m\u001b[0m\n\u001b[1;32m      3\u001b[0m \u001b[0mX1\u001b[0m\u001b[0;34m,\u001b[0m \u001b[0mX2\u001b[0m \u001b[0;34m=\u001b[0m \u001b[0mnp\u001b[0m\u001b[0;34m.\u001b[0m\u001b[0mmeshgrid\u001b[0m\u001b[0;34m(\u001b[0m\u001b[0mmus\u001b[0m\u001b[0;34m,\u001b[0m \u001b[0mdeltas\u001b[0m\u001b[0;34m)\u001b[0m\u001b[0;34m\u001b[0m\u001b[0m\n\u001b[0;32m----> 4\u001b[0;31m \u001b[0mz1\u001b[0m \u001b[0;34m=\u001b[0m \u001b[0mnp\u001b[0m\u001b[0;34m.\u001b[0m\u001b[0marray\u001b[0m\u001b[0;34m(\u001b[0m\u001b[0;34m[\u001b[0m\u001b[0mcorrect_ratio_00\u001b[0m\u001b[0;34m(\u001b[0m\u001b[0mmu\u001b[0m\u001b[0;34m,\u001b[0m \u001b[0mdelta\u001b[0m\u001b[0;34m)\u001b[0m \u001b[0;32mfor\u001b[0m \u001b[0mmu\u001b[0m \u001b[0;32min\u001b[0m \u001b[0mmus\u001b[0m \u001b[0;32mfor\u001b[0m \u001b[0mdelta\u001b[0m \u001b[0;32min\u001b[0m \u001b[0mdeltas\u001b[0m\u001b[0;34m]\u001b[0m\u001b[0;34m)\u001b[0m\u001b[0;34m.\u001b[0m\u001b[0mreshape\u001b[0m\u001b[0;34m(\u001b[0m\u001b[0mX1\u001b[0m\u001b[0;34m.\u001b[0m\u001b[0mshape\u001b[0m\u001b[0;34m)\u001b[0m\u001b[0;34m\u001b[0m\u001b[0m\n\u001b[0m\u001b[1;32m      5\u001b[0m \u001b[0mz2\u001b[0m \u001b[0;34m=\u001b[0m \u001b[0mnp\u001b[0m\u001b[0;34m.\u001b[0m\u001b[0marray\u001b[0m\u001b[0;34m(\u001b[0m\u001b[0;34m[\u001b[0m\u001b[0mcorrect_ratio_11\u001b[0m\u001b[0;34m(\u001b[0m\u001b[0mmu\u001b[0m\u001b[0;34m,\u001b[0m \u001b[0mdelta\u001b[0m\u001b[0;34m)\u001b[0m \u001b[0;32mfor\u001b[0m \u001b[0mmu\u001b[0m \u001b[0;32min\u001b[0m \u001b[0mmus\u001b[0m \u001b[0;32mfor\u001b[0m \u001b[0mdelta\u001b[0m \u001b[0;32min\u001b[0m \u001b[0mdeltas\u001b[0m\u001b[0;34m]\u001b[0m\u001b[0;34m)\u001b[0m\u001b[0;34m.\u001b[0m\u001b[0mreshape\u001b[0m\u001b[0;34m(\u001b[0m\u001b[0mX1\u001b[0m\u001b[0;34m.\u001b[0m\u001b[0mshape\u001b[0m\u001b[0;34m)\u001b[0m\u001b[0;34m\u001b[0m\u001b[0m\n",
      "\u001b[0;32m<ipython-input-4-9fbdb8e0195f>\u001b[0m in \u001b[0;36m<listcomp>\u001b[0;34m(.0)\u001b[0m\n\u001b[1;32m      2\u001b[0m \u001b[0mdeltas\u001b[0m \u001b[0;34m=\u001b[0m \u001b[0mnp\u001b[0m\u001b[0;34m.\u001b[0m\u001b[0mlinspace\u001b[0m\u001b[0;34m(\u001b[0m\u001b[0;34m-\u001b[0m\u001b[0;36m20\u001b[0m\u001b[0;34m,\u001b[0m\u001b[0;36m0\u001b[0m\u001b[0;34m,\u001b[0m\u001b[0;36m200\u001b[0m\u001b[0;34m)\u001b[0m\u001b[0;34m\u001b[0m\u001b[0m\n\u001b[1;32m      3\u001b[0m \u001b[0mX1\u001b[0m\u001b[0;34m,\u001b[0m \u001b[0mX2\u001b[0m \u001b[0;34m=\u001b[0m \u001b[0mnp\u001b[0m\u001b[0;34m.\u001b[0m\u001b[0mmeshgrid\u001b[0m\u001b[0;34m(\u001b[0m\u001b[0mmus\u001b[0m\u001b[0;34m,\u001b[0m \u001b[0mdeltas\u001b[0m\u001b[0;34m)\u001b[0m\u001b[0;34m\u001b[0m\u001b[0m\n\u001b[0;32m----> 4\u001b[0;31m \u001b[0mz1\u001b[0m \u001b[0;34m=\u001b[0m \u001b[0mnp\u001b[0m\u001b[0;34m.\u001b[0m\u001b[0marray\u001b[0m\u001b[0;34m(\u001b[0m\u001b[0;34m[\u001b[0m\u001b[0mcorrect_ratio_00\u001b[0m\u001b[0;34m(\u001b[0m\u001b[0mmu\u001b[0m\u001b[0;34m,\u001b[0m \u001b[0mdelta\u001b[0m\u001b[0;34m)\u001b[0m \u001b[0;32mfor\u001b[0m \u001b[0mmu\u001b[0m \u001b[0;32min\u001b[0m \u001b[0mmus\u001b[0m \u001b[0;32mfor\u001b[0m \u001b[0mdelta\u001b[0m \u001b[0;32min\u001b[0m \u001b[0mdeltas\u001b[0m\u001b[0;34m]\u001b[0m\u001b[0;34m)\u001b[0m\u001b[0;34m.\u001b[0m\u001b[0mreshape\u001b[0m\u001b[0;34m(\u001b[0m\u001b[0mX1\u001b[0m\u001b[0;34m.\u001b[0m\u001b[0mshape\u001b[0m\u001b[0;34m)\u001b[0m\u001b[0;34m\u001b[0m\u001b[0m\n\u001b[0m\u001b[1;32m      5\u001b[0m \u001b[0mz2\u001b[0m \u001b[0;34m=\u001b[0m \u001b[0mnp\u001b[0m\u001b[0;34m.\u001b[0m\u001b[0marray\u001b[0m\u001b[0;34m(\u001b[0m\u001b[0;34m[\u001b[0m\u001b[0mcorrect_ratio_11\u001b[0m\u001b[0;34m(\u001b[0m\u001b[0mmu\u001b[0m\u001b[0;34m,\u001b[0m \u001b[0mdelta\u001b[0m\u001b[0;34m)\u001b[0m \u001b[0;32mfor\u001b[0m \u001b[0mmu\u001b[0m \u001b[0;32min\u001b[0m \u001b[0mmus\u001b[0m \u001b[0;32mfor\u001b[0m \u001b[0mdelta\u001b[0m \u001b[0;32min\u001b[0m \u001b[0mdeltas\u001b[0m\u001b[0;34m]\u001b[0m\u001b[0;34m)\u001b[0m\u001b[0;34m.\u001b[0m\u001b[0mreshape\u001b[0m\u001b[0;34m(\u001b[0m\u001b[0mX1\u001b[0m\u001b[0;34m.\u001b[0m\u001b[0mshape\u001b[0m\u001b[0;34m)\u001b[0m\u001b[0;34m\u001b[0m\u001b[0m\n",
      "\u001b[0;32m<ipython-input-3-e6ec083b755d>\u001b[0m in \u001b[0;36mcorrect_ratio_00\u001b[0;34m(mu, delta)\u001b[0m\n\u001b[1;32m     18\u001b[0m \u001b[0;34m\u001b[0m\u001b[0m\n\u001b[1;32m     19\u001b[0m \u001b[0;32mdef\u001b[0m  \u001b[0mcorrect_ratio_00\u001b[0m\u001b[0;34m(\u001b[0m\u001b[0mmu\u001b[0m\u001b[0;34m,\u001b[0m\u001b[0mdelta\u001b[0m\u001b[0;34m)\u001b[0m\u001b[0;34m:\u001b[0m\u001b[0;34m\u001b[0m\u001b[0m\n\u001b[0;32m---> 20\u001b[0;31m     \u001b[0;32mreturn\u001b[0m \u001b[0marea_00\u001b[0m\u001b[0;34m(\u001b[0m\u001b[0mmu\u001b[0m\u001b[0;34m,\u001b[0m\u001b[0mdelta\u001b[0m\u001b[0;34m)\u001b[0m\u001b[0;34m/\u001b[0m\u001b[0;34m(\u001b[0m\u001b[0marea_00\u001b[0m\u001b[0;34m(\u001b[0m\u001b[0mmu\u001b[0m\u001b[0;34m,\u001b[0m\u001b[0mdelta\u001b[0m\u001b[0;34m)\u001b[0m\u001b[0;34m+\u001b[0m\u001b[0mcorr_term_00\u001b[0m\u001b[0;34m(\u001b[0m\u001b[0mmu\u001b[0m\u001b[0;34m,\u001b[0m \u001b[0mdelta\u001b[0m\u001b[0;34m)\u001b[0m\u001b[0;34m)\u001b[0m\u001b[0;34m\u001b[0m\u001b[0m\n\u001b[0m",
      "\u001b[0;32m<ipython-input-3-e6ec083b755d>\u001b[0m in \u001b[0;36mcorr_term_00\u001b[0;34m(mu, delta)\u001b[0m\n\u001b[1;32m     12\u001b[0m \u001b[0;34m\u001b[0m\u001b[0m\n\u001b[1;32m     13\u001b[0m \u001b[0;32mdef\u001b[0m \u001b[0mcorr_term_00\u001b[0m\u001b[0;34m(\u001b[0m\u001b[0mmu\u001b[0m\u001b[0;34m,\u001b[0m \u001b[0mdelta\u001b[0m\u001b[0;34m)\u001b[0m\u001b[0;34m:\u001b[0m\u001b[0;34m\u001b[0m\u001b[0m\n\u001b[0;32m---> 14\u001b[0;31m     \u001b[0;32mreturn\u001b[0m \u001b[0;34m(\u001b[0m\u001b[0;34m(\u001b[0m\u001b[0mmu\u001b[0m\u001b[0;34m+\u001b[0m\u001b[0mdelta\u001b[0m\u001b[0;34m)\u001b[0m\u001b[0;34m*\u001b[0m\u001b[0;34m(\u001b[0m\u001b[0me\u001b[0m\u001b[0;34m.\u001b[0m\u001b[0mcdf\u001b[0m\u001b[0;34m(\u001b[0m\u001b[0;34m-\u001b[0m\u001b[0mmu\u001b[0m\u001b[0;34m-\u001b[0m\u001b[0mdelta\u001b[0m\u001b[0;34m)\u001b[0m\u001b[0;34m-\u001b[0m\u001b[0me\u001b[0m\u001b[0;34m.\u001b[0m\u001b[0mcdf\u001b[0m\u001b[0;34m(\u001b[0m\u001b[0;34m-\u001b[0m\u001b[0mmu\u001b[0m\u001b[0;34m)\u001b[0m\u001b[0;34m)\u001b[0m\u001b[0;34m/\u001b[0m\u001b[0mdelta\u001b[0m \u001b[0;34m+\u001b[0m \u001b[0;34m(\u001b[0m\u001b[0me\u001b[0m\u001b[0;34m.\u001b[0m\u001b[0mpdf\u001b[0m\u001b[0;34m(\u001b[0m\u001b[0;34m-\u001b[0m\u001b[0mmu\u001b[0m\u001b[0;34m)\u001b[0m\u001b[0;34m-\u001b[0m\u001b[0me\u001b[0m\u001b[0;34m.\u001b[0m\u001b[0mpdf\u001b[0m\u001b[0;34m(\u001b[0m\u001b[0;34m-\u001b[0m\u001b[0mmu\u001b[0m\u001b[0;34m-\u001b[0m\u001b[0mdelta\u001b[0m\u001b[0;34m)\u001b[0m\u001b[0;34m)\u001b[0m\u001b[0;34m/\u001b[0m\u001b[0mdelta\u001b[0m\u001b[0;34m)\u001b[0m\u001b[0;34m**\u001b[0m\u001b[0;36m2\u001b[0m\u001b[0;34m\u001b[0m\u001b[0m\n\u001b[0m\u001b[1;32m     15\u001b[0m \u001b[0;34m\u001b[0m\u001b[0m\n\u001b[1;32m     16\u001b[0m \u001b[0;32mdef\u001b[0m \u001b[0mcorrect_ratio_11\u001b[0m\u001b[0;34m(\u001b[0m\u001b[0mmu\u001b[0m\u001b[0;34m,\u001b[0m\u001b[0mdelta\u001b[0m\u001b[0;34m)\u001b[0m\u001b[0;34m:\u001b[0m\u001b[0;34m\u001b[0m\u001b[0m\n",
      "\u001b[0;32m/Users/susu/anaconda/lib/python3.5/site-packages/scipy/stats/_distn_infrastructure.py\u001b[0m in \u001b[0;36mcdf\u001b[0;34m(self, x)\u001b[0m\n\u001b[1;32m    454\u001b[0m \u001b[0;34m\u001b[0m\u001b[0m\n\u001b[1;32m    455\u001b[0m     \u001b[0;32mdef\u001b[0m \u001b[0mcdf\u001b[0m\u001b[0;34m(\u001b[0m\u001b[0mself\u001b[0m\u001b[0;34m,\u001b[0m \u001b[0mx\u001b[0m\u001b[0;34m)\u001b[0m\u001b[0;34m:\u001b[0m\u001b[0;34m\u001b[0m\u001b[0m\n\u001b[0;32m--> 456\u001b[0;31m         \u001b[0;32mreturn\u001b[0m \u001b[0mself\u001b[0m\u001b[0;34m.\u001b[0m\u001b[0mdist\u001b[0m\u001b[0;34m.\u001b[0m\u001b[0mcdf\u001b[0m\u001b[0;34m(\u001b[0m\u001b[0mx\u001b[0m\u001b[0;34m,\u001b[0m \u001b[0;34m*\u001b[0m\u001b[0mself\u001b[0m\u001b[0;34m.\u001b[0m\u001b[0margs\u001b[0m\u001b[0;34m,\u001b[0m \u001b[0;34m**\u001b[0m\u001b[0mself\u001b[0m\u001b[0;34m.\u001b[0m\u001b[0mkwds\u001b[0m\u001b[0;34m)\u001b[0m\u001b[0;34m\u001b[0m\u001b[0m\n\u001b[0m\u001b[1;32m    457\u001b[0m \u001b[0;34m\u001b[0m\u001b[0m\n\u001b[1;32m    458\u001b[0m     \u001b[0;32mdef\u001b[0m \u001b[0mlogcdf\u001b[0m\u001b[0;34m(\u001b[0m\u001b[0mself\u001b[0m\u001b[0;34m,\u001b[0m \u001b[0mx\u001b[0m\u001b[0;34m)\u001b[0m\u001b[0;34m:\u001b[0m\u001b[0;34m\u001b[0m\u001b[0m\n",
      "\u001b[0;32m/Users/susu/anaconda/lib/python3.5/site-packages/scipy/stats/_distn_infrastructure.py\u001b[0m in \u001b[0;36mcdf\u001b[0;34m(self, x, *args, **kwds)\u001b[0m\n\u001b[1;32m   1738\u001b[0m         \u001b[0mplace\u001b[0m\u001b[0;34m(\u001b[0m\u001b[0moutput\u001b[0m\u001b[0;34m,\u001b[0m \u001b[0;34m(\u001b[0m\u001b[0;36m1\u001b[0m\u001b[0;34m-\u001b[0m\u001b[0mcond0\u001b[0m\u001b[0;34m)\u001b[0m\u001b[0;34m+\u001b[0m\u001b[0mnp\u001b[0m\u001b[0;34m.\u001b[0m\u001b[0misnan\u001b[0m\u001b[0;34m(\u001b[0m\u001b[0mx\u001b[0m\u001b[0;34m)\u001b[0m\u001b[0;34m,\u001b[0m \u001b[0mself\u001b[0m\u001b[0;34m.\u001b[0m\u001b[0mbadvalue\u001b[0m\u001b[0;34m)\u001b[0m\u001b[0;34m\u001b[0m\u001b[0m\n\u001b[1;32m   1739\u001b[0m         \u001b[0mplace\u001b[0m\u001b[0;34m(\u001b[0m\u001b[0moutput\u001b[0m\u001b[0;34m,\u001b[0m \u001b[0mcond2\u001b[0m\u001b[0;34m,\u001b[0m \u001b[0;36m1.0\u001b[0m\u001b[0;34m)\u001b[0m\u001b[0;34m\u001b[0m\u001b[0m\n\u001b[0;32m-> 1740\u001b[0;31m         \u001b[0;32mif\u001b[0m \u001b[0mnp\u001b[0m\u001b[0;34m.\u001b[0m\u001b[0many\u001b[0m\u001b[0;34m(\u001b[0m\u001b[0mcond\u001b[0m\u001b[0;34m)\u001b[0m\u001b[0;34m:\u001b[0m  \u001b[0;31m# call only if at least 1 entry\u001b[0m\u001b[0;34m\u001b[0m\u001b[0m\n\u001b[0m\u001b[1;32m   1741\u001b[0m             \u001b[0mgoodargs\u001b[0m \u001b[0;34m=\u001b[0m \u001b[0margsreduce\u001b[0m\u001b[0;34m(\u001b[0m\u001b[0mcond\u001b[0m\u001b[0;34m,\u001b[0m \u001b[0;34m*\u001b[0m\u001b[0;34m(\u001b[0m\u001b[0;34m(\u001b[0m\u001b[0mx\u001b[0m\u001b[0;34m,\u001b[0m\u001b[0;34m)\u001b[0m\u001b[0;34m+\u001b[0m\u001b[0margs\u001b[0m\u001b[0;34m)\u001b[0m\u001b[0;34m)\u001b[0m\u001b[0;34m\u001b[0m\u001b[0m\n\u001b[1;32m   1742\u001b[0m             \u001b[0mplace\u001b[0m\u001b[0;34m(\u001b[0m\u001b[0moutput\u001b[0m\u001b[0;34m,\u001b[0m \u001b[0mcond\u001b[0m\u001b[0;34m,\u001b[0m \u001b[0mself\u001b[0m\u001b[0;34m.\u001b[0m\u001b[0m_cdf\u001b[0m\u001b[0;34m(\u001b[0m\u001b[0;34m*\u001b[0m\u001b[0mgoodargs\u001b[0m\u001b[0;34m)\u001b[0m\u001b[0;34m)\u001b[0m\u001b[0;34m\u001b[0m\u001b[0m\n",
      "\u001b[0;32m/Users/susu/anaconda/lib/python3.5/site-packages/numpy/core/fromnumeric.py\u001b[0m in \u001b[0;36many\u001b[0;34m(a, axis, out, keepdims)\u001b[0m\n\u001b[1;32m   1982\u001b[0m     \u001b[0;32mif\u001b[0m \u001b[0mkeepdims\u001b[0m \u001b[0;32mis\u001b[0m \u001b[0;32mnot\u001b[0m \u001b[0mnp\u001b[0m\u001b[0;34m.\u001b[0m\u001b[0m_NoValue\u001b[0m\u001b[0;34m:\u001b[0m\u001b[0;34m\u001b[0m\u001b[0m\n\u001b[1;32m   1983\u001b[0m         \u001b[0mkwargs\u001b[0m\u001b[0;34m[\u001b[0m\u001b[0;34m'keepdims'\u001b[0m\u001b[0;34m]\u001b[0m \u001b[0;34m=\u001b[0m \u001b[0mkeepdims\u001b[0m\u001b[0;34m\u001b[0m\u001b[0m\n\u001b[0;32m-> 1984\u001b[0;31m     \u001b[0;32mreturn\u001b[0m \u001b[0marr\u001b[0m\u001b[0;34m.\u001b[0m\u001b[0many\u001b[0m\u001b[0;34m(\u001b[0m\u001b[0maxis\u001b[0m\u001b[0;34m=\u001b[0m\u001b[0maxis\u001b[0m\u001b[0;34m,\u001b[0m \u001b[0mout\u001b[0m\u001b[0;34m=\u001b[0m\u001b[0mout\u001b[0m\u001b[0;34m,\u001b[0m \u001b[0;34m**\u001b[0m\u001b[0mkwargs\u001b[0m\u001b[0;34m)\u001b[0m\u001b[0;34m\u001b[0m\u001b[0m\n\u001b[0m\u001b[1;32m   1985\u001b[0m \u001b[0;34m\u001b[0m\u001b[0m\n\u001b[1;32m   1986\u001b[0m \u001b[0;34m\u001b[0m\u001b[0m\n",
      "\u001b[0;31mKeyboardInterrupt\u001b[0m: "
     ]
    }
   ],
   "source": [
    "mus = np.linspace(-10,10,200)\n",
    "deltas = np.linspace(-20,0,200)\n",
    "X1, X2 = np.meshgrid(mus, deltas)\n",
    "z1 = np.array([correct_ratio_00(mu, delta) for mu in mus for delta in deltas]).reshape(X1.shape)\n",
    "z2 = np.array([correct_ratio_11(mu, delta) for mu in mus for delta in deltas]).reshape(X1.shape)"
   ]
  },
  {
   "cell_type": "code",
   "execution_count": null,
   "metadata": {
    "collapsed": false
   },
   "outputs": [],
   "source": [
    "# correct_ratio_00\n",
    "fig = plt.figure()\n",
    "ax = fig.gca(projection='3d')\n",
    "ax.plot_surface(X1, X2, z1, cmap=cm.coolwarm)\n",
    "plt.show()"
   ]
  },
  {
   "cell_type": "code",
   "execution_count": 6,
   "metadata": {
    "collapsed": false
   },
   "outputs": [
    {
     "name": "stderr",
     "output_type": "stream",
     "text": [
      "/Users/susu/anaconda/lib/python3.5/site-packages/matplotlib/colors.py:581: RuntimeWarning: invalid value encountered in less\n",
      "  cbook._putmask(xa, xa < 0.0, -1)\n"
     ]
    },
    {
     "data": {
      "image/png": "[encoded data removed]",
      "text/plain": [
       "<matplotlib.figure.Figure at 0x111e59b00>"
      ]
     },
     "metadata": {},
     "output_type": "display_data"
    }
   ],
   "source": [
    "# correct_ratio_11\n",
    "fig = plt.figure()\n",
    "ax = fig.gca(projection='3d')\n",
    "ax.plot_surface(X1, X2, z2, cmap=cm.coolwarm)\n",
    "plt.show()"
   ]
  },
  {
   "cell_type": "markdown",
   "metadata": {},
   "source": [
    "# sample data"
   ]
  },
  {
   "cell_type": "code",
   "execution_count": 4,
   "metadata": {
    "collapsed": false
   },
   "outputs": [],
   "source": [
    "def mne(x, mu,delta,random, a):\n",
    "    prob_x = 1 + (mu + x[1])/delta\n",
    "    prob_y = 1 + (mu+x[0])/delta\n",
    "    probs = np.cumsum([prob_x*prob_y, (1-prob_x)*prob_y, prob_x*(1-prob_y), (1-prob_x)*(1-prob_y)])\n",
    "    prob = a.rvs(1, random_state = random)\n",
    "    ind = np.searchsorted(probs, prob)\n",
    "    if ind == 0:\n",
    "        return [0,0,0]\n",
    "    elif ind == 1:\n",
    "        return [1,0,2]\n",
    "    elif ind == 2:\n",
    "        return [0,1,1]\n",
    "    else:\n",
    "        return [1,1,3]\n",
    "\n",
    "def nash(x, true_mu, true_delta, random, a):\n",
    "    if x[0] < -true_mu:\n",
    "        if x[1] < -true_mu:\n",
    "            return [0,0,0]\n",
    "        else :\n",
    "            return [0,1,1]\n",
    "    elif -true_mu < x[0] < -true_mu -true_delta:\n",
    "        if x[1] < -true_mu:\n",
    "            return [1,0,2]\n",
    "        elif -true_mu < x[1] < -true_mu -true_delta:\n",
    "            return mne(x, true_mu,true_delta, random, a)\n",
    "        else:\n",
    "            return [0,1,1]\n",
    "    else:\n",
    "        if x[1] < -true_mu -true_delta:\n",
    "            return [1,0,2]\n",
    "        else:\n",
    "            return [1,1,3]"
   ]
  },
  {
   "cell_type": "code",
   "execution_count": 5,
   "metadata": {
    "collapsed": true
   },
   "outputs": [],
   "source": [
    "# mixed strategyで結果を出すデータの生成\n",
    "true_mu = 1\n",
    "true_delta = -0.5\n",
    "market_size = 10000\n",
    "\n",
    "data = e.rvs(size = (market_size,2), random_state = 101)\n",
    "a = st.uniform()\n",
    "data2 = np.ones((market_size, 3))\n",
    "for i in range(0,market_size):\n",
    "    data2[i,:] = nash(data[i,:],true_mu, true_delta, i, a)\n",
    "    \n",
    "df = pd.DataFrame({\"eps1\" : data[:,0], \"eps2\" : data[:, 1], \"ent1\" : data2[:, 0], \"ent2\" : data2[:, 1], \"equi\" : data2[:, 2]})"
   ]
  },
  {
   "cell_type": "markdown",
   "metadata": {},
   "source": [
    "## MLE"
   ]
  },
  {
   "cell_type": "code",
   "execution_count": 7,
   "metadata": {
    "collapsed": true
   },
   "outputs": [],
   "source": [
    "# MLE\n",
    "def one(mu,delta):\n",
    "    return e.pdf(mu+delta)**2 - e.cdf(mu+delta)*(mu+delta)*e.pdf(mu+delta)\n",
    "    \n",
    "def two(mu, delta):\n",
    "    return (e.cdf(mu+delta)*e.pdf(mu+delta))**2\n",
    "\n",
    "def three(mu,delta):\n",
    "    return e.cdf(mu+delta)*e.pdf(mu+delta) - e.cdf(-mu)*e.pdf(mu)\n",
    "\n",
    "def four(mu, delta):\n",
    "    return e.cdf(mu+delta)*e.pdf(mu+delta)\n",
    "\n",
    "def five(mu,delta):\n",
    "    return e.pdf(mu)**2 + mu*e.cdf(-mu)*e.pdf(mu)\n",
    "\n",
    "def six(mu,delta):\n",
    "    return (e.cdf(-mu)*e.pdf(mu))**2\n",
    "\n",
    "def g_1(mu,delta,m11,m00,m1):\n",
    "    result = 2*m11*four(mu,delta)/area_11(mu,delta) -2*m00*e.cdf(-mu)*e.pdf(mu)/area_00(mu,delta) - 2*m1*three(mu,delta)/(1-area_00(mu,delta) -area_11(mu,delta))\n",
    "    return result/market_size\n",
    "\n",
    "def g_2(mu,delta,m11,m00,m1):\n",
    "    result = 2*m11*four(mu,delta)/area_11(mu,delta) -2*m1*four(mu,delta)/(1-area_00(mu,delta) -area_11(mu,delta))\n",
    "    return result/market_size\n",
    "\n",
    "def g_11(mu,delta,m11,m00,m1):\n",
    "    result =  2*m11*(one(mu,delta)*area_11(mu,delta) - 2*two(mu,delta))/((area_11(mu,delta))**2)-\\\n",
    "    2*m00*(-five(mu,delta)*area_00(mu,delta) + 2*six(mu,delta))/((area_00(mu,delta))**2)-\\\n",
    "    2*m1*((one(mu,delta)+five(mu,delta))*(1-area_00(mu,delta) - area_11(mu,delta)) + 2*three(mu,delta)**2)/((1 - area_00(mu,delta) - area_11(mu,delta))**2)\n",
    "    return result/market_size\n",
    "\n",
    "def g_12(mu,delta,m11,m00,m1):\n",
    "    result = 2*m11*(one(mu,delta)*area_11(mu,delta)-2*two(mu,delta))/((area_11(mu,delta))**2)-\\\n",
    "    2*m1*(one(mu,delta)*(1-area_00(mu,delta)-area_11(mu,delta)) + 2*three(mu,delta)*four(mu,delta))/((1-area_00(mu,delta) -area_11(mu,delta))**2)\n",
    "    return result/market_size\n",
    "\n",
    "def g_22(mu,delta,m11,m00,m1):\n",
    "    result = 2*m11*(one(mu,delta)*area_11(mu,delta)-2*two(mu,delta))/((area_11(mu,delta))**2)-\\\n",
    "    2*m1*(one(mu,delta)*(1-area_00(mu,delta) -area_11(mu,delta)) + 2*two(mu,delta))/((1-area_00(mu,delta) -area_11(mu,delta))**2)\n",
    "    return result/market_size\n",
    "\n",
    "def hess(mu,delta,m11,m00,m1):\n",
    "    hessian = np.ones((2,2))\n",
    "    hessian[0,0] = g_11(mu,delta,m11,m00,m1)\n",
    "    hessian[0,1] = g_12(mu,delta,m11,m00,m1)\n",
    "    hessian[1,0] = g_12(mu,delta,m11,m00,m1)\n",
    "    hessian[1,1] = g_22(mu,delta,m11,m00,m1)\n",
    "    return hessian\n",
    "\n",
    "def grad(mu,delta,m11,m00,m1):\n",
    "    gradient = np.ones((2,1))\n",
    "    gradient[0,0] = g_1(mu,delta,m11,m00,m1)\n",
    "    gradient[1,0] = g_2(mu,delta,m11,m00,m1)\n",
    "    return gradient\n",
    "\n",
    "def NR(theta, m11,m00,m1,maxit, tol):\n",
    "    for i in range(0,maxit):\n",
    "        #print(hess(theta[0,0],theta[1,0],m11,m00,m1))\n",
    "        del_theta = np.linalg.inv(hess(theta[0,0],theta[1,0],m11,m00,m1)).dot(grad(theta[0,0],theta[1,0],m11,m00,m1))\n",
    "        theta = theta - del_theta\n",
    "        if np.linalg.norm(del_theta) < tol:\n",
    "            print(\"NR終わり\")\n",
    "            break\n",
    "    return theta\n",
    "\n",
    "# mainで使うitrationを数回で終わらせるやつ\n",
    "def NR1(theta, m11,m00,m1,itr, tol):\n",
    "    for i in range(0,itr):\n",
    "        del_theta = np.linalg.inv(hess(theta[0,0],theta[1,0],m11,m00,m1)).dot(grad(theta[0,0],theta[1,0],m11,m00,m1))\n",
    "        theta = theta - del_theta\n",
    "        #print(theta)\n",
    "        if np.linalg.norm(del_theta) < tol:\n",
    "            # print(\"NR終わり\")\n",
    "            break\n",
    "    return theta\n",
    "\n",
    "# まぁ制約の解がclosed form出かけるので一気にMLEしちゃえばいいんだけどね。（これは微分が複雑すぎてやだからしたの二重ループを考える）\n",
    "def main(theta,m11,m00,m1,maxit,tol, itr):\n",
    "    for j in range(0,maxit):\n",
    "        #print(j)\n",
    "        ratio00 = correct_ratio_00(theta[0,0], theta[1,0])\n",
    "        ratio11 = correct_ratio_11(theta[0,0], theta[1,0])\n",
    "        #print(ratio11)\n",
    "        newm00 = m00 * ratio00\n",
    "        newm11 = m11 * ratio11\n",
    "        newm1 = market_size - newm11 - newm00\n",
    "        newtheta = NR1(theta,newm11,newm00,newm1,itr,tol)\n",
    "        if np.linalg.norm(newtheta - theta) < tol:\n",
    "            print(\"main終わり\")\n",
    "            break\n",
    "        theta = newtheta\n",
    "    return newtheta"
   ]
  },
  {
   "cell_type": "markdown",
   "metadata": {
    "collapsed": true
   },
   "source": [
    "## main loop\n",
    "\n",
    "これは片方の不動点しか考慮できてないので当然収束しない。正しい値からはずれないのも当然\n",
    "\n",
    "true_mu = 0.5\n",
    "true_delta = -1"
   ]
  },
  {
   "cell_type": "code",
   "execution_count": 55,
   "metadata": {
    "collapsed": false
   },
   "outputs": [],
   "source": [
    "maxit = 1000\n",
    "tol = 1/maxit\n",
    "itr = 1\n",
    "initial = np.array([[0.5],[-1]])\n",
    "m00 = sum([True for i in df[\"equi\"] if i == 0.0])\n",
    "m11 = sum([True for i in df[\"equi\"] if i == 3.0])\n",
    "m1 = market_size - m00 - m11"
   ]
  },
  {
   "cell_type": "code",
   "execution_count": 56,
   "metadata": {
    "collapsed": false
   },
   "outputs": [
    {
     "name": "stdout",
     "output_type": "stream",
     "text": [
      "NR終わり\n"
     ]
    },
    {
     "data": {
      "text/plain": [
       "array([[ 0.3621809 ],\n",
       "       [-0.73413157]])"
      ]
     },
     "execution_count": 56,
     "metadata": {},
     "output_type": "execute_result"
    }
   ],
   "source": [
    "# 通常のbresnahan and reiss\n",
    "# これだとバイアスが出る\n",
    "initial = np.array([[0.5],[-1]])\n",
    "NR(initial,m11,m00,m1,maxit,tol)"
   ]
  },
  {
   "cell_type": "code",
   "execution_count": 64,
   "metadata": {
    "collapsed": false
   },
   "outputs": [
    {
     "name": "stdout",
     "output_type": "stream",
     "text": [
      "main終わり\n"
     ]
    },
    {
     "data": {
      "text/plain": [
       "array([[ 0.56733998],\n",
       "       [-1.14713065]])"
      ]
     },
     "execution_count": 64,
     "metadata": {},
     "output_type": "execute_result"
    }
   ],
   "source": [
    "# 初期値をいじる\n",
    "# 多少ずれても収束する。\n",
    "itr = 10\n",
    "maxit = 1000\n",
    "initial = np.array([[1],[-1.5]])\n",
    "main(initial,m11,m00,m1,maxit,tol, itr)"
   ]
  },
  {
   "cell_type": "markdown",
   "metadata": {},
   "source": [
    "## 別のアルゴリズム\n",
    "\n",
    "二つの不動点を同時に求める感じにする。\n",
    "\n",
    "（ただし普通のMLEでも書けるのでそっちでもええよ）→これは微分が大変すぎるからよくない\n",
    "\n",
    "true_mu = 0.5\n",
    "\n",
    "true_delta = -1"
   ]
  },
  {
   "cell_type": "code",
   "execution_count": 105,
   "metadata": {
    "collapsed": false
   },
   "outputs": [
    {
     "name": "stdout",
     "output_type": "stream",
     "text": [
      "0.721979823602\n",
      "0.721979823602\n"
     ]
    }
   ],
   "source": [
    "print(correct_ratio_00(0.5, -1))\n",
    "print(correct_ratio_11(0.5, -1))"
   ]
  },
  {
   "cell_type": "code",
   "execution_count": 68,
   "metadata": {
    "collapsed": true
   },
   "outputs": [],
   "source": [
    "# このアルゴリズムがうまくいかないのは理由があるのでノートを見て\n",
    "def loop(theta,m11,m00,m1,tol, itr):\n",
    "    # loop1-1\n",
    "    ratio00 = correct_ratio_00(theta[0,0], theta[1,0])\n",
    "    ratio11 = correct_ratio_11(theta[0,0], theta[1,0])\n",
    "    newm00 = m00 * ratio00\n",
    "    newm11 = m11 * ratio11\n",
    "    newm1 = market_size - newm11 - newm00\n",
    "    \n",
    "    # loop2\n",
    "    newtheta = NR1(theta,m11,m00,m1,itr,tol)\n",
    "    newratio00 = correct_ratio_00(newtheta[0,0], newtheta[1,0])\n",
    "    newratio11 = correct_ratio_11(newtheta[0,0], newtheta[1,0])\n",
    "    newnewm00 = m00 * newratio00\n",
    "    newnewm11 = m11 * newratio11\n",
    "    newnewm1 = market_size - newnewm11 - newnewm00\n",
    "    \n",
    "    # loop1-2\n",
    "    newnewtheta = NR1(newtheta,newm11,newm00,newm1,itr,tol)\n",
    "    \n",
    "    return newnewtheta, newnewm11, newnewm00, newnewm1\n",
    "\n",
    "def main2(theta,m11,m00,m1,maxit,tol, itr):\n",
    "    for i in range(1, maxit):\n",
    "        newtheta,m11,m00,m1 = loop(theta,m11,m00,m1,tol, itr)\n",
    "        print(newtheta)\n",
    "        if np.linalg.norm(newtheta - theta) < tol:\n",
    "            print(\"main2終わり\")\n",
    "            break\n",
    "        theta = newtheta\n",
    "    return newtheta"
   ]
  },
  {
   "cell_type": "code",
   "execution_count": 69,
   "metadata": {
    "collapsed": false
   },
   "outputs": [
    {
     "name": "stdout",
     "output_type": "stream",
     "text": [
      "[[ 0.51090892]\n",
      " [-1.03068036]]\n",
      "[[ 0.58386133]\n",
      " [-1.17936794]]\n",
      "[[ 0.73110472]\n",
      " [-1.47597546]]\n",
      "[[ 0.99738853]\n",
      " [-2.01175077]]\n",
      "[[ 1.46898682]\n",
      " [-2.95957246]]\n",
      "[[ 2.13430586]\n",
      " [-4.288985  ]]\n",
      "[[ 2.80316405]\n",
      " [-5.62933851]]\n",
      "[[ 3.67687932]\n",
      " [-7.37505957]]\n",
      "[[ 4.40939726]\n",
      " [-8.83664603]]\n",
      "[[  5.03827613]\n",
      " [-10.09221879]]\n",
      "[[  5.5979264 ]\n",
      " [-11.20997842]]\n",
      "[[  6.10711831]\n",
      " [-12.22720085]]\n",
      "[[  6.5774226 ]\n",
      " [-13.16689371]]\n",
      "[[  7.01656878]\n",
      " [-14.04444012]]\n",
      "[[  7.43002329]\n",
      " [-14.87072631]]\n",
      "[[  7.82182077]\n",
      " [-15.65379103]]\n",
      "[[  8.1950396 ]\n",
      " [-16.39977021]]\n",
      "[[ nan]\n",
      " [ nan]]\n",
      "[[ nan]\n",
      " [ nan]]\n",
      "[[ nan]\n",
      " [ nan]]\n",
      "[[ nan]\n",
      " [ nan]]\n"
     ]
    },
    {
     "name": "stderr",
     "output_type": "stream",
     "text": [
      "/Users/susu/anaconda/lib/python3.5/site-packages/ipykernel/__main__.py:29: RuntimeWarning: divide by zero encountered in double_scalars\n",
      "/Users/susu/anaconda/lib/python3.5/site-packages/ipykernel/__main__.py:33: RuntimeWarning: divide by zero encountered in double_scalars\n",
      "/Users/susu/anaconda/lib/python3.5/site-packages/ipykernel/__main__.py:37: RuntimeWarning: divide by zero encountered in double_scalars\n",
      "/Users/susu/anaconda/lib/python3.5/site-packages/ipykernel/__main__.py:21: RuntimeWarning: divide by zero encountered in double_scalars\n",
      "/Users/susu/anaconda/lib/python3.5/site-packages/ipykernel/__main__.py:25: RuntimeWarning: divide by zero encountered in double_scalars\n"
     ]
    },
    {
     "name": "stdout",
     "output_type": "stream",
     "text": [
      "[[ nan]\n",
      " [ nan]]\n",
      "[[ nan]\n",
      " [ nan]]\n",
      "[[ nan]\n",
      " [ nan]]\n",
      "[[ nan]\n",
      " [ nan]]\n",
      "[[ nan]\n",
      " [ nan]]\n",
      "[[ nan]\n",
      " [ nan]]\n",
      "[[ nan]\n",
      " [ nan]]\n",
      "[[ nan]\n",
      " [ nan]]\n",
      "[[ nan]\n",
      " [ nan]]\n",
      "[[ nan]\n",
      " [ nan]]\n",
      "[[ nan]\n",
      " [ nan]]\n",
      "[[ nan]\n",
      " [ nan]]\n",
      "[[ nan]\n",
      " [ nan]]\n",
      "[[ nan]\n",
      " [ nan]]\n",
      "[[ nan]\n",
      " [ nan]]\n",
      "[[ nan]\n",
      " [ nan]]\n",
      "[[ nan]\n",
      " [ nan]]\n",
      "[[ nan]\n",
      " [ nan]]\n"
     ]
    },
    {
     "ename": "KeyboardInterrupt",
     "evalue": "",
     "output_type": "error",
     "traceback": [
      "\u001b[0;31m---------------------------------------------------------------------------\u001b[0m",
      "\u001b[0;31mKeyboardInterrupt\u001b[0m                         Traceback (most recent call last)",
      "\u001b[0;32m<ipython-input-69-42fc1f388b55>\u001b[0m in \u001b[0;36m<module>\u001b[0;34m()\u001b[0m\n\u001b[1;32m      7\u001b[0m \u001b[0mm1\u001b[0m \u001b[0;34m=\u001b[0m \u001b[0mmarket_size\u001b[0m \u001b[0;34m-\u001b[0m \u001b[0mm00\u001b[0m \u001b[0;34m-\u001b[0m \u001b[0mm11\u001b[0m\u001b[0;34m\u001b[0m\u001b[0m\n\u001b[1;32m      8\u001b[0m \u001b[0;34m\u001b[0m\u001b[0m\n\u001b[0;32m----> 9\u001b[0;31m \u001b[0mmain2\u001b[0m\u001b[0;34m(\u001b[0m\u001b[0minitial\u001b[0m\u001b[0;34m,\u001b[0m\u001b[0mm11\u001b[0m\u001b[0;34m,\u001b[0m\u001b[0mm00\u001b[0m\u001b[0;34m,\u001b[0m\u001b[0mm1\u001b[0m\u001b[0;34m,\u001b[0m\u001b[0mmaxit\u001b[0m\u001b[0;34m,\u001b[0m\u001b[0mtol\u001b[0m\u001b[0;34m,\u001b[0m \u001b[0mitr\u001b[0m\u001b[0;34m)\u001b[0m\u001b[0;34m\u001b[0m\u001b[0m\n\u001b[0m",
      "\u001b[0;32m<ipython-input-68-4fe8b0c909ef>\u001b[0m in \u001b[0;36mmain2\u001b[0;34m(theta, m11, m00, m1, maxit, tol, itr)\u001b[0m\n\u001b[1;32m     22\u001b[0m \u001b[0;32mdef\u001b[0m \u001b[0mmain2\u001b[0m\u001b[0;34m(\u001b[0m\u001b[0mtheta\u001b[0m\u001b[0;34m,\u001b[0m\u001b[0mm11\u001b[0m\u001b[0;34m,\u001b[0m\u001b[0mm00\u001b[0m\u001b[0;34m,\u001b[0m\u001b[0mm1\u001b[0m\u001b[0;34m,\u001b[0m\u001b[0mmaxit\u001b[0m\u001b[0;34m,\u001b[0m\u001b[0mtol\u001b[0m\u001b[0;34m,\u001b[0m \u001b[0mitr\u001b[0m\u001b[0;34m)\u001b[0m\u001b[0;34m:\u001b[0m\u001b[0;34m\u001b[0m\u001b[0m\n\u001b[1;32m     23\u001b[0m     \u001b[0;32mfor\u001b[0m \u001b[0mi\u001b[0m \u001b[0;32min\u001b[0m \u001b[0mrange\u001b[0m\u001b[0;34m(\u001b[0m\u001b[0;36m1\u001b[0m\u001b[0;34m,\u001b[0m \u001b[0mmaxit\u001b[0m\u001b[0;34m)\u001b[0m\u001b[0;34m:\u001b[0m\u001b[0;34m\u001b[0m\u001b[0m\n\u001b[0;32m---> 24\u001b[0;31m         \u001b[0mnewtheta\u001b[0m\u001b[0;34m,\u001b[0m\u001b[0mm11\u001b[0m\u001b[0;34m,\u001b[0m\u001b[0mm00\u001b[0m\u001b[0;34m,\u001b[0m\u001b[0mm1\u001b[0m \u001b[0;34m=\u001b[0m \u001b[0mloop\u001b[0m\u001b[0;34m(\u001b[0m\u001b[0mtheta\u001b[0m\u001b[0;34m,\u001b[0m\u001b[0mm11\u001b[0m\u001b[0;34m,\u001b[0m\u001b[0mm00\u001b[0m\u001b[0;34m,\u001b[0m\u001b[0mm1\u001b[0m\u001b[0;34m,\u001b[0m\u001b[0mtol\u001b[0m\u001b[0;34m,\u001b[0m \u001b[0mitr\u001b[0m\u001b[0;34m)\u001b[0m\u001b[0;34m\u001b[0m\u001b[0m\n\u001b[0m\u001b[1;32m     25\u001b[0m         \u001b[0mprint\u001b[0m\u001b[0;34m(\u001b[0m\u001b[0mnewtheta\u001b[0m\u001b[0;34m)\u001b[0m\u001b[0;34m\u001b[0m\u001b[0m\n\u001b[1;32m     26\u001b[0m         \u001b[0;32mif\u001b[0m \u001b[0mnp\u001b[0m\u001b[0;34m.\u001b[0m\u001b[0mlinalg\u001b[0m\u001b[0;34m.\u001b[0m\u001b[0mnorm\u001b[0m\u001b[0;34m(\u001b[0m\u001b[0mnewtheta\u001b[0m \u001b[0;34m-\u001b[0m \u001b[0mtheta\u001b[0m\u001b[0;34m)\u001b[0m \u001b[0;34m<\u001b[0m \u001b[0mtol\u001b[0m\u001b[0;34m:\u001b[0m\u001b[0;34m\u001b[0m\u001b[0m\n",
      "\u001b[0;32m<ipython-input-68-4fe8b0c909ef>\u001b[0m in \u001b[0;36mloop\u001b[0;34m(theta, m11, m00, m1, tol, itr)\u001b[0m\n\u001b[1;32m     16\u001b[0m \u001b[0;34m\u001b[0m\u001b[0m\n\u001b[1;32m     17\u001b[0m     \u001b[0;31m# loop1-2\u001b[0m\u001b[0;34m\u001b[0m\u001b[0;34m\u001b[0m\u001b[0m\n\u001b[0;32m---> 18\u001b[0;31m     \u001b[0mnewnewtheta\u001b[0m \u001b[0;34m=\u001b[0m \u001b[0mNR1\u001b[0m\u001b[0;34m(\u001b[0m\u001b[0mnewtheta\u001b[0m\u001b[0;34m,\u001b[0m\u001b[0mnewm11\u001b[0m\u001b[0;34m,\u001b[0m\u001b[0mnewm00\u001b[0m\u001b[0;34m,\u001b[0m\u001b[0mnewm1\u001b[0m\u001b[0;34m,\u001b[0m\u001b[0mitr\u001b[0m\u001b[0;34m,\u001b[0m\u001b[0mtol\u001b[0m\u001b[0;34m)\u001b[0m\u001b[0;34m\u001b[0m\u001b[0m\n\u001b[0m\u001b[1;32m     19\u001b[0m \u001b[0;34m\u001b[0m\u001b[0m\n\u001b[1;32m     20\u001b[0m     \u001b[0;32mreturn\u001b[0m \u001b[0mnewnewtheta\u001b[0m\u001b[0;34m,\u001b[0m \u001b[0mnewnewm11\u001b[0m\u001b[0;34m,\u001b[0m \u001b[0mnewnewm00\u001b[0m\u001b[0;34m,\u001b[0m \u001b[0mnewnewm1\u001b[0m\u001b[0;34m\u001b[0m\u001b[0m\n",
      "\u001b[0;32m<ipython-input-54-fa2cd5a1f2ad>\u001b[0m in \u001b[0;36mNR1\u001b[0;34m(theta, m11, m00, m1, itr, tol)\u001b[0m\n\u001b[1;32m     65\u001b[0m \u001b[0;32mdef\u001b[0m \u001b[0mNR1\u001b[0m\u001b[0;34m(\u001b[0m\u001b[0mtheta\u001b[0m\u001b[0;34m,\u001b[0m \u001b[0mm11\u001b[0m\u001b[0;34m,\u001b[0m\u001b[0mm00\u001b[0m\u001b[0;34m,\u001b[0m\u001b[0mm1\u001b[0m\u001b[0;34m,\u001b[0m\u001b[0mitr\u001b[0m\u001b[0;34m,\u001b[0m \u001b[0mtol\u001b[0m\u001b[0;34m)\u001b[0m\u001b[0;34m:\u001b[0m\u001b[0;34m\u001b[0m\u001b[0m\n\u001b[1;32m     66\u001b[0m     \u001b[0;32mfor\u001b[0m \u001b[0mi\u001b[0m \u001b[0;32min\u001b[0m \u001b[0mrange\u001b[0m\u001b[0;34m(\u001b[0m\u001b[0;36m0\u001b[0m\u001b[0;34m,\u001b[0m\u001b[0mitr\u001b[0m\u001b[0;34m)\u001b[0m\u001b[0;34m:\u001b[0m\u001b[0;34m\u001b[0m\u001b[0m\n\u001b[0;32m---> 67\u001b[0;31m         \u001b[0mdel_theta\u001b[0m \u001b[0;34m=\u001b[0m \u001b[0mnp\u001b[0m\u001b[0;34m.\u001b[0m\u001b[0mlinalg\u001b[0m\u001b[0;34m.\u001b[0m\u001b[0minv\u001b[0m\u001b[0;34m(\u001b[0m\u001b[0mhess\u001b[0m\u001b[0;34m(\u001b[0m\u001b[0mtheta\u001b[0m\u001b[0;34m[\u001b[0m\u001b[0;36m0\u001b[0m\u001b[0;34m,\u001b[0m\u001b[0;36m0\u001b[0m\u001b[0;34m]\u001b[0m\u001b[0;34m,\u001b[0m\u001b[0mtheta\u001b[0m\u001b[0;34m[\u001b[0m\u001b[0;36m1\u001b[0m\u001b[0;34m,\u001b[0m\u001b[0;36m0\u001b[0m\u001b[0;34m]\u001b[0m\u001b[0;34m,\u001b[0m\u001b[0mm11\u001b[0m\u001b[0;34m,\u001b[0m\u001b[0mm00\u001b[0m\u001b[0;34m,\u001b[0m\u001b[0mm1\u001b[0m\u001b[0;34m)\u001b[0m\u001b[0;34m)\u001b[0m\u001b[0;34m.\u001b[0m\u001b[0mdot\u001b[0m\u001b[0;34m(\u001b[0m\u001b[0mgrad\u001b[0m\u001b[0;34m(\u001b[0m\u001b[0mtheta\u001b[0m\u001b[0;34m[\u001b[0m\u001b[0;36m0\u001b[0m\u001b[0;34m,\u001b[0m\u001b[0;36m0\u001b[0m\u001b[0;34m]\u001b[0m\u001b[0;34m,\u001b[0m\u001b[0mtheta\u001b[0m\u001b[0;34m[\u001b[0m\u001b[0;36m1\u001b[0m\u001b[0;34m,\u001b[0m\u001b[0;36m0\u001b[0m\u001b[0;34m]\u001b[0m\u001b[0;34m,\u001b[0m\u001b[0mm11\u001b[0m\u001b[0;34m,\u001b[0m\u001b[0mm00\u001b[0m\u001b[0;34m,\u001b[0m\u001b[0mm1\u001b[0m\u001b[0;34m)\u001b[0m\u001b[0;34m)\u001b[0m\u001b[0;34m\u001b[0m\u001b[0m\n\u001b[0m\u001b[1;32m     68\u001b[0m         \u001b[0mtheta\u001b[0m \u001b[0;34m=\u001b[0m \u001b[0mtheta\u001b[0m \u001b[0;34m-\u001b[0m \u001b[0mdel_theta\u001b[0m\u001b[0;34m\u001b[0m\u001b[0m\n\u001b[1;32m     69\u001b[0m         \u001b[0;31m#print(theta)\u001b[0m\u001b[0;34m\u001b[0m\u001b[0;34m\u001b[0m\u001b[0m\n",
      "\u001b[0;32m<ipython-input-54-fa2cd5a1f2ad>\u001b[0m in \u001b[0;36mgrad\u001b[0;34m(mu, delta, m11, m00, m1)\u001b[0m\n\u001b[1;32m     48\u001b[0m \u001b[0;32mdef\u001b[0m \u001b[0mgrad\u001b[0m\u001b[0;34m(\u001b[0m\u001b[0mmu\u001b[0m\u001b[0;34m,\u001b[0m\u001b[0mdelta\u001b[0m\u001b[0;34m,\u001b[0m\u001b[0mm11\u001b[0m\u001b[0;34m,\u001b[0m\u001b[0mm00\u001b[0m\u001b[0;34m,\u001b[0m\u001b[0mm1\u001b[0m\u001b[0;34m)\u001b[0m\u001b[0;34m:\u001b[0m\u001b[0;34m\u001b[0m\u001b[0m\n\u001b[1;32m     49\u001b[0m     \u001b[0mgradient\u001b[0m \u001b[0;34m=\u001b[0m \u001b[0mnp\u001b[0m\u001b[0;34m.\u001b[0m\u001b[0mones\u001b[0m\u001b[0;34m(\u001b[0m\u001b[0;34m(\u001b[0m\u001b[0;36m2\u001b[0m\u001b[0;34m,\u001b[0m\u001b[0;36m1\u001b[0m\u001b[0;34m)\u001b[0m\u001b[0;34m)\u001b[0m\u001b[0;34m\u001b[0m\u001b[0m\n\u001b[0;32m---> 50\u001b[0;31m     \u001b[0mgradient\u001b[0m\u001b[0;34m[\u001b[0m\u001b[0;36m0\u001b[0m\u001b[0;34m,\u001b[0m\u001b[0;36m0\u001b[0m\u001b[0;34m]\u001b[0m \u001b[0;34m=\u001b[0m \u001b[0mg_1\u001b[0m\u001b[0;34m(\u001b[0m\u001b[0mmu\u001b[0m\u001b[0;34m,\u001b[0m\u001b[0mdelta\u001b[0m\u001b[0;34m,\u001b[0m\u001b[0mm11\u001b[0m\u001b[0;34m,\u001b[0m\u001b[0mm00\u001b[0m\u001b[0;34m,\u001b[0m\u001b[0mm1\u001b[0m\u001b[0;34m)\u001b[0m\u001b[0;34m\u001b[0m\u001b[0m\n\u001b[0m\u001b[1;32m     51\u001b[0m     \u001b[0mgradient\u001b[0m\u001b[0;34m[\u001b[0m\u001b[0;36m1\u001b[0m\u001b[0;34m,\u001b[0m\u001b[0;36m0\u001b[0m\u001b[0;34m]\u001b[0m \u001b[0;34m=\u001b[0m \u001b[0mg_2\u001b[0m\u001b[0;34m(\u001b[0m\u001b[0mmu\u001b[0m\u001b[0;34m,\u001b[0m\u001b[0mdelta\u001b[0m\u001b[0;34m,\u001b[0m\u001b[0mm11\u001b[0m\u001b[0;34m,\u001b[0m\u001b[0mm00\u001b[0m\u001b[0;34m,\u001b[0m\u001b[0mm1\u001b[0m\u001b[0;34m)\u001b[0m\u001b[0;34m\u001b[0m\u001b[0m\n\u001b[1;32m     52\u001b[0m     \u001b[0;32mreturn\u001b[0m \u001b[0mgradient\u001b[0m\u001b[0;34m\u001b[0m\u001b[0m\n",
      "\u001b[0;32m<ipython-input-54-fa2cd5a1f2ad>\u001b[0m in \u001b[0;36mg_1\u001b[0;34m(mu, delta, m11, m00, m1)\u001b[0m\n\u001b[1;32m     19\u001b[0m \u001b[0;34m\u001b[0m\u001b[0m\n\u001b[1;32m     20\u001b[0m \u001b[0;32mdef\u001b[0m \u001b[0mg_1\u001b[0m\u001b[0;34m(\u001b[0m\u001b[0mmu\u001b[0m\u001b[0;34m,\u001b[0m\u001b[0mdelta\u001b[0m\u001b[0;34m,\u001b[0m\u001b[0mm11\u001b[0m\u001b[0;34m,\u001b[0m\u001b[0mm00\u001b[0m\u001b[0;34m,\u001b[0m\u001b[0mm1\u001b[0m\u001b[0;34m)\u001b[0m\u001b[0;34m:\u001b[0m\u001b[0;34m\u001b[0m\u001b[0m\n\u001b[0;32m---> 21\u001b[0;31m     \u001b[0mresult\u001b[0m \u001b[0;34m=\u001b[0m \u001b[0;36m2\u001b[0m\u001b[0;34m*\u001b[0m\u001b[0mm11\u001b[0m\u001b[0;34m*\u001b[0m\u001b[0mfour\u001b[0m\u001b[0;34m(\u001b[0m\u001b[0mmu\u001b[0m\u001b[0;34m,\u001b[0m\u001b[0mdelta\u001b[0m\u001b[0;34m)\u001b[0m\u001b[0;34m/\u001b[0m\u001b[0marea_11\u001b[0m\u001b[0;34m(\u001b[0m\u001b[0mmu\u001b[0m\u001b[0;34m,\u001b[0m\u001b[0mdelta\u001b[0m\u001b[0;34m)\u001b[0m \u001b[0;34m-\u001b[0m\u001b[0;36m2\u001b[0m\u001b[0;34m*\u001b[0m\u001b[0mm00\u001b[0m\u001b[0;34m*\u001b[0m\u001b[0me\u001b[0m\u001b[0;34m.\u001b[0m\u001b[0mcdf\u001b[0m\u001b[0;34m(\u001b[0m\u001b[0;34m-\u001b[0m\u001b[0mmu\u001b[0m\u001b[0;34m)\u001b[0m\u001b[0;34m*\u001b[0m\u001b[0me\u001b[0m\u001b[0;34m.\u001b[0m\u001b[0mpdf\u001b[0m\u001b[0;34m(\u001b[0m\u001b[0mmu\u001b[0m\u001b[0;34m)\u001b[0m\u001b[0;34m/\u001b[0m\u001b[0marea_00\u001b[0m\u001b[0;34m(\u001b[0m\u001b[0mmu\u001b[0m\u001b[0;34m,\u001b[0m\u001b[0mdelta\u001b[0m\u001b[0;34m)\u001b[0m \u001b[0;34m-\u001b[0m \u001b[0;36m2\u001b[0m\u001b[0;34m*\u001b[0m\u001b[0mm1\u001b[0m\u001b[0;34m*\u001b[0m\u001b[0mthree\u001b[0m\u001b[0;34m(\u001b[0m\u001b[0mmu\u001b[0m\u001b[0;34m,\u001b[0m\u001b[0mdelta\u001b[0m\u001b[0;34m)\u001b[0m\u001b[0;34m/\u001b[0m\u001b[0;34m(\u001b[0m\u001b[0;36m1\u001b[0m\u001b[0;34m-\u001b[0m\u001b[0marea_00\u001b[0m\u001b[0;34m(\u001b[0m\u001b[0mmu\u001b[0m\u001b[0;34m,\u001b[0m\u001b[0mdelta\u001b[0m\u001b[0;34m)\u001b[0m \u001b[0;34m-\u001b[0m\u001b[0marea_11\u001b[0m\u001b[0;34m(\u001b[0m\u001b[0mmu\u001b[0m\u001b[0;34m,\u001b[0m\u001b[0mdelta\u001b[0m\u001b[0;34m)\u001b[0m\u001b[0;34m)\u001b[0m\u001b[0;34m\u001b[0m\u001b[0m\n\u001b[0m\u001b[1;32m     22\u001b[0m     \u001b[0;32mreturn\u001b[0m \u001b[0mresult\u001b[0m\u001b[0;34m/\u001b[0m\u001b[0mmarket_size\u001b[0m\u001b[0;34m\u001b[0m\u001b[0m\n\u001b[1;32m     23\u001b[0m \u001b[0;34m\u001b[0m\u001b[0m\n",
      "\u001b[0;32m<ipython-input-54-fa2cd5a1f2ad>\u001b[0m in \u001b[0;36mfour\u001b[0;34m(mu, delta)\u001b[0m\n\u001b[1;32m     10\u001b[0m \u001b[0;34m\u001b[0m\u001b[0m\n\u001b[1;32m     11\u001b[0m \u001b[0;32mdef\u001b[0m \u001b[0mfour\u001b[0m\u001b[0;34m(\u001b[0m\u001b[0mmu\u001b[0m\u001b[0;34m,\u001b[0m \u001b[0mdelta\u001b[0m\u001b[0;34m)\u001b[0m\u001b[0;34m:\u001b[0m\u001b[0;34m\u001b[0m\u001b[0m\n\u001b[0;32m---> 12\u001b[0;31m     \u001b[0;32mreturn\u001b[0m \u001b[0me\u001b[0m\u001b[0;34m.\u001b[0m\u001b[0mcdf\u001b[0m\u001b[0;34m(\u001b[0m\u001b[0mmu\u001b[0m\u001b[0;34m+\u001b[0m\u001b[0mdelta\u001b[0m\u001b[0;34m)\u001b[0m\u001b[0;34m*\u001b[0m\u001b[0me\u001b[0m\u001b[0;34m.\u001b[0m\u001b[0mpdf\u001b[0m\u001b[0;34m(\u001b[0m\u001b[0mmu\u001b[0m\u001b[0;34m+\u001b[0m\u001b[0mdelta\u001b[0m\u001b[0;34m)\u001b[0m\u001b[0;34m\u001b[0m\u001b[0m\n\u001b[0m\u001b[1;32m     13\u001b[0m \u001b[0;34m\u001b[0m\u001b[0m\n\u001b[1;32m     14\u001b[0m \u001b[0;32mdef\u001b[0m \u001b[0mfive\u001b[0m\u001b[0;34m(\u001b[0m\u001b[0mmu\u001b[0m\u001b[0;34m,\u001b[0m\u001b[0mdelta\u001b[0m\u001b[0;34m)\u001b[0m\u001b[0;34m:\u001b[0m\u001b[0;34m\u001b[0m\u001b[0m\n",
      "\u001b[0;32m/Users/susu/anaconda/lib/python3.5/site-packages/scipy/stats/_distn_infrastructure.py\u001b[0m in \u001b[0;36mpdf\u001b[0;34m(self, x)\u001b[0m\n\u001b[1;32m    448\u001b[0m \u001b[0;34m\u001b[0m\u001b[0m\n\u001b[1;32m    449\u001b[0m     \u001b[0;32mdef\u001b[0m \u001b[0mpdf\u001b[0m\u001b[0;34m(\u001b[0m\u001b[0mself\u001b[0m\u001b[0;34m,\u001b[0m \u001b[0mx\u001b[0m\u001b[0;34m)\u001b[0m\u001b[0;34m:\u001b[0m   \u001b[0;31m# raises AttributeError in frozen discrete distribution\u001b[0m\u001b[0;34m\u001b[0m\u001b[0m\n\u001b[0;32m--> 450\u001b[0;31m         \u001b[0;32mreturn\u001b[0m \u001b[0mself\u001b[0m\u001b[0;34m.\u001b[0m\u001b[0mdist\u001b[0m\u001b[0;34m.\u001b[0m\u001b[0mpdf\u001b[0m\u001b[0;34m(\u001b[0m\u001b[0mx\u001b[0m\u001b[0;34m,\u001b[0m \u001b[0;34m*\u001b[0m\u001b[0mself\u001b[0m\u001b[0;34m.\u001b[0m\u001b[0margs\u001b[0m\u001b[0;34m,\u001b[0m \u001b[0;34m**\u001b[0m\u001b[0mself\u001b[0m\u001b[0;34m.\u001b[0m\u001b[0mkwds\u001b[0m\u001b[0;34m)\u001b[0m\u001b[0;34m\u001b[0m\u001b[0m\n\u001b[0m\u001b[1;32m    451\u001b[0m \u001b[0;34m\u001b[0m\u001b[0m\n\u001b[1;32m    452\u001b[0m     \u001b[0;32mdef\u001b[0m \u001b[0mlogpdf\u001b[0m\u001b[0;34m(\u001b[0m\u001b[0mself\u001b[0m\u001b[0;34m,\u001b[0m \u001b[0mx\u001b[0m\u001b[0;34m)\u001b[0m\u001b[0;34m:\u001b[0m\u001b[0;34m\u001b[0m\u001b[0m\n",
      "\u001b[0;32m/Users/susu/anaconda/lib/python3.5/site-packages/scipy/stats/_distn_infrastructure.py\u001b[0m in \u001b[0;36mpdf\u001b[0;34m(self, x, *args, **kwds)\u001b[0m\n\u001b[1;32m   1644\u001b[0m         \"\"\"\n\u001b[1;32m   1645\u001b[0m         \u001b[0margs\u001b[0m\u001b[0;34m,\u001b[0m \u001b[0mloc\u001b[0m\u001b[0;34m,\u001b[0m \u001b[0mscale\u001b[0m \u001b[0;34m=\u001b[0m \u001b[0mself\u001b[0m\u001b[0;34m.\u001b[0m\u001b[0m_parse_args\u001b[0m\u001b[0;34m(\u001b[0m\u001b[0;34m*\u001b[0m\u001b[0margs\u001b[0m\u001b[0;34m,\u001b[0m \u001b[0;34m**\u001b[0m\u001b[0mkwds\u001b[0m\u001b[0;34m)\u001b[0m\u001b[0;34m\u001b[0m\u001b[0m\n\u001b[0;32m-> 1646\u001b[0;31m         \u001b[0mx\u001b[0m\u001b[0;34m,\u001b[0m \u001b[0mloc\u001b[0m\u001b[0;34m,\u001b[0m \u001b[0mscale\u001b[0m \u001b[0;34m=\u001b[0m \u001b[0mmap\u001b[0m\u001b[0;34m(\u001b[0m\u001b[0masarray\u001b[0m\u001b[0;34m,\u001b[0m \u001b[0;34m(\u001b[0m\u001b[0mx\u001b[0m\u001b[0;34m,\u001b[0m \u001b[0mloc\u001b[0m\u001b[0;34m,\u001b[0m \u001b[0mscale\u001b[0m\u001b[0;34m)\u001b[0m\u001b[0;34m)\u001b[0m\u001b[0;34m\u001b[0m\u001b[0m\n\u001b[0m\u001b[1;32m   1647\u001b[0m         \u001b[0margs\u001b[0m \u001b[0;34m=\u001b[0m \u001b[0mtuple\u001b[0m\u001b[0;34m(\u001b[0m\u001b[0mmap\u001b[0m\u001b[0;34m(\u001b[0m\u001b[0masarray\u001b[0m\u001b[0;34m,\u001b[0m \u001b[0margs\u001b[0m\u001b[0;34m)\u001b[0m\u001b[0;34m)\u001b[0m\u001b[0;34m\u001b[0m\u001b[0m\n\u001b[1;32m   1648\u001b[0m         \u001b[0mdtyp\u001b[0m \u001b[0;34m=\u001b[0m \u001b[0mnp\u001b[0m\u001b[0;34m.\u001b[0m\u001b[0mfind_common_type\u001b[0m\u001b[0;34m(\u001b[0m\u001b[0;34m[\u001b[0m\u001b[0mx\u001b[0m\u001b[0;34m.\u001b[0m\u001b[0mdtype\u001b[0m\u001b[0;34m,\u001b[0m \u001b[0mnp\u001b[0m\u001b[0;34m.\u001b[0m\u001b[0mfloat64\u001b[0m\u001b[0;34m]\u001b[0m\u001b[0;34m,\u001b[0m \u001b[0;34m[\u001b[0m\u001b[0;34m]\u001b[0m\u001b[0;34m)\u001b[0m\u001b[0;34m\u001b[0m\u001b[0m\n",
      "\u001b[0;32m/Users/susu/anaconda/lib/python3.5/site-packages/numpy/core/numeric.py\u001b[0m in \u001b[0;36masarray\u001b[0;34m(a, dtype, order)\u001b[0m\n\u001b[1;32m    412\u001b[0m \u001b[0;34m\u001b[0m\u001b[0m\n\u001b[1;32m    413\u001b[0m \u001b[0;34m\u001b[0m\u001b[0m\n\u001b[0;32m--> 414\u001b[0;31m \u001b[0;32mdef\u001b[0m \u001b[0masarray\u001b[0m\u001b[0;34m(\u001b[0m\u001b[0ma\u001b[0m\u001b[0;34m,\u001b[0m \u001b[0mdtype\u001b[0m\u001b[0;34m=\u001b[0m\u001b[0;32mNone\u001b[0m\u001b[0;34m,\u001b[0m \u001b[0morder\u001b[0m\u001b[0;34m=\u001b[0m\u001b[0;32mNone\u001b[0m\u001b[0;34m)\u001b[0m\u001b[0;34m:\u001b[0m\u001b[0;34m\u001b[0m\u001b[0m\n\u001b[0m\u001b[1;32m    415\u001b[0m     \"\"\"Convert the input to an array.\n\u001b[1;32m    416\u001b[0m \u001b[0;34m\u001b[0m\u001b[0m\n",
      "\u001b[0;31mKeyboardInterrupt\u001b[0m: "
     ]
    }
   ],
   "source": [
    "maxit = 1000\n",
    "tol = 1/maxit\n",
    "itr = 3\n",
    "initial = np.array([[0.5],[-1]])\n",
    "m00 = sum([True for i in df[\"equi\"] if i == 0.0])\n",
    "m11 = sum([True for i in df[\"equi\"] if i == 3.0])\n",
    "m1 = market_size - m00 - m11\n",
    "\n",
    "main2(initial,m11,m00,m1,maxit,tol, itr)"
   ]
  },
  {
   "cell_type": "markdown",
   "metadata": {},
   "source": [
    "### この問題の自己強化プロセスは強いので大事なのはparameter spaceを広く探索すること。\n",
    "\n",
    "という観点から誤差を加えて探索するアルゴリズム。"
   ]
  },
  {
   "cell_type": "code",
   "execution_count": 8,
   "metadata": {
    "collapsed": true
   },
   "outputs": [],
   "source": [
    "# parmeter spaceを広く探索くやつ\n",
    "# mainの自己強化プロセスは真の値付近では一回のループで収束するほど強いという事実を使う\n",
    "# 更新幅が大きすぎたら誤差を加える。\n",
    "# 小さくなっても誤差を加える。\n",
    "def main3(theta,m11,m00,m1,maxit,tol, itr, high):\n",
    "    count = 0\n",
    "    for j in range(0,maxit):\n",
    "        ratio00 = correct_ratio_00(theta[0,0], theta[1,0])\n",
    "        ratio11 = correct_ratio_11(theta[0,0], theta[1,0])\n",
    "        #print(ratio11)\n",
    "        newm00 = m00 * ratio00\n",
    "        newm11 = m11 * ratio11\n",
    "        newm1 = market_size - newm11 - newm00\n",
    "        newtheta = NR1(theta,newm11,newm00,newm1,itr,tol)\n",
    "        count += 1\n",
    "        # 局所解を避けるため、tolを下回るようになったら一回小さいpurterbationをしてずれないかを確かめる。\n",
    "        if np.linalg.norm(newtheta - theta) < tol:\n",
    "            # checkプロセス（ちょっとずらして自己強化プロセス）\n",
    "            checker = newtheta + e.rvs((2,1))/100\n",
    "            #print(checker)\n",
    "            checker = NR1(checker,newm11,newm00,newm1,itr,tol)\n",
    "            if np.linalg.norm(newtheta - checker) < tol:\n",
    "                newtheta = checker\n",
    "                print(\"main3終わり\")\n",
    "                break\n",
    "            else:\n",
    "                theta = checker\n",
    "        # highを超えてても、正しい方向ならいい。\n",
    "        # countを用意して、purterbation後の数ステップはこの基準を無視するようにする\n",
    "        elif np.linalg.norm(newtheta - theta) > high:\n",
    "            if count > 10:\n",
    "                theta = (newtheta + theta)/2 + e.rvs((2,1))\n",
    "                count = 0\n",
    "        theta = newtheta\n",
    "    return newtheta"
   ]
  },
  {
   "cell_type": "code",
   "execution_count": 9,
   "metadata": {
    "collapsed": false
   },
   "outputs": [
    {
     "name": "stdout",
     "output_type": "stream",
     "text": [
      "main3終わり\n"
     ]
    },
    {
     "data": {
      "text/plain": [
       "array([[ 0.56516091],\n",
       "       [-1.14273713]])"
      ]
     },
     "execution_count": 9,
     "metadata": {},
     "output_type": "execute_result"
    }
   ],
   "source": [
    "# 真の値周辺でうまくいく。（真の値周辺でうまくいくのって大事じゃね？）\n",
    "maxit = 1000\n",
    "tol = 0.0000001\n",
    "itr = 10\n",
    "high = 0.1\n",
    "initial = np.array([[0.5],[-1]])\n",
    "m00 = sum([True for i in df[\"equi\"] if i == 0.0])\n",
    "m11 = sum([True for i in df[\"equi\"] if i == 3.0])\n",
    "m1 = market_size - m00 - m11\n",
    "\n",
    "main3(initial,m11,m00,m1,maxit,tol, itr, high)"
   ]
  },
  {
   "cell_type": "code",
   "execution_count": 10,
   "metadata": {
    "collapsed": false
   },
   "outputs": [
    {
     "name": "stdout",
     "output_type": "stream",
     "text": [
      "main3終わり\n"
     ]
    },
    {
     "data": {
      "text/plain": [
       "array([[ 0.56300779],\n",
       "       [-1.13839597]])"
      ]
     },
     "execution_count": 10,
     "metadata": {},
     "output_type": "execute_result"
    }
   ],
   "source": [
    "# 初期値をずらす（そこそこずれてもうまくいくね。）\n",
    "maxit = 1000\n",
    "tol = 1/maxit\n",
    "itr = 10\n",
    "high = 0.1\n",
    "initial = np.array([[1],[-0.2]])\n",
    "m00 = sum([True for i in df[\"equi\"] if i == 0.0])\n",
    "m11 = sum([True for i in df[\"equi\"] if i == 3.0])\n",
    "m1 = market_size - m00 - m11\n",
    "\n",
    "main3(initial,m11,m00,m1,maxit,tol, itr, high)"
   ]
  },
  {
   "cell_type": "markdown",
   "metadata": {},
   "source": [
    "mu + delta >0を満たす値でやり直す"
   ]
  },
  {
   "cell_type": "code",
   "execution_count": 12,
   "metadata": {
    "collapsed": false
   },
   "outputs": [
    {
     "name": "stdout",
     "output_type": "stream",
     "text": [
      "main3終わり\n"
     ]
    },
    {
     "data": {
      "text/plain": [
       "array([[ 0.94854702],\n",
       "       [-0.45384571]])"
      ]
     },
     "execution_count": 12,
     "metadata": {},
     "output_type": "execute_result"
    }
   ],
   "source": [
    "# 真の値がmu = 1, delta = -0.5\n",
    "# ちゃんと動く\n",
    "maxit = 1000\n",
    "tol = 1/maxit\n",
    "itr = 10\n",
    "high = 0.1\n",
    "initial = np.array([[1],[-0.2]])\n",
    "m00 = sum([True for i in df[\"equi\"] if i == 0.0])\n",
    "m11 = sum([True for i in df[\"equi\"] if i == 3.0])\n",
    "m1 = market_size - m00 - m11\n",
    "\n",
    "main3(initial,m11,m00,m1,maxit,tol, itr, high)"
   ]
  },
  {
   "cell_type": "code",
   "execution_count": 52,
   "metadata": {
    "collapsed": true
   },
   "outputs": [],
   "source": [
    "# 収束を可視化\n",
    "def main4(theta,m11,m00,m1,maxit,tol, itr, high):\n",
    "    resultbox = np.ones((2, maxit))\n",
    "    count = 0\n",
    "    for j in range(0,maxit):\n",
    "        ratio00 = correct_ratio_00(theta[0,0], theta[1,0])\n",
    "        ratio11 = correct_ratio_11(theta[0,0], theta[1,0])\n",
    "        #print(ratio11)\n",
    "        newm00 = m00 * ratio00\n",
    "        newm11 = m11 * ratio11\n",
    "        newm1 = market_size - newm11 - newm00\n",
    "        newtheta = NR1(theta,newm11,newm00,newm1,itr,tol)\n",
    "        count += 1\n",
    "        # 局所解を避けるため、tolを下回るようになったら一回小さいpurterbationをしてずれないかを確かめる。\n",
    "        if np.linalg.norm(newtheta - theta) < tol:\n",
    "            # checkプロセス（ちょっとずらして自己強化プロセス）\n",
    "            checker = newtheta + e.rvs((2,1))/100\n",
    "            #print(checker)\n",
    "            checker = NR1(checker,newm11,newm00,newm1,itr,tol)\n",
    "            if np.linalg.norm(newtheta - checker) < tol:\n",
    "                newtheta = checker\n",
    "                resultbox[:, j] = newtheta[:, 0]\n",
    "                #print(\"main3終わり\")\n",
    "                break\n",
    "            else:\n",
    "                theta = checker\n",
    "        # highを超えてても、正しい方向ならいい。\n",
    "        # countを用意して、purterbation後の数ステップはこの基準を無視するようにする\n",
    "        elif np.linalg.norm(newtheta - theta) > high:\n",
    "            if count > 10:\n",
    "                theta = (newtheta + theta)/2 + e.rvs((2,1))\n",
    "                count = 0\n",
    "        theta = newtheta\n",
    "        resultbox[:, j] = newtheta[:, 0]\n",
    "    return newtheta, resultbox[:, 0:j]"
   ]
  },
  {
   "cell_type": "code",
   "execution_count": 24,
   "metadata": {
    "collapsed": false
   },
   "outputs": [
    {
     "name": "stdout",
     "output_type": "stream",
     "text": [
      "main3終わり\n"
     ]
    }
   ],
   "source": [
    "maxit = 1000\n",
    "tol = 1/maxit\n",
    "itr = 10\n",
    "high = 0.1\n",
    "initial = np.array([[0.5],[-1]])\n",
    "m00 = sum([True for i in df[\"equi\"] if i == 0.0])\n",
    "m11 = sum([True for i in df[\"equi\"] if i == 3.0])\n",
    "m1 = market_size - m00 - m11\n",
    "\n",
    "a, b = main4(initial,m11,m00,m1,maxit,tol, itr, high)"
   ]
  },
  {
   "cell_type": "code",
   "execution_count": 53,
   "metadata": {
    "collapsed": false
   },
   "outputs": [],
   "source": [
    "maxit = 1000\n",
    "tol = 1/maxit\n",
    "itr = 10\n",
    "high = 0.1\n",
    "m00 = sum([True for i in df[\"equi\"] if i == 0.0])\n",
    "m11 = sum([True for i in df[\"equi\"] if i == 3.0])\n",
    "m1 = market_size - m00 - m11\n",
    "\n",
    "resultbox = []\n",
    "inimus = np.linspace(1.5,3,10)\n",
    "inideltas = np.linspace(-3,-1.5,10)\n",
    "for i in inimus:\n",
    "    for j in inideltas:\n",
    "        initial = np.array([[i],[j]])\n",
    "        a, b = main4(initial,m11,m00,m1,maxit,tol, itr, high)\n",
    "        resultbox.append(b)"
   ]
  },
  {
   "cell_type": "code",
   "execution_count": 59,
   "metadata": {
    "collapsed": false
   },
   "outputs": [
    {
     "data": {
      "image/png": "[encoded data removed]",
      "text/plain": [
       "<matplotlib.figure.Figure at 0x11558c4a8>"
      ]
     },
     "metadata": {},
     "output_type": "display_data"
    }
   ],
   "source": [
    "for i in range(0,100):\n",
    "    plt.plot(resultbox[i][0,:], resultbox[i][1,:])\n",
    "plt.xlabel(r\"$\\theta_{\\mu}$'s initial value\")\n",
    "plt.ylabel(r\"$\\theta_{\\delta}$'s initial value\")\n",
    "plt.savefig(\"conversion.png\")\n",
    "plt.show()"
   ]
  },
  {
   "cell_type": "markdown",
   "metadata": {
    "collapsed": true
   },
   "source": [
    "## 差を見る"
   ]
  },
  {
   "cell_type": "code",
   "execution_count": 6,
   "metadata": {
    "collapsed": false
   },
   "outputs": [],
   "source": [
    "def diff(mu,delta):\n",
    "    return (e.cdf(-mu-delta) - e.cdf(-mu))*((2*mu+delta)*(e.cdf(-mu-delta) - e.cdf(-mu))/delta + 2*(e.pdf(mu) - e.pdf(mu+delta))/delta)"
   ]
  },
  {
   "cell_type": "code",
   "execution_count": null,
   "metadata": {
    "collapsed": false
   },
   "outputs": [
    {
     "name": "stderr",
     "output_type": "stream",
     "text": [
      "/Users/susu/anaconda/lib/python3.5/site-packages/ipykernel/__main__.py:2: RuntimeWarning: invalid value encountered in double_scalars\n",
      "  from ipykernel import kernelapp as app\n",
      "/Users/susu/anaconda/lib/python3.5/site-packages/matplotlib/colors.py:581: RuntimeWarning: invalid value encountered in less\n",
      "  cbook._putmask(xa, xa < 0.0, -1)\n"
     ]
    }
   ],
   "source": [
    "mus = np.linspace(-15,15,200)\n",
    "deltas = np.linspace(-30,0,200)\n",
    "X1, X2 = np.meshgrid(mus, deltas)\n",
    "z3 = np.array([diff(mu, delta) for mu in mus for delta in deltas]).reshape(X1.shape)\n",
    "\n",
    "fig = plt.figure()\n",
    "ax = fig.gca(projection='3d')\n",
    "ax.plot_surface(X1, X2, z3, cmap=cm.coolwarm)\n",
    "ax.set_xlabel(r\"$\\theta_{\\mu}$\")\n",
    "ax.set_ylabel(r\"$\\theta_{\\delta}$\")\n",
    "ax.set_zlabel(\"difference\")\n",
    "plt.savefig(\"diff.png\")\n",
    "plt.show()"
   ]
  },
  {
   "cell_type": "markdown",
   "metadata": {},
   "source": [
    "これより、\n",
    "\n",
    "$\\theta_{\\mu} > 0$かつ$\\theta_{\\delta} > -\\theta_{\\mu}$の時は領域の差分がpure strategyとmixed strategyの時で差がないので、その差を推定に用いることができる。"
   ]
  },
  {
   "cell_type": "code",
   "execution_count": 4,
   "metadata": {
    "collapsed": false
   },
   "outputs": [
    {
     "data": {
      "image/png": "[encoded data removed]",
      "text/plain": [
       "<matplotlib.figure.Figure at 0x1151d1400>"
      ]
     },
     "metadata": {},
     "output_type": "display_data"
    }
   ],
   "source": [
    "# 本当に？\n",
    "# mu + delta = 0のケースで詳しく見る\n",
    "# 確かに0になる。（十分にmuが大きければね）\n",
    "\n",
    "def diff2(mu):\n",
    "    return (1/2 - e.cdf(-mu))*(e.cdf(-mu) - 1/2 - 2*(e.pdf(mu) - np.sqrt(2*np.pi))/mu)\n",
    "    \n",
    "mus = np.linspace(0.01,20,100)\n",
    "result = [diff2(i) for i in mus]\n",
    "plt.plot(mus, result)\n",
    "plt.ylim((-1,0))\n",
    "plt.xlabel(r\"$\\theta_{\\mu}$\")\n",
    "plt.ylabel(r\"difference\")\n",
    "plt.savefig(\"diff2.png\")\n",
    "plt.show()"
   ]
  },
  {
   "cell_type": "code",
   "execution_count": 11,
   "metadata": {
    "collapsed": false
   },
   "outputs": [
    {
     "data": {
      "text/plain": [
       "[None, None, None, None, None, None, None, None, None, None]"
      ]
     },
     "execution_count": 11,
     "metadata": {},
     "output_type": "execute_result"
    }
   ],
   "source": [
    "result"
   ]
  },
  {
   "cell_type": "code",
   "execution_count": 12,
   "metadata": {
    "collapsed": false
   },
   "outputs": [
    {
     "data": {
      "text/plain": [
       "-2.1076861937006579"
      ]
     },
     "execution_count": 12,
     "metadata": {},
     "output_type": "execute_result"
    }
   ],
   "source": [
    "e.pdf(0.001) - np.sqrt(2*np.pi)"
   ]
  },
  {
   "cell_type": "code",
   "execution_count": null,
   "metadata": {
    "collapsed": true
   },
   "outputs": [],
   "source": []
  }
 ],
 "metadata": {
  "kernelspec": {
   "display_name": "Python 3",
   "language": "python",
   "name": "python3"
  },
  "language_info": {
   "codemirror_mode": {
    "name": "ipython",
    "version": 3
   },
   "file_extension": ".py",
   "mimetype": "text/x-python",
   "name": "python",
   "nbconvert_exporter": "python",
   "pygments_lexer": "ipython3",
   "version": "3.5.1"
  }
 },
 "nbformat": 4,
 "nbformat_minor": 2
}
