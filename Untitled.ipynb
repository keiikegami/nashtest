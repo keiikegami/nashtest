{
 "cells": [
  {
   "cell_type": "markdown",
   "metadata": {},
   "source": [
    "# nash test"
   ]
  },
  {
   "cell_type": "code",
   "execution_count": 35,
   "metadata": {
    "collapsed": false
   },
   "outputs": [
    {
     "data": {
      "text/plain": [
       "nash (generic function with 1 method)"
      ]
     },
     "execution_count": 35,
     "metadata": {},
     "output_type": "execute_result"
    }
   ],
   "source": [
    "function nash(row)\n",
    "    if row[4] <= -alpha*row[1]-beta*row[2]\n",
    "        if row[5] <= -alpha*row[1]-beta*row[3]\n",
    "            return [0,0]\n",
    "        else\n",
    "            return [0,1]\n",
    "        end\n",
    "    elseif -alpha*row[1]-beta*row[2] <= row[4] <= -alpha*row[1]-beta*row[2] -delta\n",
    "        if row[5] <= -alpha*row[1]-beta*row[3]\n",
    "            return [1,0]\n",
    "        elseif  -alpha*row[1]-beta*row[3] <= row[5] <=  -alpha*row[1]-beta*row[3] -delta\n",
    "            if rand() < lambda\n",
    "                return [0,1]\n",
    "            else\n",
    "                return [1,0]\n",
    "            end\n",
    "        elseif -alpha*row[1]-beta*row[3] -delta <= row[5]\n",
    "            return [0,1]\n",
    "        end\n",
    "    elseif -alpha*row[1]-beta*row[2] -delta <= row[ 4]\n",
    "        if row[5] <=  -alpha*row[1]-beta*row[3] -delta\n",
    "            return [1,0]\n",
    "        else\n",
    "            return [1,1]\n",
    "        end\n",
    "    end\n",
    "end"
   ]
  },
  {
   "cell_type": "code",
   "execution_count": 26,
   "metadata": {
    "collapsed": false
   },
   "outputs": [],
   "source": [
    "# sample data generate\n",
    "srand(1234)\n",
    "# Defining some primitives \n",
    "Num_Market = 10000;\n",
    "time = 100\n",
    "Population = rand(Num_Market,1);\n",
    "Distance   = rand(Num_Market,2);\n",
    "\n",
    "\n",
    "# Giving some parameter values\n",
    "alpha =  0.5;\n",
    "beta  = -0.7;\n",
    "delta = -0.3;\n",
    "lambda = 0.5\n",
    "\n",
    "\n",
    "# Generating Fake Data\n",
    "epsilon = randn(Num_Market,2)\n",
    "\n",
    "data = zeros(Num_Market, 7)\n",
    "data[:, 1] = Population\n",
    "data[:, 2:3] = Distance\n",
    "data[:, 4:5] = epsilon;\n",
    "\n",
    "for i in 1:Num_Market\n",
    "    data[i, 6:7] = nash(data[i, :])\n",
    "end"
   ]
  },
  {
   "cell_type": "code",
   "execution_count": null,
   "metadata": {
    "collapsed": true
   },
   "outputs": [],
   "source": []
  }
 ],
 "metadata": {
  "kernelspec": {
   "display_name": "Julia 0.6.0",
   "language": "julia",
   "name": "julia-0.6"
  },
  "language_info": {
   "file_extension": ".jl",
   "mimetype": "application/julia",
   "name": "julia",
   "version": "0.6.0"
  }
 },
 "nbformat": 4,
 "nbformat_minor": 2
}
