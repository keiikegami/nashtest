{
 "cells": [
  {
   "cell_type": "markdown",
   "metadata": {},
   "source": [
    "# nash test"
   ]
  },
  {
   "cell_type": "code",
   "execution_count": 1,
   "metadata": {
    "collapsed": false
   },
   "outputs": [
    {
     "data": {
      "text/plain": [
       "0.5"
      ]
     },
     "execution_count": 1,
     "metadata": {},
     "output_type": "execute_result"
    }
   ],
   "source": [
    "# Giving some parameter values\n",
    "alpha =  0.5;\n",
    "beta  = -0.7;\n",
    "delta = -0.3;\n",
    "lambda = 0.5"
   ]
  },
  {
   "cell_type": "code",
   "execution_count": 2,
   "metadata": {
    "collapsed": false
   },
   "outputs": [
    {
     "data": {
      "text/plain": [
       "nash (generic function with 1 method)"
      ]
     },
     "execution_count": 2,
     "metadata": {},
     "output_type": "execute_result"
    }
   ],
   "source": [
    "function nash(row)\n",
    "    if row[4] <= -alpha*row[1]-beta*row[2]\n",
    "        if row[5] <= -alpha*row[1]-beta*row[3]\n",
    "            return [0,0, 1]\n",
    "        else\n",
    "            return [0,1, 2]\n",
    "        end\n",
    "    elseif -alpha*row[1]-beta*row[2] <= row[4] <= -alpha*row[1]-beta*row[2] -delta\n",
    "        if row[5] <= -alpha*row[1]-beta*row[3]\n",
    "            return [1,0, 3]\n",
    "        elseif  -alpha*row[1]-beta*row[3] <= row[5] <=  -alpha*row[1]-beta*row[3] -delta\n",
    "            if rand() < lambda\n",
    "                return [0,1,2]\n",
    "            else\n",
    "                return [1,0,3]\n",
    "            end\n",
    "        elseif -alpha*row[1]-beta*row[3] -delta <= row[5]\n",
    "            return [0,1,2]\n",
    "        end\n",
    "    elseif -alpha*row[1]-beta*row[2] -delta <= row[ 4]\n",
    "        if row[5] <=  -alpha*row[1]-beta*row[3] -delta\n",
    "            return [1,0,3]\n",
    "        else\n",
    "            return [1,1,4]\n",
    "        end\n",
    "    end\n",
    "end"
   ]
  },
  {
   "cell_type": "code",
   "execution_count": 3,
   "metadata": {
    "collapsed": false
   },
   "outputs": [
    {
     "data": {
      "text/plain": [
       "dg (generic function with 1 method)"
      ]
     },
     "execution_count": 3,
     "metadata": {},
     "output_type": "execute_result"
    }
   ],
   "source": [
    "function dg(random::Int64, Num_Market::Int64)\n",
    "    srand(random)\n",
    "    data = zeros(Num_Market, 8)\n",
    "    data[:, 1] = rand(Num_Market, 1)\n",
    "    data[:, 2:3] = rand(Num_Market, 2)\n",
    "    data[:, 4:5] = randn(Num_Market, 2)\n",
    "    for i in 1:Num_Market\n",
    "        data[i, 6:8] = nash(data[i, :])\n",
    "    end\n",
    "    return data\n",
    "end"
   ]
  },
  {
   "cell_type": "code",
   "execution_count": 6,
   "metadata": {
    "collapsed": false
   },
   "outputs": [],
   "source": [
    "seed = 123\n",
    "Num_market = 1000\n",
    "data = dg(seed, Num_market);"
   ]
  },
  {
   "cell_type": "code",
   "execution_count": 8,
   "metadata": {
    "collapsed": false
   },
   "outputs": [],
   "source": [
    "using DataFrames"
   ]
  },
  {
   "cell_type": "code",
   "execution_count": 10,
   "metadata": {
    "collapsed": false
   },
   "outputs": [],
   "source": [
    "df = DataFrame(Pop = data[:, 1], Dist1 = data[:, 2], Dist2 = data[:, 3], eps1 = data[:, 4], \n",
    "eps2 = data[:, 5], Ent1 = data[:, 6], Ent2 = data[:, 7], Equi = data[:, 8])\n",
    "writetable(\"data.csv\", df)"
   ]
  },
  {
   "cell_type": "code",
   "execution_count": null,
   "metadata": {
    "collapsed": true
   },
   "outputs": [],
   "source": []
  }
 ],
 "metadata": {
  "kernelspec": {
   "display_name": "Julia 0.6.0",
   "language": "julia",
   "name": "julia-0.6"
  },
  "language_info": {
   "file_extension": ".jl",
   "mimetype": "application/julia",
   "name": "julia",
   "version": "0.6.0"
  }
 },
 "nbformat": 4,
 "nbformat_minor": 2
}
