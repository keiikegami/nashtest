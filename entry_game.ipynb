{
 "cells": [
  {
   "cell_type": "markdown",
   "metadata": {},
   "source": [
    "# nash test"
   ]
  },
  {
   "cell_type": "code",
   "execution_count": 13,
   "metadata": {
    "collapsed": false
   },
   "outputs": [],
   "source": [
    "using FreqTables"
   ]
  },
  {
   "cell_type": "code",
   "execution_count": 14,
   "metadata": {
    "collapsed": false
   },
   "outputs": [
    {
     "data": {
      "text/html": [
       "0.5"
      ],
      "text/plain": [
       "0.5"
      ]
     },
     "execution_count": 14,
     "metadata": {},
     "output_type": "execute_result"
    }
   ],
   "source": [
    "# Giving some parameter values\n",
    "alpha =  0.5;\n",
    "beta  = -0.7;\n",
    "delta = -0.3;\n",
    "lambda = 0.5"
   ]
  },
  {
   "cell_type": "code",
   "execution_count": 15,
   "metadata": {
    "collapsed": false
   },
   "outputs": [
    {
     "data": {
      "text/plain": [
       "nash (generic function with 1 method)"
      ]
     },
     "execution_count": 15,
     "metadata": {},
     "output_type": "execute_result"
    }
   ],
   "source": [
    "function nash(row)\n",
    "    if row[4] <= -alpha*row[1]-beta*row[2]\n",
    "        if row[5] <= -alpha*row[1]-beta*row[3]\n",
    "            return [0,0, 1]\n",
    "        else\n",
    "            return [0,1, 2]\n",
    "        end\n",
    "    elseif -alpha*row[1]-beta*row[2] <= row[4] <= -alpha*row[1]-beta*row[2] -delta\n",
    "        if row[5] <= -alpha*row[1]-beta*row[3]\n",
    "            return [1,0, 3]\n",
    "        elseif  -alpha*row[1]-beta*row[3] <= row[5] <=  -alpha*row[1]-beta*row[3] -delta\n",
    "            if rand() < lambda\n",
    "                return [0,1,2]\n",
    "            else\n",
    "                return [1,0,3]\n",
    "            end\n",
    "        elseif -alpha*row[1]-beta*row[3] -delta <= row[5]\n",
    "            return [0,1,2]\n",
    "        end\n",
    "    elseif -alpha*row[1]-beta*row[2] -delta <= row[ 4]\n",
    "        if row[5] <=  -alpha*row[1]-beta*row[3] -delta\n",
    "            return [1,0,3]\n",
    "        else\n",
    "            return [1,1,4]\n",
    "        end\n",
    "    end\n",
    "end"
   ]
  },
  {
   "cell_type": "code",
   "execution_count": 54,
   "metadata": {
    "collapsed": false
   },
   "outputs": [
    {
     "data": {
      "text/plain": [
       "dg (generic function with 2 methods)"
      ]
     },
     "execution_count": 54,
     "metadata": {},
     "output_type": "execute_result"
    }
   ],
   "source": [
    "function dg(random::Int64, Num_Market::Int64, time::Int64)\n",
    "    result = zeros(time, 4)\n",
    "    for t in 1:time\n",
    "        srand(random + t)\n",
    "        data = zeros(Num_Market, 8)\n",
    "        data[:, 1] = rand(Num_Market, 1)\n",
    "        data[:, 2:3] = rand(Num_Market, 2)\n",
    "        data[:, 4:5] = randn(Num_Market, 2)\n",
    "        for i in 1:Num_Market\n",
    "            data[i, 6:8] = nash(data[i, :])\n",
    "        end\n",
    "        result[t, :] = [j/Num_Market for j in freqtable(data[:, 8])]\n",
    "    end\n",
    "    return result\n",
    "end"
   ]
  },
  {
   "cell_type": "code",
   "execution_count": 55,
   "metadata": {
    "collapsed": false
   },
   "outputs": [
    {
     "data": {
      "text/plain": [
       "100×4 Array{Float64,2}:\n",
       " 0.295  0.282  0.297  0.126\n",
       " 0.323  0.265  0.305  0.107\n",
       " 0.294  0.293  0.287  0.126\n",
       " 0.314  0.284  0.262  0.14 \n",
       " 0.299  0.304  0.275  0.122\n",
       " 0.303  0.269  0.279  0.149\n",
       " 0.29   0.301  0.287  0.122\n",
       " 0.316  0.279  0.296  0.109\n",
       " 0.275  0.321  0.272  0.132\n",
       " 0.322  0.298  0.262  0.118\n",
       " 0.286  0.296  0.295  0.123\n",
       " 0.274  0.302  0.293  0.131\n",
       " 0.284  0.323  0.259  0.134\n",
       " ⋮                         \n",
       " 0.292  0.282  0.293  0.133\n",
       " 0.285  0.301  0.285  0.129\n",
       " 0.284  0.298  0.274  0.144\n",
       " 0.276  0.31   0.292  0.122\n",
       " 0.283  0.3    0.313  0.104\n",
       " 0.262  0.304  0.314  0.12 \n",
       " 0.292  0.279  0.307  0.122\n",
       " 0.311  0.288  0.283  0.118\n",
       " 0.295  0.298  0.284  0.123\n",
       " 0.288  0.294  0.279  0.139\n",
       " 0.297  0.265  0.32   0.118\n",
       " 0.292  0.305  0.295  0.108"
      ]
     },
     "execution_count": 55,
     "metadata": {},
     "output_type": "execute_result"
    }
   ],
   "source": [
    "seed = 123\n",
    "Num_market = 1000\n",
    "time = 100\n",
    "data = dg(seed, Num_market, time)"
   ]
  },
  {
   "cell_type": "code",
   "execution_count": null,
   "metadata": {
    "collapsed": true
   },
   "outputs": [],
   "source": []
  }
 ],
 "metadata": {
  "kernelspec": {
   "display_name": "Julia 0.6.0",
   "language": "julia",
   "name": "julia-0.6"
  },
  "language_info": {
   "file_extension": ".jl",
   "mimetype": "application/julia",
   "name": "julia",
   "version": "0.6.0"
  }
 },
 "nbformat": 4,
 "nbformat_minor": 2
}
