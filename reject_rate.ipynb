{
 "cells": [
  {
   "cell_type": "markdown",
   "metadata": {},
   "source": [
    "# コメントをやる\n",
    "\n",
    "やること：帰無仮説が正しいのに棄却してしまう確立が5パーセントかを調べる\n",
    "\n",
    "なのでまずは純粋戦略ナッシュ均衡のデータを作る"
   ]
  },
  {
   "cell_type": "code",
   "execution_count": 68,
   "metadata": {
    "collapsed": true
   },
   "outputs": [],
   "source": [
    "import numpy as np\n",
    "import scipy.stats as st\n",
    "import matplotlib.pyplot as plt\n",
    "% matplotlib inline\n",
    "import pandas as pd\n",
    "from mpl_toolkits.mplot3d import Axes3D\n",
    "from matplotlib import cm\n",
    "from numpy.linalg import inv\n",
    "from numpy.random import *\n",
    "import numdifftools as nd\n",
    "from sklearn import linear_model"
   ]
  },
  {
   "cell_type": "code",
   "execution_count": 96,
   "metadata": {
    "collapsed": true
   },
   "outputs": [],
   "source": [
    "a = st.uniform()\n",
    "s = st.norm()\n",
    "e = st.norm()\n",
    "# サンプルデータをたくさん作る必要があるのでMとTは小さくしようかね\n",
    "# 1期のデータを作る\n",
    "M = 10000\n",
    "T = 1\n",
    "random = 111\n",
    "beta1 = 0.8\n",
    "beta2 = -0.5\n",
    "beta3 = -0.5\n",
    "delta = -0.25\n",
    "cut = 0"
   ]
  },
  {
   "cell_type": "code",
   "execution_count": 97,
   "metadata": {
    "collapsed": true
   },
   "outputs": [],
   "source": [
    "def nash(x, true_mu, true_delta, random, a):\n",
    "    if x[0] < -true_mu:\n",
    "        if x[1] < -true_mu:\n",
    "            return [0,0,0]\n",
    "        else :\n",
    "            return [0,1,1]\n",
    "    elif -true_mu < x[0] < -true_mu -true_delta:\n",
    "        if x[1] < -true_mu:\n",
    "            return [1,0,2]\n",
    "        elif -true_mu < x[1] < -true_mu -true_delta:\n",
    "            if a.rvs() < 0.5:\n",
    "                return [1,0,2]\n",
    "            else:\n",
    "                return [0,1,1]\n",
    "        else:\n",
    "            return [0,1,1]\n",
    "    else:\n",
    "        if x[1] < -true_mu -true_delta:\n",
    "            return [1,0,2]\n",
    "        else:\n",
    "            return [1,1,3]\n",
    "        \n",
    "def diff(p):\n",
    "    p_0 = sum([True for i in data2[p, :, 2] if i == 0.0])/T\n",
    "    p_2 = sum([True for i in data2[p, :, 2] if i == 3.0])/T\n",
    "    return p_0 - p_2\n",
    "\n",
    "def num(p):\n",
    "    num0 = sum([True for i in data2[p, :, 2] if i == 0.0])\n",
    "    num2 = sum([True for i in data2[p, :, 2] if i == 3.0])\n",
    "    num1 = T - num0 - num2\n",
    "    return num0, num1, num2"
   ]
  },
  {
   "cell_type": "code",
   "execution_count": 98,
   "metadata": {
    "collapsed": false
   },
   "outputs": [],
   "source": [
    "# データを作る。\n",
    "data = e.rvs(size = (M,3), random_state = 1234)\n",
    "eps = s.rvs(size = (M,T,2), random_state = 4321)\n",
    "data2 = np.ones((M,T,3))\n",
    "for m in range(M):\n",
    "    for t in range(T):\n",
    "        data2[m, t, :] = nash(eps[m, t, :], data[m, 0]*beta1 + data[m, 1]*beta2, delta, random, a)\n",
    "\n",
    "d = np.array([diff(p) for p in range(M)])\n",
    "d2 = np.reshape(np.array([num(p) for p in range(M)]), (M, 3))\n",
    "df = pd.DataFrame({\"Pop\" : data[:,0], \"Dist1\" : data[:, 1], \"Dist2\" : data[:, 2], \"diff\" : d, \"num0\":d2[:, 0], \"num1\":d2[:, 1], \"num2\":d2[:, 2]})\n",
    "#df = df[(beta1 * df.Pop + beta2 * df.Dist1 + delta > cut) & (beta1 * df.Pop + beta2 * df.Dist2 + delta > cut)]\n",
    "#df.to_csv(\"pure_data.csv\")"
   ]
  },
  {
   "cell_type": "markdown",
   "metadata": {},
   "source": [
    "## 推定"
   ]
  },
  {
   "cell_type": "code",
   "execution_count": 99,
   "metadata": {
    "collapsed": true
   },
   "outputs": [],
   "source": [
    "#df = pd.read_csv(\"pure_data.csv\")\n",
    "pop = df[[\"Pop\"]].values[:, 0]\n",
    "dist1 = df[[\"Dist1\"]].values[:, 0]\n",
    "dist2 = df[[\"Dist2\"]].values[:, 0]\n",
    "num0 = df[[\"num0\"]].values[:, 0]\n",
    "num2 = df[[\"num2\"]].values[:, 0]\n",
    "diff = df[[\"diff\"]].values[:, 0]"
   ]
  },
  {
   "cell_type": "code",
   "execution_count": 100,
   "metadata": {
    "collapsed": true
   },
   "outputs": [],
   "source": [
    "def br(x):\n",
    "    xb1 = x[0] * pop + x[1] * dist1\n",
    "    xb2 = x[0] * pop + x[1] * dist2\n",
    "    logl = num0*(np.log(s.cdf(-xb1)*s.cdf(-xb2))) \\\n",
    "    + num2*(np.log(s.cdf(xb1+x[2])*s.cdf(xb2+x[2])))\\\n",
    "    + (T- num0- num2)*np.log(1-s.cdf(-xb1)*s.cdf(-xb2)-s.cdf(xb1+x[2])*s.cdf(xb2+x[2]))\n",
    "    return sum(logl)\n",
    "\n",
    "def br1(x):\n",
    "    xb1 = x[0] * pop + x[1] * dist1\n",
    "    xb2 = x[0] * pop + x[1] * dist2\n",
    "    logl = num0*(np.log(s.cdf(-xb1)*s.cdf(-xb2)) -np.log(1-s.cdf(-xb1)*s.cdf(-xb2)-s.cdf(xb1+x[2])*s.cdf(xb2+x[2]))) \\\n",
    "    + num2*(np.log(s.cdf(xb1+x[2])*s.cdf(xb2+x[2])) - np.log(1-s.cdf(-xb1)*s.cdf(-xb2)-s.cdf(xb1+x[2])*s.cdf(xb2+x[2])))\\\n",
    "    + T*np.log(1-s.cdf(-xb1)*s.cdf(-xb2)-s.cdf(xb1+x[2])*s.cdf(xb2+x[2]))\n",
    "    return logl\n",
    "\n",
    "def robust(x):\n",
    "    xb1 = x[0] * pop + x[1] * dist1\n",
    "    xb2 = x[0] * pop + x[1] * dist2\n",
    "    r = (diff + s.cdf(xb1 + x[2])*s.cdf(xb2 + x[2]) - s.cdf(-xb1)*s.cdf(-xb2))**2\n",
    "    return -sum(r)\n",
    "\n",
    "def robust1(x):\n",
    "    xb1 = x[0] * pop + x[1] * dist1\n",
    "    xb2 = x[0] * pop + x[1] * dist2\n",
    "    r = diff + s.cdf(xb1 + x[2])*s.cdf(xb2 + x[2]) - s.cdf(-xb1)*s.cdf(-xb2)\n",
    "    return r\n",
    "\n",
    "def NR(initial, fun, tol, maxit):\n",
    "    theta = initial\n",
    "    for i in range(0,maxit):\n",
    "        G = nd.Gradient(fun)(theta)\n",
    "        H = nd.Hessian(fun)(theta)\n",
    "        del_theta = inv(H).dot(G)\n",
    "        theta = theta - del_theta\n",
    "        if np.linalg.norm(del_theta) < tol:\n",
    "            print(\"NR終わり\")\n",
    "            break\n",
    "    return theta"
   ]
  },
  {
   "cell_type": "code",
   "execution_count": 101,
   "metadata": {
    "collapsed": false,
    "scrolled": true
   },
   "outputs": [
    {
     "name": "stderr",
     "output_type": "stream",
     "text": [
      "/Users/susu/anaconda/lib/python3.5/site-packages/ipykernel/__main__.py:4: RuntimeWarning: divide by zero encountered in log\n",
      "/Users/susu/anaconda/lib/python3.5/site-packages/ipykernel/__main__.py:4: RuntimeWarning: invalid value encountered in log\n",
      "/Users/susu/anaconda/lib/python3.5/site-packages/ipykernel/__main__.py:4: RuntimeWarning: invalid value encountered in multiply\n",
      "/Users/susu/anaconda/lib/python3.5/site-packages/numdifftools/extrapolation.py:443: RuntimeWarning: invalid value encountered in less_equal\n",
      "  converged = err <= tol\n",
      "/Users/susu/anaconda/lib/python3.5/site-packages/numdifftools/limits.py:150: RuntimeWarning: invalid value encountered in less\n",
      "  outliers = (((abs(der) < (a_median / trim_fact)) +\n",
      "/Users/susu/anaconda/lib/python3.5/site-packages/numdifftools/limits.py:151: RuntimeWarning: invalid value encountered in greater\n",
      "  (abs(der) > (a_median * trim_fact))) * (a_median > 1e-8) +\n",
      "/Users/susu/anaconda/lib/python3.5/site-packages/numdifftools/limits.py:152: RuntimeWarning: invalid value encountered in less\n",
      "  ((der < p25-1.5*iqr) + (p75+1.5*iqr < der)))\n",
      "/Users/susu/anaconda/lib/python3.5/site-packages/ipykernel/__main__.py:4: RuntimeWarning: divide by zero encountered in log\n",
      "/Users/susu/anaconda/lib/python3.5/site-packages/ipykernel/__main__.py:4: RuntimeWarning: invalid value encountered in log\n",
      "/Users/susu/anaconda/lib/python3.5/site-packages/ipykernel/__main__.py:4: RuntimeWarning: invalid value encountered in multiply\n",
      "/Users/susu/anaconda/lib/python3.5/site-packages/numdifftools/extrapolation.py:443: RuntimeWarning: invalid value encountered in less_equal\n",
      "  converged = err <= tol\n",
      "/Users/susu/anaconda/lib/python3.5/site-packages/numdifftools/limits.py:150: RuntimeWarning: invalid value encountered in less\n",
      "  outliers = (((abs(der) < (a_median / trim_fact)) +\n",
      "/Users/susu/anaconda/lib/python3.5/site-packages/numdifftools/limits.py:151: RuntimeWarning: invalid value encountered in greater\n",
      "  (abs(der) > (a_median * trim_fact))) * (a_median > 1e-8) +\n",
      "/Users/susu/anaconda/lib/python3.5/site-packages/numdifftools/limits.py:152: RuntimeWarning: invalid value encountered in less\n",
      "  ((der < p25-1.5*iqr) + (p75+1.5*iqr < der)))\n",
      "/Users/susu/anaconda/lib/python3.5/site-packages/ipykernel/__main__.py:4: RuntimeWarning: divide by zero encountered in log\n",
      "/Users/susu/anaconda/lib/python3.5/site-packages/ipykernel/__main__.py:4: RuntimeWarning: invalid value encountered in log\n",
      "/Users/susu/anaconda/lib/python3.5/site-packages/ipykernel/__main__.py:4: RuntimeWarning: invalid value encountered in multiply\n",
      "/Users/susu/anaconda/lib/python3.5/site-packages/numdifftools/extrapolation.py:443: RuntimeWarning: invalid value encountered in less_equal\n",
      "  converged = err <= tol\n",
      "/Users/susu/anaconda/lib/python3.5/site-packages/numdifftools/limits.py:150: RuntimeWarning: invalid value encountered in less\n",
      "  outliers = (((abs(der) < (a_median / trim_fact)) +\n",
      "/Users/susu/anaconda/lib/python3.5/site-packages/numdifftools/limits.py:151: RuntimeWarning: invalid value encountered in greater\n",
      "  (abs(der) > (a_median * trim_fact))) * (a_median > 1e-8) +\n",
      "/Users/susu/anaconda/lib/python3.5/site-packages/numdifftools/limits.py:152: RuntimeWarning: invalid value encountered in less\n",
      "  ((der < p25-1.5*iqr) + (p75+1.5*iqr < der)))\n",
      "/Users/susu/anaconda/lib/python3.5/site-packages/ipykernel/__main__.py:4: RuntimeWarning: divide by zero encountered in log\n",
      "/Users/susu/anaconda/lib/python3.5/site-packages/ipykernel/__main__.py:4: RuntimeWarning: invalid value encountered in log\n",
      "/Users/susu/anaconda/lib/python3.5/site-packages/ipykernel/__main__.py:4: RuntimeWarning: invalid value encountered in multiply\n",
      "/Users/susu/anaconda/lib/python3.5/site-packages/numdifftools/extrapolation.py:443: RuntimeWarning: invalid value encountered in less_equal\n",
      "  converged = err <= tol\n",
      "/Users/susu/anaconda/lib/python3.5/site-packages/numdifftools/limits.py:150: RuntimeWarning: invalid value encountered in less\n",
      "  outliers = (((abs(der) < (a_median / trim_fact)) +\n",
      "/Users/susu/anaconda/lib/python3.5/site-packages/numdifftools/limits.py:151: RuntimeWarning: invalid value encountered in greater\n",
      "  (abs(der) > (a_median * trim_fact))) * (a_median > 1e-8) +\n",
      "/Users/susu/anaconda/lib/python3.5/site-packages/numdifftools/limits.py:152: RuntimeWarning: invalid value encountered in less\n",
      "  ((der < p25-1.5*iqr) + (p75+1.5*iqr < der)))\n",
      "/Users/susu/anaconda/lib/python3.5/site-packages/ipykernel/__main__.py:4: RuntimeWarning: divide by zero encountered in log\n",
      "/Users/susu/anaconda/lib/python3.5/site-packages/ipykernel/__main__.py:4: RuntimeWarning: invalid value encountered in log\n",
      "/Users/susu/anaconda/lib/python3.5/site-packages/ipykernel/__main__.py:4: RuntimeWarning: invalid value encountered in multiply\n",
      "/Users/susu/anaconda/lib/python3.5/site-packages/numdifftools/extrapolation.py:443: RuntimeWarning: invalid value encountered in less_equal\n",
      "  converged = err <= tol\n",
      "/Users/susu/anaconda/lib/python3.5/site-packages/numdifftools/limits.py:150: RuntimeWarning: invalid value encountered in less\n",
      "  outliers = (((abs(der) < (a_median / trim_fact)) +\n",
      "/Users/susu/anaconda/lib/python3.5/site-packages/numdifftools/limits.py:151: RuntimeWarning: invalid value encountered in greater\n",
      "  (abs(der) > (a_median * trim_fact))) * (a_median > 1e-8) +\n",
      "/Users/susu/anaconda/lib/python3.5/site-packages/numdifftools/limits.py:152: RuntimeWarning: invalid value encountered in less\n",
      "  ((der < p25-1.5*iqr) + (p75+1.5*iqr < der)))\n",
      "/Users/susu/anaconda/lib/python3.5/site-packages/ipykernel/__main__.py:4: RuntimeWarning: divide by zero encountered in log\n",
      "/Users/susu/anaconda/lib/python3.5/site-packages/ipykernel/__main__.py:4: RuntimeWarning: invalid value encountered in log\n",
      "/Users/susu/anaconda/lib/python3.5/site-packages/ipykernel/__main__.py:4: RuntimeWarning: invalid value encountered in multiply\n",
      "/Users/susu/anaconda/lib/python3.5/site-packages/numdifftools/extrapolation.py:443: RuntimeWarning: invalid value encountered in less_equal\n",
      "  converged = err <= tol\n",
      "/Users/susu/anaconda/lib/python3.5/site-packages/numdifftools/limits.py:150: RuntimeWarning: invalid value encountered in less\n",
      "  outliers = (((abs(der) < (a_median / trim_fact)) +\n",
      "/Users/susu/anaconda/lib/python3.5/site-packages/numdifftools/limits.py:151: RuntimeWarning: invalid value encountered in greater\n",
      "  (abs(der) > (a_median * trim_fact))) * (a_median > 1e-8) +\n",
      "/Users/susu/anaconda/lib/python3.5/site-packages/numdifftools/limits.py:152: RuntimeWarning: invalid value encountered in less\n",
      "  ((der < p25-1.5*iqr) + (p75+1.5*iqr < der)))\n",
      "/Users/susu/anaconda/lib/python3.5/site-packages/ipykernel/__main__.py:4: RuntimeWarning: divide by zero encountered in log\n",
      "/Users/susu/anaconda/lib/python3.5/site-packages/ipykernel/__main__.py:4: RuntimeWarning: invalid value encountered in log\n",
      "/Users/susu/anaconda/lib/python3.5/site-packages/ipykernel/__main__.py:4: RuntimeWarning: invalid value encountered in multiply\n",
      "/Users/susu/anaconda/lib/python3.5/site-packages/numdifftools/extrapolation.py:443: RuntimeWarning: invalid value encountered in less_equal\n",
      "  converged = err <= tol\n",
      "/Users/susu/anaconda/lib/python3.5/site-packages/numdifftools/limits.py:150: RuntimeWarning: invalid value encountered in less\n",
      "  outliers = (((abs(der) < (a_median / trim_fact)) +\n",
      "/Users/susu/anaconda/lib/python3.5/site-packages/numdifftools/limits.py:151: RuntimeWarning: invalid value encountered in greater\n",
      "  (abs(der) > (a_median * trim_fact))) * (a_median > 1e-8) +\n",
      "/Users/susu/anaconda/lib/python3.5/site-packages/numdifftools/limits.py:152: RuntimeWarning: invalid value encountered in less\n",
      "  ((der < p25-1.5*iqr) + (p75+1.5*iqr < der)))\n",
      "/Users/susu/anaconda/lib/python3.5/site-packages/ipykernel/__main__.py:4: RuntimeWarning: divide by zero encountered in log\n",
      "/Users/susu/anaconda/lib/python3.5/site-packages/ipykernel/__main__.py:4: RuntimeWarning: invalid value encountered in log\n",
      "/Users/susu/anaconda/lib/python3.5/site-packages/ipykernel/__main__.py:4: RuntimeWarning: invalid value encountered in multiply\n",
      "/Users/susu/anaconda/lib/python3.5/site-packages/numdifftools/extrapolation.py:443: RuntimeWarning: invalid value encountered in less_equal\n",
      "  converged = err <= tol\n",
      "/Users/susu/anaconda/lib/python3.5/site-packages/numdifftools/limits.py:150: RuntimeWarning: invalid value encountered in less\n",
      "  outliers = (((abs(der) < (a_median / trim_fact)) +\n",
      "/Users/susu/anaconda/lib/python3.5/site-packages/numdifftools/limits.py:151: RuntimeWarning: invalid value encountered in greater\n",
      "  (abs(der) > (a_median * trim_fact))) * (a_median > 1e-8) +\n",
      "/Users/susu/anaconda/lib/python3.5/site-packages/numdifftools/limits.py:152: RuntimeWarning: invalid value encountered in less\n",
      "  ((der < p25-1.5*iqr) + (p75+1.5*iqr < der)))\n"
     ]
    },
    {
     "name": "stdout",
     "output_type": "stream",
     "text": [
      "NR終わり\n",
      "NR終わり\n"
     ]
    }
   ],
   "source": [
    "tole = 0.000005\n",
    "maxx = 100000\n",
    "initial = [0.8,-0.5,-0.25]\n",
    "result_br = NR(initial, br, tole, maxx)\n",
    "result_rob = NR(initial, robust, tole, maxx)"
   ]
  },
  {
   "cell_type": "code",
   "execution_count": 102,
   "metadata": {
    "collapsed": false
   },
   "outputs": [
    {
     "data": {
      "text/plain": [
       "array([ 0.74120962, -0.39457141, -0.13586252])"
      ]
     },
     "execution_count": 102,
     "metadata": {},
     "output_type": "execute_result"
    }
   ],
   "source": [
    "result_br"
   ]
  },
  {
   "cell_type": "code",
   "execution_count": 103,
   "metadata": {
    "collapsed": false
   },
   "outputs": [
    {
     "data": {
      "text/plain": [
       "array([ 0.80498198, -0.49433832, -0.25733163])"
      ]
     },
     "execution_count": 103,
     "metadata": {},
     "output_type": "execute_result"
    }
   ],
   "source": [
    "result_rob"
   ]
  },
  {
   "cell_type": "code",
   "execution_count": 91,
   "metadata": {
    "collapsed": false
   },
   "outputs": [
    {
     "data": {
      "text/plain": [
       "(10000, 7)"
      ]
     },
     "execution_count": 91,
     "metadata": {},
     "output_type": "execute_result"
    }
   ],
   "source": [
    "df.shape"
   ]
  },
  {
   "cell_type": "markdown",
   "metadata": {},
   "source": [
    "ということでバイアスがかかってる\n",
    "\n",
    "以前確認したようにdeltaが今は小さいのでcutを入れなくてもrobust推定量は効くし、そもそもcutを大きくしたのはM市場ケースのためだったのでそれを無視しちゃえば関係ない\n",
    "\n",
    "→今上に出てる結果は諸々やった結果なんだけどバイアス消えない…なんで？\n",
    "\n",
    "とりあえずBRで当初想定されるM市場でやる"
   ]
  },
  {
   "cell_type": "code",
   "execution_count": 92,
   "metadata": {
    "collapsed": true
   },
   "outputs": [],
   "source": [
    "seed(123)\n",
    "m = df.shape[0]\n",
    "draw = randint(1,T+1,m) \n",
    "df[\"draw\"] = draw\n",
    "df[\"realized_entry\"] = df.apply(lambda x: 0 if(x[\"draw\"] <= x[\"num0\"]) else 1 if(x[\"draw\"] <= x[\"num1\"]) else 2, axis = 1)\n",
    "df[\"realized_entry\"] = df[\"realized_entry\"].apply(str)\n",
    "dummy_df = pd.get_dummies(df[[\"realized_entry\"]])\n",
    "df = pd.merge(df, dummy_df, left_index=True, right_index=True)"
   ]
  },
  {
   "cell_type": "code",
   "execution_count": 93,
   "metadata": {
    "collapsed": false
   },
   "outputs": [],
   "source": [
    "entry0 = df[[\"realized_entry_0\"]].values[:, 0]\n",
    "entry1 = df[[\"realized_entry_1\"]].values[:, 0]\n",
    "entry2 = df[[\"realized_entry_2\"]].values[:, 0]\n",
    "\n",
    "def brM(x):\n",
    "    xb1 = x[0] * pop + x[1] * dist1\n",
    "    xb2 = x[0] * pop + x[1] * dist2\n",
    "    logl = entry0*(np.log(s.cdf(-xb1)) + np.log(s.cdf(-xb2))) \\\n",
    "    + entry2*(np.log(s.cdf(xb1+x[2]))+ np.log(s.cdf(xb2+x[2])))\\\n",
    "    + entry1*np.log(1-s.cdf(-xb1)*s.cdf(-xb2)-s.cdf(xb1+x[2])*s.cdf(xb2+x[2]))\n",
    "    return sum(logl)\n",
    "\n",
    "def brM1(x):\n",
    "    xb1 = x[0] * pop + x[1] * dist1\n",
    "    xb2 = x[0] * pop + x[1] * dist2\n",
    "    logl = entry0*(np.log(s.cdf(-xb1)*s.cdf(-xb2))) \\\n",
    "    + entry2*(np.log(s.cdf(xb1+x[2])*s.cdf(xb2+x[2])))\\\n",
    "    + entry1*np.log(1-s.cdf(-xb1)*s.cdf(-xb2)-s.cdf(xb1+x[2])*s.cdf(xb2+x[2]))\n",
    "    return logl"
   ]
  },
  {
   "cell_type": "code",
   "execution_count": 94,
   "metadata": {
    "collapsed": false
   },
   "outputs": [
    {
     "name": "stderr",
     "output_type": "stream",
     "text": [
      "/Users/susu/anaconda/lib/python3.5/site-packages/ipykernel/__main__.py:8: RuntimeWarning: divide by zero encountered in log\n",
      "/Users/susu/anaconda/lib/python3.5/site-packages/ipykernel/__main__.py:8: RuntimeWarning: invalid value encountered in log\n",
      "/Users/susu/anaconda/lib/python3.5/site-packages/ipykernel/__main__.py:8: RuntimeWarning: invalid value encountered in multiply\n",
      "/Users/susu/anaconda/lib/python3.5/site-packages/numdifftools/extrapolation.py:443: RuntimeWarning: invalid value encountered in less_equal\n",
      "  converged = err <= tol\n",
      "/Users/susu/anaconda/lib/python3.5/site-packages/numdifftools/limits.py:150: RuntimeWarning: invalid value encountered in less\n",
      "  outliers = (((abs(der) < (a_median / trim_fact)) +\n",
      "/Users/susu/anaconda/lib/python3.5/site-packages/numdifftools/limits.py:151: RuntimeWarning: invalid value encountered in greater\n",
      "  (abs(der) > (a_median * trim_fact))) * (a_median > 1e-8) +\n",
      "/Users/susu/anaconda/lib/python3.5/site-packages/numdifftools/limits.py:152: RuntimeWarning: invalid value encountered in less\n",
      "  ((der < p25-1.5*iqr) + (p75+1.5*iqr < der)))\n",
      "/Users/susu/anaconda/lib/python3.5/site-packages/ipykernel/__main__.py:8: RuntimeWarning: divide by zero encountered in log\n",
      "/Users/susu/anaconda/lib/python3.5/site-packages/ipykernel/__main__.py:8: RuntimeWarning: invalid value encountered in log\n",
      "/Users/susu/anaconda/lib/python3.5/site-packages/ipykernel/__main__.py:8: RuntimeWarning: invalid value encountered in multiply\n",
      "/Users/susu/anaconda/lib/python3.5/site-packages/numdifftools/extrapolation.py:443: RuntimeWarning: invalid value encountered in less_equal\n",
      "  converged = err <= tol\n",
      "/Users/susu/anaconda/lib/python3.5/site-packages/numdifftools/limits.py:150: RuntimeWarning: invalid value encountered in less\n",
      "  outliers = (((abs(der) < (a_median / trim_fact)) +\n",
      "/Users/susu/anaconda/lib/python3.5/site-packages/numdifftools/limits.py:151: RuntimeWarning: invalid value encountered in greater\n",
      "  (abs(der) > (a_median * trim_fact))) * (a_median > 1e-8) +\n",
      "/Users/susu/anaconda/lib/python3.5/site-packages/numdifftools/limits.py:152: RuntimeWarning: invalid value encountered in less\n",
      "  ((der < p25-1.5*iqr) + (p75+1.5*iqr < der)))\n",
      "/Users/susu/anaconda/lib/python3.5/site-packages/ipykernel/__main__.py:8: RuntimeWarning: divide by zero encountered in log\n",
      "/Users/susu/anaconda/lib/python3.5/site-packages/ipykernel/__main__.py:8: RuntimeWarning: invalid value encountered in log\n",
      "/Users/susu/anaconda/lib/python3.5/site-packages/ipykernel/__main__.py:8: RuntimeWarning: invalid value encountered in multiply\n",
      "/Users/susu/anaconda/lib/python3.5/site-packages/numdifftools/extrapolation.py:443: RuntimeWarning: invalid value encountered in less_equal\n",
      "  converged = err <= tol\n",
      "/Users/susu/anaconda/lib/python3.5/site-packages/numdifftools/limits.py:150: RuntimeWarning: invalid value encountered in less\n",
      "  outliers = (((abs(der) < (a_median / trim_fact)) +\n",
      "/Users/susu/anaconda/lib/python3.5/site-packages/numdifftools/limits.py:151: RuntimeWarning: invalid value encountered in greater\n",
      "  (abs(der) > (a_median * trim_fact))) * (a_median > 1e-8) +\n",
      "/Users/susu/anaconda/lib/python3.5/site-packages/numdifftools/limits.py:152: RuntimeWarning: invalid value encountered in less\n",
      "  ((der < p25-1.5*iqr) + (p75+1.5*iqr < der)))\n",
      "/Users/susu/anaconda/lib/python3.5/site-packages/ipykernel/__main__.py:8: RuntimeWarning: divide by zero encountered in log\n",
      "/Users/susu/anaconda/lib/python3.5/site-packages/ipykernel/__main__.py:8: RuntimeWarning: invalid value encountered in log\n",
      "/Users/susu/anaconda/lib/python3.5/site-packages/ipykernel/__main__.py:8: RuntimeWarning: invalid value encountered in multiply\n",
      "/Users/susu/anaconda/lib/python3.5/site-packages/numdifftools/extrapolation.py:443: RuntimeWarning: invalid value encountered in less_equal\n",
      "  converged = err <= tol\n",
      "/Users/susu/anaconda/lib/python3.5/site-packages/numdifftools/limits.py:150: RuntimeWarning: invalid value encountered in less\n",
      "  outliers = (((abs(der) < (a_median / trim_fact)) +\n",
      "/Users/susu/anaconda/lib/python3.5/site-packages/numdifftools/limits.py:151: RuntimeWarning: invalid value encountered in greater\n",
      "  (abs(der) > (a_median * trim_fact))) * (a_median > 1e-8) +\n",
      "/Users/susu/anaconda/lib/python3.5/site-packages/numdifftools/limits.py:152: RuntimeWarning: invalid value encountered in less\n",
      "  ((der < p25-1.5*iqr) + (p75+1.5*iqr < der)))\n",
      "/Users/susu/anaconda/lib/python3.5/site-packages/ipykernel/__main__.py:8: RuntimeWarning: divide by zero encountered in log\n",
      "/Users/susu/anaconda/lib/python3.5/site-packages/ipykernel/__main__.py:8: RuntimeWarning: invalid value encountered in log\n",
      "/Users/susu/anaconda/lib/python3.5/site-packages/ipykernel/__main__.py:8: RuntimeWarning: invalid value encountered in multiply\n",
      "/Users/susu/anaconda/lib/python3.5/site-packages/numdifftools/extrapolation.py:443: RuntimeWarning: invalid value encountered in less_equal\n",
      "  converged = err <= tol\n",
      "/Users/susu/anaconda/lib/python3.5/site-packages/numdifftools/limits.py:150: RuntimeWarning: invalid value encountered in less\n",
      "  outliers = (((abs(der) < (a_median / trim_fact)) +\n",
      "/Users/susu/anaconda/lib/python3.5/site-packages/numdifftools/limits.py:151: RuntimeWarning: invalid value encountered in greater\n",
      "  (abs(der) > (a_median * trim_fact))) * (a_median > 1e-8) +\n",
      "/Users/susu/anaconda/lib/python3.5/site-packages/numdifftools/limits.py:152: RuntimeWarning: invalid value encountered in less\n",
      "  ((der < p25-1.5*iqr) + (p75+1.5*iqr < der)))\n",
      "/Users/susu/anaconda/lib/python3.5/site-packages/ipykernel/__main__.py:8: RuntimeWarning: divide by zero encountered in log\n",
      "/Users/susu/anaconda/lib/python3.5/site-packages/ipykernel/__main__.py:8: RuntimeWarning: invalid value encountered in log\n",
      "/Users/susu/anaconda/lib/python3.5/site-packages/ipykernel/__main__.py:8: RuntimeWarning: invalid value encountered in multiply\n",
      "/Users/susu/anaconda/lib/python3.5/site-packages/numdifftools/extrapolation.py:443: RuntimeWarning: invalid value encountered in less_equal\n",
      "  converged = err <= tol\n",
      "/Users/susu/anaconda/lib/python3.5/site-packages/numdifftools/limits.py:150: RuntimeWarning: invalid value encountered in less\n",
      "  outliers = (((abs(der) < (a_median / trim_fact)) +\n",
      "/Users/susu/anaconda/lib/python3.5/site-packages/numdifftools/limits.py:151: RuntimeWarning: invalid value encountered in greater\n",
      "  (abs(der) > (a_median * trim_fact))) * (a_median > 1e-8) +\n",
      "/Users/susu/anaconda/lib/python3.5/site-packages/numdifftools/limits.py:152: RuntimeWarning: invalid value encountered in less\n",
      "  ((der < p25-1.5*iqr) + (p75+1.5*iqr < der)))\n",
      "/Users/susu/anaconda/lib/python3.5/site-packages/ipykernel/__main__.py:8: RuntimeWarning: divide by zero encountered in log\n",
      "/Users/susu/anaconda/lib/python3.5/site-packages/ipykernel/__main__.py:8: RuntimeWarning: invalid value encountered in log\n",
      "/Users/susu/anaconda/lib/python3.5/site-packages/ipykernel/__main__.py:8: RuntimeWarning: invalid value encountered in multiply\n",
      "/Users/susu/anaconda/lib/python3.5/site-packages/numdifftools/extrapolation.py:443: RuntimeWarning: invalid value encountered in less_equal\n",
      "  converged = err <= tol\n",
      "/Users/susu/anaconda/lib/python3.5/site-packages/numdifftools/limits.py:150: RuntimeWarning: invalid value encountered in less\n",
      "  outliers = (((abs(der) < (a_median / trim_fact)) +\n",
      "/Users/susu/anaconda/lib/python3.5/site-packages/numdifftools/limits.py:151: RuntimeWarning: invalid value encountered in greater\n",
      "  (abs(der) > (a_median * trim_fact))) * (a_median > 1e-8) +\n",
      "/Users/susu/anaconda/lib/python3.5/site-packages/numdifftools/limits.py:152: RuntimeWarning: invalid value encountered in less\n",
      "  ((der < p25-1.5*iqr) + (p75+1.5*iqr < der)))\n",
      "/Users/susu/anaconda/lib/python3.5/site-packages/ipykernel/__main__.py:8: RuntimeWarning: divide by zero encountered in log\n",
      "/Users/susu/anaconda/lib/python3.5/site-packages/ipykernel/__main__.py:8: RuntimeWarning: invalid value encountered in log\n",
      "/Users/susu/anaconda/lib/python3.5/site-packages/ipykernel/__main__.py:8: RuntimeWarning: invalid value encountered in multiply\n",
      "/Users/susu/anaconda/lib/python3.5/site-packages/numdifftools/extrapolation.py:443: RuntimeWarning: invalid value encountered in less_equal\n",
      "  converged = err <= tol\n",
      "/Users/susu/anaconda/lib/python3.5/site-packages/numdifftools/limits.py:150: RuntimeWarning: invalid value encountered in less\n",
      "  outliers = (((abs(der) < (a_median / trim_fact)) +\n",
      "/Users/susu/anaconda/lib/python3.5/site-packages/numdifftools/limits.py:151: RuntimeWarning: invalid value encountered in greater\n",
      "  (abs(der) > (a_median * trim_fact))) * (a_median > 1e-8) +\n",
      "/Users/susu/anaconda/lib/python3.5/site-packages/numdifftools/limits.py:152: RuntimeWarning: invalid value encountered in less\n",
      "  ((der < p25-1.5*iqr) + (p75+1.5*iqr < der)))\n",
      "/Users/susu/anaconda/lib/python3.5/site-packages/ipykernel/__main__.py:8: RuntimeWarning: divide by zero encountered in log\n",
      "/Users/susu/anaconda/lib/python3.5/site-packages/ipykernel/__main__.py:8: RuntimeWarning: invalid value encountered in log\n",
      "/Users/susu/anaconda/lib/python3.5/site-packages/ipykernel/__main__.py:8: RuntimeWarning: invalid value encountered in multiply\n",
      "/Users/susu/anaconda/lib/python3.5/site-packages/numdifftools/extrapolation.py:443: RuntimeWarning: invalid value encountered in less_equal\n",
      "  converged = err <= tol\n",
      "/Users/susu/anaconda/lib/python3.5/site-packages/numdifftools/limits.py:150: RuntimeWarning: invalid value encountered in less\n",
      "  outliers = (((abs(der) < (a_median / trim_fact)) +\n",
      "/Users/susu/anaconda/lib/python3.5/site-packages/numdifftools/limits.py:151: RuntimeWarning: invalid value encountered in greater\n",
      "  (abs(der) > (a_median * trim_fact))) * (a_median > 1e-8) +\n",
      "/Users/susu/anaconda/lib/python3.5/site-packages/numdifftools/limits.py:152: RuntimeWarning: invalid value encountered in less\n",
      "  ((der < p25-1.5*iqr) + (p75+1.5*iqr < der)))\n",
      "/Users/susu/anaconda/lib/python3.5/site-packages/ipykernel/__main__.py:8: RuntimeWarning: divide by zero encountered in log\n",
      "/Users/susu/anaconda/lib/python3.5/site-packages/ipykernel/__main__.py:8: RuntimeWarning: invalid value encountered in log\n",
      "/Users/susu/anaconda/lib/python3.5/site-packages/ipykernel/__main__.py:8: RuntimeWarning: invalid value encountered in multiply\n"
     ]
    },
    {
     "name": "stdout",
     "output_type": "stream",
     "text": [
      "NR終わり\n"
     ]
    },
    {
     "name": "stderr",
     "output_type": "stream",
     "text": [
      "/Users/susu/anaconda/lib/python3.5/site-packages/numdifftools/extrapolation.py:443: RuntimeWarning: invalid value encountered in less_equal\n",
      "  converged = err <= tol\n",
      "/Users/susu/anaconda/lib/python3.5/site-packages/numdifftools/limits.py:150: RuntimeWarning: invalid value encountered in less\n",
      "  outliers = (((abs(der) < (a_median / trim_fact)) +\n",
      "/Users/susu/anaconda/lib/python3.5/site-packages/numdifftools/limits.py:151: RuntimeWarning: invalid value encountered in greater\n",
      "  (abs(der) > (a_median * trim_fact))) * (a_median > 1e-8) +\n",
      "/Users/susu/anaconda/lib/python3.5/site-packages/numdifftools/limits.py:152: RuntimeWarning: invalid value encountered in less\n",
      "  ((der < p25-1.5*iqr) + (p75+1.5*iqr < der)))\n"
     ]
    }
   ],
   "source": [
    "result_brM = NR(initial, brM, tole, maxx)"
   ]
  },
  {
   "cell_type": "code",
   "execution_count": 95,
   "metadata": {
    "collapsed": false
   },
   "outputs": [
    {
     "data": {
      "text/plain": [
       "array([ 0.49290132, -0.26259577,  0.52387831])"
      ]
     },
     "execution_count": 95,
     "metadata": {},
     "output_type": "execute_result"
    }
   ],
   "source": [
    "result_brM"
   ]
  },
  {
   "cell_type": "markdown",
   "metadata": {},
   "source": [
    "## M市場ケースはロジットを使わなくてもいけるかもしれない"
   ]
  },
  {
   "cell_type": "code",
   "execution_count": null,
   "metadata": {
    "collapsed": true
   },
   "outputs": [],
   "source": []
  }
 ],
 "metadata": {
  "kernelspec": {
   "display_name": "Python 3",
   "language": "python",
   "name": "python3"
  },
  "language_info": {
   "codemirror_mode": {
    "name": "ipython",
    "version": 3
   },
   "file_extension": ".py",
   "mimetype": "text/x-python",
   "name": "python",
   "nbconvert_exporter": "python",
   "pygments_lexer": "ipython3",
   "version": "3.5.1"
  }
 },
 "nbformat": 4,
 "nbformat_minor": 2
}
