{
 "cells": [
  {
   "cell_type": "code",
   "execution_count": 4,
   "metadata": {
    "collapsed": true
   },
   "outputs": [],
   "source": [
    "import numpy as np\n",
    "import scipy.stats as st\n",
    "import matplotlib.pyplot as plt\n",
    "% matplotlib inline\n",
    "import pandas as pd\n",
    "from mpl_toolkits.mplot3d import Axes3D\n",
    "from matplotlib import cm\n",
    "from numpy.linalg import inv\n",
    "from numpy.random import *"
   ]
  },
  {
   "cell_type": "code",
   "execution_count": 50,
   "metadata": {
    "collapsed": true
   },
   "outputs": [],
   "source": [
    "data = pd.read_csv(\"robust_norm_censored_4.csv\")"
   ]
  },
  {
   "cell_type": "code",
   "execution_count": 13,
   "metadata": {
    "collapsed": true
   },
   "outputs": [],
   "source": [
    "# M市場についてしか観察できていいない時を考える。\n",
    "# 実現した参入社数はnumからの経験分布からドロー\n",
    "M = 10000\n",
    "T = 1000\n",
    "seed(1234)\n",
    "m = data.shape[0]\n",
    "draw = randint(1,T+1,m) \n",
    "data[\"draw\"] = draw\n",
    "data[\"realized_entry\"] = data.apply(lambda x: 0 if(x[\"draw\"] <= x[\"num0\"]) else 1 if(x[\"draw\"] <= x[\"num1\"]) else 2, axis = 1)"
   ]
  },
  {
   "cell_type": "code",
   "execution_count": 54,
   "metadata": {
    "collapsed": false
   },
   "outputs": [
    {
     "data": {
      "text/html": [
       "<div>\n",
       "<style>\n",
       "    .dataframe thead tr:only-child th {\n",
       "        text-align: right;\n",
       "    }\n",
       "\n",
       "    .dataframe thead th {\n",
       "        text-align: left;\n",
       "    }\n",
       "\n",
       "    .dataframe tbody tr th {\n",
       "        vertical-align: top;\n",
       "    }\n",
       "</style>\n",
       "<table border=\"1\" class=\"dataframe\">\n",
       "  <thead>\n",
       "    <tr style=\"text-align: right;\">\n",
       "      <th></th>\n",
       "      <th>Unnamed: 0</th>\n",
       "      <th>Dist1</th>\n",
       "      <th>Dist2</th>\n",
       "      <th>Pop</th>\n",
       "      <th>diff</th>\n",
       "      <th>num0</th>\n",
       "      <th>num1</th>\n",
       "      <th>num2</th>\n",
       "      <th>draw</th>\n",
       "      <th>realized_entry</th>\n",
       "    </tr>\n",
       "  </thead>\n",
       "  <tbody>\n",
       "    <tr>\n",
       "      <th>0</th>\n",
       "      <td>0</td>\n",
       "      <td>0.628133</td>\n",
       "      <td>0.907969</td>\n",
       "      <td>2.706850</td>\n",
       "      <td>-0.895</td>\n",
       "      <td>2</td>\n",
       "      <td>101</td>\n",
       "      <td>897</td>\n",
       "      <td>816</td>\n",
       "      <td>2</td>\n",
       "    </tr>\n",
       "    <tr>\n",
       "      <th>1</th>\n",
       "      <td>3</td>\n",
       "      <td>0.528813</td>\n",
       "      <td>-0.589001</td>\n",
       "      <td>0.740122</td>\n",
       "      <td>-0.152</td>\n",
       "      <td>139</td>\n",
       "      <td>570</td>\n",
       "      <td>291</td>\n",
       "      <td>724</td>\n",
       "      <td>2</td>\n",
       "    </tr>\n",
       "    <tr>\n",
       "      <th>2</th>\n",
       "      <td>4</td>\n",
       "      <td>-0.758872</td>\n",
       "      <td>-0.933237</td>\n",
       "      <td>0.188695</td>\n",
       "      <td>-0.252</td>\n",
       "      <td>110</td>\n",
       "      <td>528</td>\n",
       "      <td>362</td>\n",
       "      <td>295</td>\n",
       "      <td>1</td>\n",
       "    </tr>\n",
       "    <tr>\n",
       "      <th>3</th>\n",
       "      <td>6</td>\n",
       "      <td>0.683509</td>\n",
       "      <td>0.302665</td>\n",
       "      <td>2.605967</td>\n",
       "      <td>-0.872</td>\n",
       "      <td>0</td>\n",
       "      <td>128</td>\n",
       "      <td>872</td>\n",
       "      <td>54</td>\n",
       "      <td>1</td>\n",
       "    </tr>\n",
       "    <tr>\n",
       "      <th>4</th>\n",
       "      <td>7</td>\n",
       "      <td>-1.706086</td>\n",
       "      <td>-1.159119</td>\n",
       "      <td>1.693723</td>\n",
       "      <td>-0.961</td>\n",
       "      <td>0</td>\n",
       "      <td>39</td>\n",
       "      <td>961</td>\n",
       "      <td>205</td>\n",
       "      <td>2</td>\n",
       "    </tr>\n",
       "  </tbody>\n",
       "</table>\n",
       "</div>"
      ],
      "text/plain": [
       "   Unnamed: 0     Dist1     Dist2       Pop   diff  num0  num1  num2  draw  \\\n",
       "0           0  0.628133  0.907969  2.706850 -0.895     2   101   897   816   \n",
       "1           3  0.528813 -0.589001  0.740122 -0.152   139   570   291   724   \n",
       "2           4 -0.758872 -0.933237  0.188695 -0.252   110   528   362   295   \n",
       "3           6  0.683509  0.302665  2.605967 -0.872     0   128   872    54   \n",
       "4           7 -1.706086 -1.159119  1.693723 -0.961     0    39   961   205   \n",
       "\n",
       "   realized_entry  \n",
       "0               2  \n",
       "1               2  \n",
       "2               1  \n",
       "3               1  \n",
       "4               2  "
      ]
     },
     "execution_count": 54,
     "metadata": {},
     "output_type": "execute_result"
    }
   ],
   "source": [
    "data.head()"
   ]
  },
  {
   "cell_type": "code",
   "execution_count": null,
   "metadata": {
    "collapsed": true
   },
   "outputs": [],
   "source": [
    "# polynomial logitのために多項式こうを用意する\n",
    "# 2nd order\n",
    "data[\"popdist1\"] = data[\"Pop\"] * data[\"Dist1\"]\n",
    "data[\"popdist2\"]= data[\"Pop\"] * data[\"Dist2\"]\n",
    "data[\"dist1dist2\"]= data[\"Dist2\"] * data[\"Dist1\"]\n",
    "data[\"pop_sq\"] = data[\"Pop\"]**2\n",
    "data[\"dist1_sq\"] = data[\"Dist1\"]**2\n",
    "data[\"dist2_sq\"] = data[\"Dist2\"]**2"
   ]
  },
  {
   "cell_type": "code",
   "execution_count": 61,
   "metadata": {
    "collapsed": false
   },
   "outputs": [
    {
     "data": {
      "text/html": [
       "<div>\n",
       "<style>\n",
       "    .dataframe thead tr:only-child th {\n",
       "        text-align: right;\n",
       "    }\n",
       "\n",
       "    .dataframe thead th {\n",
       "        text-align: left;\n",
       "    }\n",
       "\n",
       "    .dataframe tbody tr th {\n",
       "        vertical-align: top;\n",
       "    }\n",
       "</style>\n",
       "<table border=\"1\" class=\"dataframe\">\n",
       "  <thead>\n",
       "    <tr style=\"text-align: right;\">\n",
       "      <th></th>\n",
       "      <th>Unnamed: 0</th>\n",
       "      <th>Dist1</th>\n",
       "      <th>Dist2</th>\n",
       "      <th>Pop</th>\n",
       "      <th>diff</th>\n",
       "      <th>num0</th>\n",
       "      <th>num1</th>\n",
       "      <th>num2</th>\n",
       "      <th>draw</th>\n",
       "      <th>realized_entry</th>\n",
       "      <th>...</th>\n",
       "      <th>dist2_sq</th>\n",
       "      <th>pop_tr</th>\n",
       "      <th>dist1_tr</th>\n",
       "      <th>dist2_tr</th>\n",
       "      <th>pop_sqdist1</th>\n",
       "      <th>pop_sqdist2</th>\n",
       "      <th>dist1_sqpop</th>\n",
       "      <th>dist1_sqdist2</th>\n",
       "      <th>dist2_sqpop</th>\n",
       "      <th>dist2_sqdist1</th>\n",
       "    </tr>\n",
       "  </thead>\n",
       "  <tbody>\n",
       "    <tr>\n",
       "      <th>0</th>\n",
       "      <td>0</td>\n",
       "      <td>0.628133</td>\n",
       "      <td>0.907969</td>\n",
       "      <td>2.706850</td>\n",
       "      <td>-0.895</td>\n",
       "      <td>2</td>\n",
       "      <td>101</td>\n",
       "      <td>897</td>\n",
       "      <td>816</td>\n",
       "      <td>2</td>\n",
       "      <td>...</td>\n",
       "      <td>0.824409</td>\n",
       "      <td>19.833186</td>\n",
       "      <td>0.247830</td>\n",
       "      <td>0.748538</td>\n",
       "      <td>4.602351</td>\n",
       "      <td>6.652725</td>\n",
       "      <td>1.067989</td>\n",
       "      <td>0.358240</td>\n",
       "      <td>2.231550</td>\n",
       "      <td>0.517838</td>\n",
       "    </tr>\n",
       "    <tr>\n",
       "      <th>1</th>\n",
       "      <td>3</td>\n",
       "      <td>0.528813</td>\n",
       "      <td>-0.589001</td>\n",
       "      <td>0.740122</td>\n",
       "      <td>-0.152</td>\n",
       "      <td>139</td>\n",
       "      <td>570</td>\n",
       "      <td>291</td>\n",
       "      <td>724</td>\n",
       "      <td>2</td>\n",
       "      <td>...</td>\n",
       "      <td>0.346922</td>\n",
       "      <td>0.405425</td>\n",
       "      <td>0.147879</td>\n",
       "      <td>-0.204337</td>\n",
       "      <td>0.289674</td>\n",
       "      <td>-0.322643</td>\n",
       "      <td>0.206970</td>\n",
       "      <td>-0.164710</td>\n",
       "      <td>0.256764</td>\n",
       "      <td>0.183457</td>\n",
       "    </tr>\n",
       "    <tr>\n",
       "      <th>2</th>\n",
       "      <td>4</td>\n",
       "      <td>-0.758872</td>\n",
       "      <td>-0.933237</td>\n",
       "      <td>0.188695</td>\n",
       "      <td>-0.252</td>\n",
       "      <td>110</td>\n",
       "      <td>528</td>\n",
       "      <td>362</td>\n",
       "      <td>295</td>\n",
       "      <td>1</td>\n",
       "      <td>...</td>\n",
       "      <td>0.870932</td>\n",
       "      <td>0.006719</td>\n",
       "      <td>-0.437024</td>\n",
       "      <td>-0.812786</td>\n",
       "      <td>-0.027020</td>\n",
       "      <td>-0.033229</td>\n",
       "      <td>0.108667</td>\n",
       "      <td>-0.537439</td>\n",
       "      <td>0.164341</td>\n",
       "      <td>-0.660926</td>\n",
       "    </tr>\n",
       "    <tr>\n",
       "      <th>3</th>\n",
       "      <td>6</td>\n",
       "      <td>0.683509</td>\n",
       "      <td>0.302665</td>\n",
       "      <td>2.605967</td>\n",
       "      <td>-0.872</td>\n",
       "      <td>0</td>\n",
       "      <td>128</td>\n",
       "      <td>872</td>\n",
       "      <td>54</td>\n",
       "      <td>1</td>\n",
       "      <td>...</td>\n",
       "      <td>0.091606</td>\n",
       "      <td>17.697294</td>\n",
       "      <td>0.319325</td>\n",
       "      <td>0.027726</td>\n",
       "      <td>4.641754</td>\n",
       "      <td>2.055421</td>\n",
       "      <td>1.217467</td>\n",
       "      <td>0.141401</td>\n",
       "      <td>0.238723</td>\n",
       "      <td>0.062614</td>\n",
       "    </tr>\n",
       "    <tr>\n",
       "      <th>4</th>\n",
       "      <td>7</td>\n",
       "      <td>-1.706086</td>\n",
       "      <td>-1.159119</td>\n",
       "      <td>1.693723</td>\n",
       "      <td>-0.961</td>\n",
       "      <td>0</td>\n",
       "      <td>39</td>\n",
       "      <td>961</td>\n",
       "      <td>205</td>\n",
       "      <td>2</td>\n",
       "      <td>...</td>\n",
       "      <td>1.343558</td>\n",
       "      <td>4.858778</td>\n",
       "      <td>-4.965954</td>\n",
       "      <td>-1.557344</td>\n",
       "      <td>-4.894244</td>\n",
       "      <td>-3.325163</td>\n",
       "      <td>4.929969</td>\n",
       "      <td>-3.373883</td>\n",
       "      <td>2.275615</td>\n",
       "      <td>-2.292225</td>\n",
       "    </tr>\n",
       "  </tbody>\n",
       "</table>\n",
       "<p>5 rows × 25 columns</p>\n",
       "</div>"
      ],
      "text/plain": [
       "   Unnamed: 0     Dist1     Dist2       Pop   diff  num0  num1  num2  draw  \\\n",
       "0           0  0.628133  0.907969  2.706850 -0.895     2   101   897   816   \n",
       "1           3  0.528813 -0.589001  0.740122 -0.152   139   570   291   724   \n",
       "2           4 -0.758872 -0.933237  0.188695 -0.252   110   528   362   295   \n",
       "3           6  0.683509  0.302665  2.605967 -0.872     0   128   872    54   \n",
       "4           7 -1.706086 -1.159119  1.693723 -0.961     0    39   961   205   \n",
       "\n",
       "   realized_entry      ...        dist2_sq     pop_tr  dist1_tr  dist2_tr  \\\n",
       "0               2      ...        0.824409  19.833186  0.247830  0.748538   \n",
       "1               2      ...        0.346922   0.405425  0.147879 -0.204337   \n",
       "2               1      ...        0.870932   0.006719 -0.437024 -0.812786   \n",
       "3               1      ...        0.091606  17.697294  0.319325  0.027726   \n",
       "4               2      ...        1.343558   4.858778 -4.965954 -1.557344   \n",
       "\n",
       "   pop_sqdist1  pop_sqdist2  dist1_sqpop  dist1_sqdist2  dist2_sqpop  \\\n",
       "0     4.602351     6.652725     1.067989       0.358240     2.231550   \n",
       "1     0.289674    -0.322643     0.206970      -0.164710     0.256764   \n",
       "2    -0.027020    -0.033229     0.108667      -0.537439     0.164341   \n",
       "3     4.641754     2.055421     1.217467       0.141401     0.238723   \n",
       "4    -4.894244    -3.325163     4.929969      -3.373883     2.275615   \n",
       "\n",
       "   dist2_sqdist1  \n",
       "0       0.517838  \n",
       "1       0.183457  \n",
       "2      -0.660926  \n",
       "3       0.062614  \n",
       "4      -2.292225  \n",
       "\n",
       "[5 rows x 25 columns]"
      ]
     },
     "execution_count": 61,
     "metadata": {},
     "output_type": "execute_result"
    }
   ],
   "source": [
    "# 3rd order\n",
    "data[\"pop_tr\"] = data[\"Pop\"]**3\n",
    "data[\"dist1_tr\"] = data[\"Dist1\"]**3\n",
    "data[\"dist2_tr\"] = data[\"Dist2\"]**3\n",
    "data[\"pop_sqdist1\"] = data[\"Pop\"]**2 * data[\"Dist1\"]\n",
    "data[\"pop_sqdist2\"] = data[\"Pop\"]**2 * data[\"Dist2\"]\n",
    "data[\"dist1_sqpop\"] = data[\"Pop\"] * data[\"Dist1\"]**2\n",
    "data[\"dist1_sqdist2\"] = data[\"Dist2\"] * data[\"Dist1\"]**2\n",
    "data[\"dist2_sqpop\"] = data[\"Pop\"] * data[\"Dist2\"]**2\n",
    "data[\"dist2_sqdist1\"] = data[\"Dist1\"] * data[\"Dist2\"]**2"
   ]
  },
  {
   "cell_type": "markdown",
   "metadata": {},
   "source": [
    "realized entryを使って予測する"
   ]
  },
  {
   "cell_type": "code",
   "execution_count": 55,
   "metadata": {
    "collapsed": true
   },
   "outputs": [],
   "source": [
    "from sklearn import linear_model"
   ]
  },
  {
   "cell_type": "code",
   "execution_count": 56,
   "metadata": {
    "collapsed": true
   },
   "outputs": [],
   "source": [
    "logreg = linear_model.LogisticRegression(C=1e5)"
   ]
  },
  {
   "cell_type": "code",
   "execution_count": 64,
   "metadata": {
    "collapsed": false
   },
   "outputs": [
    {
     "data": {
      "text/plain": [
       "LogisticRegression(C=100000.0, class_weight=None, dual=False,\n",
       "          fit_intercept=True, intercept_scaling=1, max_iter=100,\n",
       "          multi_class='ovr', n_jobs=1, penalty='l2', random_state=None,\n",
       "          solver='liblinear', tol=0.0001, verbose=0, warm_start=False)"
      ]
     },
     "execution_count": 64,
     "metadata": {},
     "output_type": "execute_result"
    }
   ],
   "source": [
    "Y = data.realized_entry\n",
    "X = data.drop([\"Unnamed: 0\", \"diff\", \"num0\", \"num1\", \"num2\", \"draw\"],axis = 1)\n",
    "logreg.fit(X, Y)"
   ]
  },
  {
   "cell_type": "code",
   "execution_count": 67,
   "metadata": {
    "collapsed": false
   },
   "outputs": [],
   "source": [
    "data[\"diff_est\"] = logreg.predict_proba(X)[:, 0] - logreg.predict_proba(X)[:, 2]"
   ]
  },
  {
   "cell_type": "code",
   "execution_count": 75,
   "metadata": {
    "collapsed": false
   },
   "outputs": [
    {
     "data": {
      "text/plain": [
       "<matplotlib.collections.PathCollection at 0x1174ed748>"
      ]
     },
     "execution_count": 75,
     "metadata": {},
     "output_type": "execute_result"
    },
    {
     "data": {
      "image/png": "[encoded data removed]",
      "text/plain": [
       "<matplotlib.figure.Figure at 0x11309ec50>"
      ]
     },
     "metadata": {},
     "output_type": "display_data"
    }
   ],
   "source": [
    "d = data[\"diff\"].values\n",
    "d_est = data[\"diff_est\"].values\n",
    "plt.scatter(d, d_est)"
   ]
  },
  {
   "cell_type": "code",
   "execution_count": 76,
   "metadata": {
    "collapsed": false
   },
   "outputs": [
    {
     "data": {
      "text/plain": [
       "array([ -9.74528963e-01,  -9.50069371e-01,  -4.06091397e-05, ...,\n",
       "        -9.15551596e-01,  -6.87662889e-06,  -9.94497430e-06])"
      ]
     },
     "execution_count": 76,
     "metadata": {},
     "output_type": "execute_result"
    }
   ],
   "source": [
    "d_est"
   ]
  },
  {
   "cell_type": "code",
   "execution_count": 77,
   "metadata": {
    "collapsed": false
   },
   "outputs": [
    {
     "data": {
      "text/plain": [
       "1.0"
      ]
     },
     "execution_count": 77,
     "metadata": {},
     "output_type": "execute_result"
    }
   ],
   "source": [
    "logreg.score(X, Y)"
   ]
  },
  {
   "cell_type": "markdown",
   "metadata": {},
   "source": [
    "d_estを使ってrobustを出してみる"
   ]
  },
  {
   "cell_type": "code",
   "execution_count": 80,
   "metadata": {
    "collapsed": false
   },
   "outputs": [
    {
     "name": "stdout",
     "output_type": "stream",
     "text": [
      "NR終わり\n"
     ]
    }
   ],
   "source": [
    "import numdifftools as nd\n",
    "def robust(x):\n",
    "    xb1 = x[0] * pop + x[1] * dist1\n",
    "    xb2 = x[0] * pop + x[1] * dist2\n",
    "    r = (diff + s.cdf(xb1 + x[2])*s.cdf(xb2 + x[2]) - s.cdf(-xb1)*s.cdf(-xb2))**2\n",
    "    return -sum(r)\n",
    "\n",
    "def NR(initial, fun, tol, maxit):\n",
    "    theta = initial\n",
    "    for i in range(0,maxit):\n",
    "        G = nd.Gradient(fun)(theta)\n",
    "        H = nd.Hessian(fun)(theta)\n",
    "        del_theta = inv(H).dot(G)\n",
    "        theta = theta - del_theta\n",
    "        if np.linalg.norm(del_theta) < tol:\n",
    "            print(\"NR終わり\")\n",
    "            break\n",
    "    return theta\n",
    "\n",
    "s = st.norm()\n",
    "pop = data[[\"Pop\"]].values[:, 0]\n",
    "dist1 = data[[\"Dist1\"]].values[:, 0]\n",
    "dist2 = data[[\"Dist2\"]].values[:, 0]\n",
    "diff = data[[\"diff_est\"]].values[:, 0]\n",
    "result_rob = NR([0.8,-0.5,-0.25], robust, 0.005, 10000)"
   ]
  },
  {
   "cell_type": "code",
   "execution_count": 81,
   "metadata": {
    "collapsed": false
   },
   "outputs": [
    {
     "data": {
      "text/plain": [
       "array([ 0.46537922, -0.31063035,  0.29986879])"
      ]
     },
     "execution_count": 81,
     "metadata": {},
     "output_type": "execute_result"
    }
   ],
   "source": [
    "result_rob"
   ]
  },
  {
   "cell_type": "code",
   "execution_count": null,
   "metadata": {
    "collapsed": true
   },
   "outputs": [],
   "source": []
  }
 ],
 "metadata": {
  "kernelspec": {
   "display_name": "Python 3",
   "language": "python",
   "name": "python3"
  },
  "language_info": {
   "codemirror_mode": {
    "name": "ipython",
    "version": 3
   },
   "file_extension": ".py",
   "mimetype": "text/x-python",
   "name": "python",
   "nbconvert_exporter": "python",
   "pygments_lexer": "ipython3",
   "version": "3.5.1"
  }
 },
 "nbformat": 4,
 "nbformat_minor": 2
}
