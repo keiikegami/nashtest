{
 "cells": [
  {
   "cell_type": "markdown",
   "metadata": {},
   "source": [
    "# M市場のデータのみ使って同じことができるかを確かめる\n",
    "\n",
    "結論："
   ]
  },
  {
   "cell_type": "code",
   "execution_count": 33,
   "metadata": {
    "collapsed": true
   },
   "outputs": [],
   "source": [
    "import numpy as np\n",
    "import scipy.stats as st\n",
    "import matplotlib.pyplot as plt\n",
    "% matplotlib inline\n",
    "import pandas as pd\n",
    "from mpl_toolkits.mplot3d import Axes3D\n",
    "from matplotlib import cm\n",
    "from numpy.linalg import inv\n",
    "from numpy.random import *"
   ]
  },
  {
   "cell_type": "code",
   "execution_count": 34,
   "metadata": {
    "collapsed": true
   },
   "outputs": [],
   "source": [
    "data = pd.read_csv(\"robust_norm_censored_4.csv\")"
   ]
  },
  {
   "cell_type": "code",
   "execution_count": 35,
   "metadata": {
    "collapsed": false
   },
   "outputs": [],
   "source": [
    "# M市場についてしか観察できていいない時を考える。\n",
    "# 実現した参入社数はnumからの経験分布からドロー\n",
    "M = 10000\n",
    "T = 1000\n",
    "seed(1234)\n",
    "m = data.shape[0]\n",
    "draw = randint(1,T+1,m) \n",
    "data[\"draw\"] = draw\n",
    "data[\"realized_entry\"] = data.apply(lambda x: 0 if(x[\"draw\"] <= x[\"num0\"]) else 1 if(x[\"draw\"] <= x[\"num1\"]) else 2, axis = 1)"
   ]
  },
  {
   "cell_type": "markdown",
   "metadata": {},
   "source": [
    "## polynomialは入れない方が良い推定値が得られてるので省略\n",
    "\n",
    "data[\"popdist1\"] = data[\"Pop\"] * data[\"Dist1\"]\n",
    "data[\"popdist2\"]= data[\"Pop\"] * data[\"Dist2\"]\n",
    "data[\"dist1dist2\"]= data[\"Dist2\"] * data[\"Dist1\"]\n",
    "data[\"pop_sq\"] = data[\"Pop\"]**2\n",
    "data[\"dist1_sq\"] = data[\"Dist1\"]**2\n",
    "data[\"dist2_sq\"] = data[\"Dist2\"]**2\n",
    "\n",
    "data[\"pop_tr\"] = data[\"Pop\"]**3\n",
    "data[\"dist1_tr\"] = data[\"Dist1\"]**3\n",
    "data[\"dist2_tr\"] = data[\"Dist2\"]**3\n",
    "data[\"pop_sqdist1\"] = data[\"Pop\"]**2 * data[\"Dist1\"]\n",
    "data[\"pop_sqdist2\"] = data[\"Pop\"]**2 * data[\"Dist2\"]\n",
    "data[\"dist1_sqpop\"] = data[\"Pop\"] * data[\"Dist1\"]**2\n",
    "data[\"dist1_sqdist2\"] = data[\"Dist2\"] * data[\"Dist1\"]**2\n",
    "data[\"dist2_sqpop\"] = data[\"Pop\"] * data[\"Dist2\"]**2\n",
    "data[\"dist2_sqdist1\"] = data[\"Dist1\"] * data[\"Dist2\"]**2"
   ]
  },
  {
   "cell_type": "markdown",
   "metadata": {},
   "source": [
    "realized entryを使って予測する"
   ]
  },
  {
   "cell_type": "code",
   "execution_count": 36,
   "metadata": {
    "collapsed": true
   },
   "outputs": [],
   "source": [
    "from sklearn import linear_model"
   ]
  },
  {
   "cell_type": "code",
   "execution_count": 37,
   "metadata": {
    "collapsed": true
   },
   "outputs": [],
   "source": [
    "logreg = linear_model.LogisticRegression(C=1e5,\n",
    "                         penalty='l1')"
   ]
  },
  {
   "cell_type": "code",
   "execution_count": 38,
   "metadata": {
    "collapsed": false
   },
   "outputs": [
    {
     "data": {
      "text/html": [
       "<div>\n",
       "<style>\n",
       "    .dataframe thead tr:only-child th {\n",
       "        text-align: right;\n",
       "    }\n",
       "\n",
       "    .dataframe thead th {\n",
       "        text-align: left;\n",
       "    }\n",
       "\n",
       "    .dataframe tbody tr th {\n",
       "        vertical-align: top;\n",
       "    }\n",
       "</style>\n",
       "<table border=\"1\" class=\"dataframe\">\n",
       "  <thead>\n",
       "    <tr style=\"text-align: right;\">\n",
       "      <th></th>\n",
       "      <th>Unnamed: 0</th>\n",
       "      <th>Dist1</th>\n",
       "      <th>Dist2</th>\n",
       "      <th>Pop</th>\n",
       "      <th>diff</th>\n",
       "      <th>num0</th>\n",
       "      <th>num1</th>\n",
       "      <th>num2</th>\n",
       "      <th>draw</th>\n",
       "      <th>realized_entry</th>\n",
       "    </tr>\n",
       "  </thead>\n",
       "  <tbody>\n",
       "    <tr>\n",
       "      <th>0</th>\n",
       "      <td>0</td>\n",
       "      <td>0.628133</td>\n",
       "      <td>0.907969</td>\n",
       "      <td>2.706850</td>\n",
       "      <td>-0.895</td>\n",
       "      <td>2</td>\n",
       "      <td>101</td>\n",
       "      <td>897</td>\n",
       "      <td>816</td>\n",
       "      <td>2</td>\n",
       "    </tr>\n",
       "    <tr>\n",
       "      <th>1</th>\n",
       "      <td>3</td>\n",
       "      <td>0.528813</td>\n",
       "      <td>-0.589001</td>\n",
       "      <td>0.740122</td>\n",
       "      <td>-0.152</td>\n",
       "      <td>139</td>\n",
       "      <td>570</td>\n",
       "      <td>291</td>\n",
       "      <td>724</td>\n",
       "      <td>2</td>\n",
       "    </tr>\n",
       "    <tr>\n",
       "      <th>2</th>\n",
       "      <td>4</td>\n",
       "      <td>-0.758872</td>\n",
       "      <td>-0.933237</td>\n",
       "      <td>0.188695</td>\n",
       "      <td>-0.252</td>\n",
       "      <td>110</td>\n",
       "      <td>528</td>\n",
       "      <td>362</td>\n",
       "      <td>295</td>\n",
       "      <td>1</td>\n",
       "    </tr>\n",
       "    <tr>\n",
       "      <th>3</th>\n",
       "      <td>6</td>\n",
       "      <td>0.683509</td>\n",
       "      <td>0.302665</td>\n",
       "      <td>2.605967</td>\n",
       "      <td>-0.872</td>\n",
       "      <td>0</td>\n",
       "      <td>128</td>\n",
       "      <td>872</td>\n",
       "      <td>54</td>\n",
       "      <td>1</td>\n",
       "    </tr>\n",
       "    <tr>\n",
       "      <th>4</th>\n",
       "      <td>7</td>\n",
       "      <td>-1.706086</td>\n",
       "      <td>-1.159119</td>\n",
       "      <td>1.693723</td>\n",
       "      <td>-0.961</td>\n",
       "      <td>0</td>\n",
       "      <td>39</td>\n",
       "      <td>961</td>\n",
       "      <td>205</td>\n",
       "      <td>2</td>\n",
       "    </tr>\n",
       "  </tbody>\n",
       "</table>\n",
       "</div>"
      ],
      "text/plain": [
       "   Unnamed: 0     Dist1     Dist2       Pop   diff  num0  num1  num2  draw  \\\n",
       "0           0  0.628133  0.907969  2.706850 -0.895     2   101   897   816   \n",
       "1           3  0.528813 -0.589001  0.740122 -0.152   139   570   291   724   \n",
       "2           4 -0.758872 -0.933237  0.188695 -0.252   110   528   362   295   \n",
       "3           6  0.683509  0.302665  2.605967 -0.872     0   128   872    54   \n",
       "4           7 -1.706086 -1.159119  1.693723 -0.961     0    39   961   205   \n",
       "\n",
       "   realized_entry  \n",
       "0               2  \n",
       "1               2  \n",
       "2               1  \n",
       "3               1  \n",
       "4               2  "
      ]
     },
     "execution_count": 38,
     "metadata": {},
     "output_type": "execute_result"
    }
   ],
   "source": [
    "data.head()"
   ]
  },
  {
   "cell_type": "code",
   "execution_count": 39,
   "metadata": {
    "collapsed": false
   },
   "outputs": [
    {
     "data": {
      "text/plain": [
       "LogisticRegression(C=100000.0, class_weight=None, dual=False,\n",
       "          fit_intercept=True, intercept_scaling=1, max_iter=100,\n",
       "          multi_class='ovr', n_jobs=1, penalty='l1', random_state=None,\n",
       "          solver='liblinear', tol=0.0001, verbose=0, warm_start=False)"
      ]
     },
     "execution_count": 39,
     "metadata": {},
     "output_type": "execute_result"
    }
   ],
   "source": [
    "Y = data.realized_entry\n",
    "X = data.drop([\"Unnamed: 0\", \"diff\", \"num0\", \"num1\", \"num2\", \"draw\", \"realized_entry\"],axis = 1)\n",
    "logreg.fit(X, Y)"
   ]
  },
  {
   "cell_type": "code",
   "execution_count": 40,
   "metadata": {
    "collapsed": false
   },
   "outputs": [],
   "source": [
    "data[\"diff_est\"] = logreg.predict_proba(X)[:, 0] - logreg.predict_proba(X)[:, 2]"
   ]
  },
  {
   "cell_type": "code",
   "execution_count": 41,
   "metadata": {
    "collapsed": false
   },
   "outputs": [
    {
     "data": {
      "text/plain": [
       "<matplotlib.collections.PathCollection at 0x11646c5f8>"
      ]
     },
     "execution_count": 41,
     "metadata": {},
     "output_type": "execute_result"
    },
    {
     "data": {
      "image/png": "[encoded data removed]",
      "text/plain": [
       "<matplotlib.figure.Figure at 0x11643c828>"
      ]
     },
     "metadata": {},
     "output_type": "display_data"
    }
   ],
   "source": [
    "d = data[\"diff\"].values\n",
    "d_est = data[\"diff_est\"].values\n",
    "plt.scatter(d, d_est)"
   ]
  },
  {
   "cell_type": "markdown",
   "metadata": {},
   "source": [
    "d_estを使ってrobustを出してみる"
   ]
  },
  {
   "cell_type": "code",
   "execution_count": 31,
   "metadata": {
    "collapsed": false
   },
   "outputs": [
    {
     "name": "stdout",
     "output_type": "stream",
     "text": [
      "NR終わり\n"
     ]
    }
   ],
   "source": [
    "import numdifftools as nd\n",
    "def robust(x):\n",
    "    xb1 = x[0] * pop + x[1] * dist1\n",
    "    xb2 = x[0] * pop + x[1] * dist2\n",
    "    r = (diff + s.cdf(xb1 + x[2])*s.cdf(xb2 + x[2]) - s.cdf(-xb1)*s.cdf(-xb2))**2\n",
    "    return -sum(r)\n",
    "\n",
    "def NR(initial, fun, tol, maxit):\n",
    "    theta = initial\n",
    "    for i in range(0,maxit):\n",
    "        G = nd.Gradient(fun)(theta)\n",
    "        H = nd.Hessian(fun)(theta)\n",
    "        del_theta = inv(H).dot(G)\n",
    "        theta = theta - del_theta\n",
    "        if np.linalg.norm(del_theta) < tol:\n",
    "            print(\"NR終わり\")\n",
    "            break\n",
    "    return theta\n",
    "\n",
    "s = st.norm()\n",
    "pop = data[[\"Pop\"]].values[:, 0]\n",
    "dist1 = data[[\"Dist1\"]].values[:, 0]\n",
    "dist2 = data[[\"Dist2\"]].values[:, 0]\n",
    "diff = data[[\"diff_est\"]].values[:, 0]\n",
    "result_rob = NR([0.8,-0.5,-0.25], robust, 0.0000005, 100000)"
   ]
  },
  {
   "cell_type": "code",
   "execution_count": 32,
   "metadata": {
    "collapsed": false
   },
   "outputs": [
    {
     "data": {
      "text/plain": [
       "array([ 0.60337759, -0.40231958,  0.13846628])"
      ]
     },
     "execution_count": 32,
     "metadata": {},
     "output_type": "execute_result"
    }
   ],
   "source": [
    "# そこそこいい。\n",
    "# あとはサンプルサイズの問題な気がする。\n",
    "result_rob"
   ]
  },
  {
   "cell_type": "markdown",
   "metadata": {},
   "source": [
    "### ということでサンプルサイズを増やしてやってみる。"
   ]
  },
  {
   "cell_type": "code",
   "execution_count": null,
   "metadata": {
    "collapsed": true
   },
   "outputs": [],
   "source": []
  },
  {
   "cell_type": "markdown",
   "metadata": {
    "collapsed": true
   },
   "source": [
    "### 他の予測は？\n",
    "\n",
    "deepはダメでした。"
   ]
  },
  {
   "cell_type": "code",
   "execution_count": 47,
   "metadata": {
    "collapsed": true
   },
   "outputs": [],
   "source": [
    "from sklearn.neural_network import MLPClassifier\n",
    "clf = MLPClassifier(solver='lbfgs', alpha=1e-5, random_state=1)"
   ]
  },
  {
   "cell_type": "code",
   "execution_count": 48,
   "metadata": {
    "collapsed": false
   },
   "outputs": [
    {
     "data": {
      "text/plain": [
       "MLPClassifier(activation='relu', alpha=1e-05, batch_size='auto', beta_1=0.9,\n",
       "       beta_2=0.999, early_stopping=False, epsilon=1e-08,\n",
       "       hidden_layer_sizes=(100,), learning_rate='constant',\n",
       "       learning_rate_init=0.001, max_iter=200, momentum=0.9,\n",
       "       nesterovs_momentum=True, power_t=0.5, random_state=1, shuffle=True,\n",
       "       solver='lbfgs', tol=0.0001, validation_fraction=0.1, verbose=False,\n",
       "       warm_start=False)"
      ]
     },
     "execution_count": 48,
     "metadata": {},
     "output_type": "execute_result"
    }
   ],
   "source": [
    "clf.fit(X, Y) "
   ]
  },
  {
   "cell_type": "code",
   "execution_count": 49,
   "metadata": {
    "collapsed": false
   },
   "outputs": [
    {
     "data": {
      "text/plain": [
       "<matplotlib.collections.PathCollection at 0x116f54470>"
      ]
     },
     "execution_count": 49,
     "metadata": {},
     "output_type": "execute_result"
    },
    {
     "data": {
      "image/png": "[encoded data removed]",
      "text/plain": [
       "<matplotlib.figure.Figure at 0x115fb7470>"
      ]
     },
     "metadata": {},
     "output_type": "display_data"
    }
   ],
   "source": [
    "data[\"diff_est2\"] = clf.predict_proba(X)[:, 0] - clf.predict_proba(X)[:, 2]\n",
    "d = data[\"diff\"].values\n",
    "d_est = data[\"diff_est2\"].values\n",
    "plt.scatter(d, d_est)"
   ]
  },
  {
   "cell_type": "code",
   "execution_count": 50,
   "metadata": {
    "collapsed": false
   },
   "outputs": [
    {
     "name": "stdout",
     "output_type": "stream",
     "text": [
      "NR終わり\n"
     ]
    }
   ],
   "source": [
    "diff = data[[\"diff_est2\"]].values[:, 0]\n",
    "result_rob = NR([0.8,-0.5,-0.25], robust, 0.0000005, 100000)"
   ]
  },
  {
   "cell_type": "code",
   "execution_count": 51,
   "metadata": {
    "collapsed": false
   },
   "outputs": [
    {
     "data": {
      "text/plain": [
       "array([ 0.610363  , -0.40577471,  0.12455363])"
      ]
     },
     "execution_count": 51,
     "metadata": {},
     "output_type": "execute_result"
    }
   ],
   "source": [
    "result_rob"
   ]
  },
  {
   "cell_type": "code",
   "execution_count": null,
   "metadata": {
    "collapsed": true
   },
   "outputs": [],
   "source": []
  }
 ],
 "metadata": {
  "kernelspec": {
   "display_name": "Python 3",
   "language": "python",
   "name": "python3"
  },
  "language_info": {
   "codemirror_mode": {
    "name": "ipython",
    "version": 3
   },
   "file_extension": ".py",
   "mimetype": "text/x-python",
   "name": "python",
   "nbconvert_exporter": "python",
   "pygments_lexer": "ipython3",
   "version": "3.5.1"
  }
 },
 "nbformat": 4,
 "nbformat_minor": 2
}
