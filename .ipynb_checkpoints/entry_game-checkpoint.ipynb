{
 "cells": [
  {
   "cell_type": "markdown",
   "metadata": {},
   "source": [
    "# nash test"
   ]
  },
  {
   "cell_type": "code",
   "execution_count": 10,
   "metadata": {
    "collapsed": false
   },
   "outputs": [
    {
     "data": {
      "text/plain": [
       "0.5"
      ]
     },
     "execution_count": 10,
     "metadata": {},
     "output_type": "execute_result"
    }
   ],
   "source": [
    "# Giving some parameter values\n",
    "alpha =  0.5;\n",
    "beta  = -0.7;\n",
    "delta = -0.3;\n",
    "lambda = 0.5"
   ]
  },
  {
   "cell_type": "code",
   "execution_count": 11,
   "metadata": {
    "collapsed": false
   },
   "outputs": [
    {
     "data": {
      "text/plain": [
       "nash (generic function with 1 method)"
      ]
     },
     "execution_count": 11,
     "metadata": {},
     "output_type": "execute_result"
    }
   ],
   "source": [
    "function nash(row)\n",
    "    if row[4] <= -alpha*row[1]-beta*row[2]\n",
    "        if row[5] <= -alpha*row[1]-beta*row[3]\n",
    "            return [0,0, 1]\n",
    "        else\n",
    "            return [0,1, 2]\n",
    "        end\n",
    "    elseif -alpha*row[1]-beta*row[2] <= row[4] <= -alpha*row[1]-beta*row[2] -delta\n",
    "        if row[5] <= -alpha*row[1]-beta*row[3]\n",
    "            return [1,0, 3]\n",
    "        elseif  -alpha*row[1]-beta*row[3] <= row[5] <=  -alpha*row[1]-beta*row[3] -delta\n",
    "            if rand() < lambda\n",
    "                return [0,1,2]\n",
    "            else\n",
    "                return [1,0,3]\n",
    "            end\n",
    "        elseif -alpha*row[1]-beta*row[3] -delta <= row[5]\n",
    "            return [0,1,2]\n",
    "        end\n",
    "    elseif -alpha*row[1]-beta*row[2] -delta <= row[ 4]\n",
    "        if row[5] <=  -alpha*row[1]-beta*row[3] -delta\n",
    "            return [1,0,3]\n",
    "        else\n",
    "            return [1,1,4]\n",
    "        end\n",
    "    end\n",
    "end"
   ]
  },
  {
   "cell_type": "code",
   "execution_count": 12,
   "metadata": {
    "collapsed": false
   },
   "outputs": [
    {
     "data": {
      "text/plain": [
       "dg (generic function with 1 method)"
      ]
     },
     "execution_count": 12,
     "metadata": {},
     "output_type": "execute_result"
    }
   ],
   "source": [
    "function dg(random::Int64, Num_Market::Int64)\n",
    "    srand(random)\n",
    "    data = zeros(Num_Market, 8)\n",
    "    data[:, 1] = rand(Num_Market, 1)\n",
    "    data[:, 2:3] = rand(Num_Market, 2)\n",
    "    data[:, 4:5] = randn(Num_Market, 2)\n",
    "    for i in 1:Num_Market\n",
    "        data[i, 6:8] = nash(data[i, :])\n",
    "    end\n",
    "    return data\n",
    "end"
   ]
  },
  {
   "cell_type": "code",
   "execution_count": 13,
   "metadata": {
    "collapsed": false
   },
   "outputs": [],
   "source": [
    "seed = 123\n",
    "Num_market = 1000\n",
    "data = dg1(seed, Num_market);"
   ]
  },
  {
   "cell_type": "code",
   "execution_count": 14,
   "metadata": {
    "collapsed": false
   },
   "outputs": [
    {
     "data": {
      "text/plain": [
       "1000×8 Array{Float64,2}:\n",
       " 0.768448   0.691787  0.554468   -0.180166    -0.896109    0.0  0.0  1.0\n",
       " 0.940515   0.393751  0.552272   -0.310036     0.858562    0.0  1.0  2.0\n",
       " 0.673959   0.270711  0.421453   -0.638895    -0.112593    0.0  0.0  1.0\n",
       " 0.395453   0.824791  0.946698    0.457432     0.661481    0.0  1.0  2.0\n",
       " 0.313244   0.14016   0.910449   -0.0864289    0.501435    0.0  1.0  2.0\n",
       " 0.662555   0.519313  0.14226     1.21069     -1.49093     1.0  0.0  3.0\n",
       " 0.586022   0.95379   0.699342    0.241134    -0.0737702   0.0  0.0  1.0\n",
       " 0.0521332  0.712484  0.196772   -1.6429       1.21984     0.0  1.0  2.0\n",
       " 0.26864    0.89036   0.194489   -0.00522395   0.703063    0.0  1.0  2.0\n",
       " 0.108871   0.476568  0.995032   -1.23102      0.0155068   0.0  0.0  1.0\n",
       " 0.163666   0.701356  0.221374   -1.76795     -0.797032    0.0  0.0  1.0\n",
       " 0.473017   0.893217  0.0091144   0.318717    -1.51078     0.0  0.0  1.0\n",
       " 0.865412   0.70192   0.567494    1.14112      1.51331     1.0  1.0  4.0\n",
       " ⋮                                                         ⋮            \n",
       " 0.369096   0.867969  0.108784   -1.27009     -1.25035     0.0  0.0  1.0\n",
       " 0.610837   0.471575  0.0343411   0.0249177   -0.764063    1.0  0.0  3.0\n",
       " 0.322876   0.119353  0.740975   -0.452117    -0.0625265   0.0  0.0  1.0\n",
       " 0.697986   0.772053  0.412608    0.665796    -0.215212    1.0  0.0  3.0\n",
       " 0.0231848  0.846413  0.988409   -0.211542     0.0491184   0.0  0.0  1.0\n",
       " 0.362228   0.431469  0.100416   -0.206057     0.00546564  0.0  1.0  2.0\n",
       " 0.316386   0.646801  0.607362    3.09799      0.460326    1.0  0.0  3.0\n",
       " 0.930966   0.970743  0.197034    0.720575    -1.19304     1.0  0.0  3.0\n",
       " 0.392211   0.883261  0.640887   -1.03029      2.054       0.0  1.0  2.0\n",
       " 0.550204   0.500566  0.597135    0.415776    -0.85357     1.0  0.0  3.0\n",
       " 0.609629   0.7841    0.724897    1.07364      0.581241    1.0  1.0  4.0\n",
       " 0.232658   0.264382  0.0745399   2.70635     -0.0209621   1.0  0.0  3.0"
      ]
     },
     "execution_count": 14,
     "metadata": {},
     "output_type": "execute_result"
    }
   ],
   "source": [
    "data"
   ]
  },
  {
   "cell_type": "code",
   "execution_count": null,
   "metadata": {
    "collapsed": true
   },
   "outputs": [],
   "source": []
  }
 ],
 "metadata": {
  "kernelspec": {
   "display_name": "Julia 0.6.0",
   "language": "julia",
   "name": "julia-0.6"
  },
  "language_info": {
   "file_extension": ".jl",
   "mimetype": "application/julia",
   "name": "julia",
   "version": "0.6.0"
  }
 },
 "nbformat": 4,
 "nbformat_minor": 2
}
