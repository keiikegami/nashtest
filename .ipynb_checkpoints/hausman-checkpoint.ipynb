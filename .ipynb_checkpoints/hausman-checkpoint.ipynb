{
 "cells": [
  {
   "cell_type": "code",
   "execution_count": 1,
   "metadata": {
    "collapsed": true
   },
   "outputs": [],
   "source": [
    "import numpy as np\n",
    "import scipy.stats as st\n",
    "import matplotlib.pyplot as plt\n",
    "% matplotlib inline\n",
    "import pandas as pd\n",
    "from mpl_toolkits.mplot3d import Axes3D\n",
    "from matplotlib import cm\n",
    "\n",
    "def mne(x, mu,delta,random, a):\n",
    "    prob_x = 1 + (mu + x[1])/delta\n",
    "    prob_y = 1 + (mu+x[0])/delta\n",
    "    probs = np.cumsum([prob_x*prob_y, (1-prob_x)*prob_y, prob_x*(1-prob_y), (1-prob_x)*(1-prob_y)])\n",
    "    prob = a.rvs(1, random_state = random)\n",
    "    ind = np.searchsorted(probs, prob)\n",
    "    if ind == 0:\n",
    "        return [0,0,0]\n",
    "    elif ind == 1:\n",
    "        return [1,0,2]\n",
    "    elif ind == 2:\n",
    "        return [0,1,1]\n",
    "    else:\n",
    "        return [1,1,3]\n",
    "\n",
    "def nash(x, true_mu, true_delta, random, a):\n",
    "    if x[0] < -true_mu:\n",
    "        if x[1] < -true_mu:\n",
    "            return [0,0,0]\n",
    "        else :\n",
    "            return [0,1,1]\n",
    "    elif -true_mu < x[0] < -true_mu -true_delta:\n",
    "        if x[1] < -true_mu:\n",
    "            return [1,0,2]\n",
    "        elif -true_mu < x[1] < -true_mu -true_delta:\n",
    "            return mne(x, true_mu,true_delta, random, a)\n",
    "        else:\n",
    "            return [0,1,1]\n",
    "    else:\n",
    "        if x[1] < -true_mu -true_delta:\n",
    "            return [1,0,2]\n",
    "        else:\n",
    "            return [1,1,3]"
   ]
  },
  {
   "cell_type": "markdown",
   "metadata": {},
   "source": [
    "サンプルデータ\n",
    "\n",
    "MマーケットT期分\n",
    "\n",
    "各市場の人口、プレイヤーごとの距離の三つの変数\n",
    "\n",
    "$\\mu_1 = \\beta_1 Pop + \\beta_2 Dist_1 + \\epsilon_1$\n",
    "\n",
    "$\\mu_2 = \\beta_1 Pop + \\beta_3 Dist_2 + \\epsilon_2$"
   ]
  },
  {
   "cell_type": "code",
   "execution_count": 15,
   "metadata": {
    "collapsed": true
   },
   "outputs": [],
   "source": [
    "e = st.uniform()\n",
    "M = 10000\n",
    "T = 1000\n",
    "beta1 = 5\n",
    "beta2 = -2\n",
    "beta3 = -2\n",
    "delta = -1\n",
    "\n",
    "# M市場分のデータを作る。\n",
    "data = e.rvs(size = (M,3), random_state = 101)"
   ]
  },
  {
   "cell_type": "code",
   "execution_count": 16,
   "metadata": {
    "collapsed": false
   },
   "outputs": [],
   "source": [
    "# T期分の均衡を計算していく\n",
    "a = st.uniform()\n",
    "s = st.norm()\n",
    "random = 101\n",
    "\n",
    "eps = s.rvs(size = (M,T,2), random_state = 18)"
   ]
  },
  {
   "cell_type": "code",
   "execution_count": 17,
   "metadata": {
    "collapsed": false
   },
   "outputs": [],
   "source": [
    "data2 = np.ones((M,T,3))\n",
    "for m in range(M):\n",
    "    for t in range(T):\n",
    "        data2[m, t, :] = nash(eps[m, t, :], data[m, 0]*beta1 + data[m, 1]*beta2, delta, random, a)"
   ]
  },
  {
   "cell_type": "markdown",
   "metadata": {},
   "source": [
    "市場ごとに結果をdataに入れる"
   ]
  },
  {
   "cell_type": "code",
   "execution_count": 24,
   "metadata": {
    "collapsed": false
   },
   "outputs": [],
   "source": [
    "def diff(p):\n",
    "    p_0 = sum([True for i in data2[p, :, 2] if i == 0.0])/T\n",
    "    p_2 = sum([True for i in data2[p, :, 2] if i == 3.0])/T\n",
    "    return p_0 - p_2\n",
    "\n",
    "d = np.array([diff(p) for p in range(M)])"
   ]
  },
  {
   "cell_type": "code",
   "execution_count": 27,
   "metadata": {
    "collapsed": false
   },
   "outputs": [
    {
     "data": {
      "text/plain": [
       "-0.35785249999999996"
      ]
     },
     "execution_count": 27,
     "metadata": {},
     "output_type": "execute_result"
    }
   ],
   "source": [
    "np.mean(d)"
   ]
  },
  {
   "cell_type": "code",
   "execution_count": 28,
   "metadata": {
    "collapsed": true
   },
   "outputs": [],
   "source": [
    "df = pd.DataFrame({\"Pop\" : data[:,0], \"Dist1\" : data[:, 1], \"Dist2\" : data[:, 2], \"diff\" : d})"
   ]
  },
  {
   "cell_type": "code",
   "execution_count": 29,
   "metadata": {
    "collapsed": false
   },
   "outputs": [
    {
     "data": {
      "text/html": [
       "<div>\n",
       "<style>\n",
       "    .dataframe thead tr:only-child th {\n",
       "        text-align: right;\n",
       "    }\n",
       "\n",
       "    .dataframe thead th {\n",
       "        text-align: left;\n",
       "    }\n",
       "\n",
       "    .dataframe tbody tr th {\n",
       "        vertical-align: top;\n",
       "    }\n",
       "</style>\n",
       "<table border=\"1\" class=\"dataframe\">\n",
       "  <thead>\n",
       "    <tr style=\"text-align: right;\">\n",
       "      <th></th>\n",
       "      <th>Dist1</th>\n",
       "      <th>Dist2</th>\n",
       "      <th>Pop</th>\n",
       "      <th>diff</th>\n",
       "    </tr>\n",
       "  </thead>\n",
       "  <tbody>\n",
       "    <tr>\n",
       "      <th>0</th>\n",
       "      <td>0.570668</td>\n",
       "      <td>0.028474</td>\n",
       "      <td>0.516399</td>\n",
       "      <td>-0.457</td>\n",
       "    </tr>\n",
       "    <tr>\n",
       "      <th>1</th>\n",
       "      <td>0.685277</td>\n",
       "      <td>0.833897</td>\n",
       "      <td>0.171522</td>\n",
       "      <td>0.506</td>\n",
       "    </tr>\n",
       "    <tr>\n",
       "      <th>2</th>\n",
       "      <td>0.893613</td>\n",
       "      <td>0.721544</td>\n",
       "      <td>0.306966</td>\n",
       "      <td>0.355</td>\n",
       "    </tr>\n",
       "    <tr>\n",
       "      <th>3</th>\n",
       "      <td>0.554228</td>\n",
       "      <td>0.352132</td>\n",
       "      <td>0.189939</td>\n",
       "      <td>0.295</td>\n",
       "    </tr>\n",
       "    <tr>\n",
       "      <th>4</th>\n",
       "      <td>0.785602</td>\n",
       "      <td>0.965483</td>\n",
       "      <td>0.181892</td>\n",
       "      <td>0.573</td>\n",
       "    </tr>\n",
       "  </tbody>\n",
       "</table>\n",
       "</div>"
      ],
      "text/plain": [
       "      Dist1     Dist2       Pop   diff\n",
       "0  0.570668  0.028474  0.516399 -0.457\n",
       "1  0.685277  0.833897  0.171522  0.506\n",
       "2  0.893613  0.721544  0.306966  0.355\n",
       "3  0.554228  0.352132  0.189939  0.295\n",
       "4  0.785602  0.965483  0.181892  0.573"
      ]
     },
     "execution_count": 29,
     "metadata": {},
     "output_type": "execute_result"
    }
   ],
   "source": [
    "df.head()"
   ]
  },
  {
   "cell_type": "code",
   "execution_count": 30,
   "metadata": {
    "collapsed": true
   },
   "outputs": [],
   "source": [
    "df.to_csv(\"robust.csv\")"
   ]
  },
  {
   "cell_type": "markdown",
   "metadata": {
    "collapsed": true
   },
   "source": [
    "deltaの収束が弱いので、データを正規分布から発生させる。\n",
    "\n",
    "あと、bresnahan 推定量のために市場ごとの参入企業者数の頻度もデータとして出すようにする。"
   ]
  },
  {
   "cell_type": "code",
   "execution_count": 2,
   "metadata": {
    "collapsed": true
   },
   "outputs": [],
   "source": [
    "e = st.norm()\n",
    "M = 10000\n",
    "T = 1000\n",
    "beta1 = 5\n",
    "beta2 = -2\n",
    "beta3 = -2\n",
    "delta = -1\n",
    "\n",
    "# M市場分のデータを作る。\n",
    "data = e.rvs(size = (M,3), random_state = 101)\n",
    "# T期分の均衡を計算していく\n",
    "a = st.uniform()\n",
    "s = st.norm()\n",
    "random = 101\n",
    "\n",
    "eps = s.rvs(size = (M,T,2), random_state = 18)\n",
    "data2 = np.ones((M,T,3))\n",
    "for m in range(M):\n",
    "    for t in range(T):\n",
    "        data2[m, t, :] = nash(eps[m, t, :], data[m, 0]*beta1 + data[m, 1]*beta2, delta, random, a)\n",
    "        \n",
    "def diff(p):\n",
    "    p_0 = sum([True for i in data2[p, :, 2] if i == 0.0])/T\n",
    "    p_2 = sum([True for i in data2[p, :, 2] if i == 3.0])/T\n",
    "    return p_0 - p_2\n",
    "\n",
    "def num(p):\n",
    "    num0 = sum([True for i in data2[p, :, 2] if i == 0.0])\n",
    "    num2 = sum([True for i in data2[p, :, 2] if i == 3.0])\n",
    "    num1 = T - num0 - num2\n",
    "    return num0, num1, num2\n",
    "\n",
    "d = np.array([diff(p) for p in range(M)])\n",
    "d2 = np.reshape(np.array([num(p) for p in range(M)]), (M, 3))\n",
    "df = pd.DataFrame({\"Pop\" : data[:,0], \"Dist1\" : data[:, 1], \"Dist2\" : data[:, 2], \"diff\" : d, \"num0\":d2[:, 0], \"num1\":d2[:, 1], \"num2\":d2[:, 2]})\n",
    "df.to_csv(\"robust_norm.csv\")"
   ]
  },
  {
   "cell_type": "code",
   "execution_count": 14,
   "metadata": {
    "collapsed": true
   },
   "outputs": [],
   "source": [
    "d2 = np.reshape(np.array([num(p) for p in range(M)]), (M, 3))\n",
    "df = pd.DataFrame({\"Pop\" : data[:,0], \"Dist1\" : data[:, 1], \"Dist2\" : data[:, 2], \"diff\" : d, \"num0\":d2[:, 0], \"num1\":d2[:, 1], \"num2\":d2[:, 2]})\n",
    "df.to_csv(\"robust_norm.csv\")"
   ]
  },
  {
   "cell_type": "code",
   "execution_count": null,
   "metadata": {
    "collapsed": true
   },
   "outputs": [],
   "source": []
  }
 ],
 "metadata": {
  "kernelspec": {
   "display_name": "Python 3",
   "language": "python",
   "name": "python3"
  },
  "language_info": {
   "codemirror_mode": {
    "name": "ipython",
    "version": 3
   },
   "file_extension": ".py",
   "mimetype": "text/x-python",
   "name": "python",
   "nbconvert_exporter": "python",
   "pygments_lexer": "ipython3",
   "version": "3.5.1"
  }
 },
 "nbformat": 4,
 "nbformat_minor": 2
}
