{
 "cells": [
  {
   "cell_type": "markdown",
   "metadata": {},
   "source": [
    "# まとめノート\n",
    "\n",
    "今までの話をまとめる"
   ]
  },
  {
   "cell_type": "code",
   "execution_count": 6,
   "metadata": {
    "collapsed": true
   },
   "outputs": [],
   "source": [
    "import numpy as np\n",
    "import scipy.stats as st\n",
    "import matplotlib.pyplot as plt\n",
    "% matplotlib inline\n",
    "import pandas as pd\n",
    "from mpl_toolkits.mplot3d import Axes3D\n",
    "from matplotlib import cm\n",
    "from numpy.linalg import inv\n",
    "from numpy.random import *\n",
    "import numdifftools as nd"
   ]
  },
  {
   "cell_type": "markdown",
   "metadata": {},
   "source": [
    "## サンプルデータ"
   ]
  },
  {
   "cell_type": "code",
   "execution_count": 5,
   "metadata": {
    "collapsed": true
   },
   "outputs": [],
   "source": [
    "a = st.uniform()\n",
    "s = st.norm()\n",
    "e = st.norm()\n",
    "M = 10000\n",
    "T = 1000\n",
    "random = 101\n",
    "beta1 = 0.8\n",
    "beta2 = -0.5\n",
    "beta3 = -0.5\n",
    "delta = -0.25"
   ]
  },
  {
   "cell_type": "code",
   "execution_count": 3,
   "metadata": {
    "collapsed": true
   },
   "outputs": [],
   "source": [
    "def mne(x, mu,delta,random, a):\n",
    "    prob_x = 1 + (mu + x[1])/delta\n",
    "    prob_y = 1 + (mu+x[0])/delta\n",
    "    probs = np.cumsum([prob_x*prob_y, (1-prob_x)*prob_y, prob_x*(1-prob_y), (1-prob_x)*(1-prob_y)])\n",
    "    prob = a.rvs(1, random_state = random)\n",
    "    ind = np.searchsorted(probs, prob)\n",
    "    if ind == 0:\n",
    "        return [0,0,0]\n",
    "    elif ind == 1:\n",
    "        return [1,0,2]\n",
    "    elif ind == 2:\n",
    "        return [0,1,1]\n",
    "    else:\n",
    "        return [1,1,3]\n",
    "\n",
    "def nash(x, true_mu, true_delta, random, a):\n",
    "    if x[0] < -true_mu:\n",
    "        if x[1] < -true_mu:\n",
    "            return [0,0,0]\n",
    "        else :\n",
    "            return [0,1,1]\n",
    "    elif -true_mu < x[0] < -true_mu -true_delta:\n",
    "        if x[1] < -true_mu:\n",
    "            return [1,0,2]\n",
    "        elif -true_mu < x[1] < -true_mu -true_delta:\n",
    "            return mne(x, true_mu,true_delta, random, a)\n",
    "        else:\n",
    "            return [0,1,1]\n",
    "    else:\n",
    "        if x[1] < -true_mu -true_delta:\n",
    "            return [1,0,2]\n",
    "        else:\n",
    "            return [1,1,3]\n",
    "        \n",
    "def diff(p):\n",
    "    p_0 = sum([True for i in data2[p, :, 2] if i == 0.0])/T\n",
    "    p_2 = sum([True for i in data2[p, :, 2] if i == 3.0])/T\n",
    "    return p_0 - p_2\n",
    "\n",
    "def num(p):\n",
    "    num0 = sum([True for i in data2[p, :, 2] if i == 0.0])\n",
    "    num2 = sum([True for i in data2[p, :, 2] if i == 3.0])\n",
    "    num1 = T - num0 - num2\n",
    "    return num0, num1, num2"
   ]
  },
  {
   "cell_type": "code",
   "execution_count": 4,
   "metadata": {
    "collapsed": true
   },
   "outputs": [],
   "source": [
    "# M市場分のデータを作る。\n",
    "data = e.rvs(size = (M,3), random_state = 101)\n",
    "eps = s.rvs(size = (M,T,2), random_state = 18)\n",
    "data2 = np.ones((M,T,3))\n",
    "for m in range(M):\n",
    "    for t in range(T):\n",
    "        data2[m, t, :] = nash(eps[m, t, :], data[m, 0]*beta1 + data[m, 1]*beta2, delta, random, a)\n",
    "\n",
    "d = np.array([diff(p) for p in range(M)])\n",
    "d2 = np.reshape(np.array([num(p) for p in range(M)]), (M, 3))\n",
    "df = pd.DataFrame({\"Pop\" : data[:,0], \"Dist1\" : data[:, 1], \"Dist2\" : data[:, 2], \"diff\" : d, \"num0\":d2[:, 0], \"num1\":d2[:, 1], \"num2\":d2[:, 2]})\n",
    "df2 = df[(beta1 * df.Pop + beta2 * df.Dist1 + delta > 0) & (beta1 * df.Pop + beta2 * df.Dist2 + delta > 0)]\n",
    "df2.to_csv(\"robust_norm.csv\")"
   ]
  },
  {
   "cell_type": "markdown",
   "metadata": {},
   "source": [
    "## 推定"
   ]
  },
  {
   "cell_type": "code",
   "execution_count": 8,
   "metadata": {
    "collapsed": true
   },
   "outputs": [],
   "source": [
    "df = pd.read_csv(\"robust_norm.csv\")\n",
    "pop = df[[\"Pop\"]].values[:, 0]\n",
    "dist1 = df[[\"Dist1\"]].values[:, 0]\n",
    "dist2 = df[[\"Dist2\"]].values[:, 0]\n",
    "num0 = df[[\"num0\"]].values[:, 0]\n",
    "num2 = df[[\"num2\"]].values[:, 0]\n",
    "diff = df[[\"diff\"]].values[:, 0]"
   ]
  },
  {
   "cell_type": "code",
   "execution_count": 7,
   "metadata": {
    "collapsed": true
   },
   "outputs": [],
   "source": [
    "def br(x):\n",
    "    xb1 = x[0] * pop + x[1] * dist1\n",
    "    xb2 = x[0] * pop + x[1] * dist2\n",
    "    logl = num0*(np.log(s.cdf(-xb1)*s.cdf(-xb2)) -np.log(1-s.cdf(-xb1)*s.cdf(-xb2)-s.cdf(xb1+x[2])*s.cdf(xb2+x[2]))) \\\n",
    "    + num2*(np.log(s.cdf(xb1+x[2])*s.cdf(xb2+x[2])) - np.log(1-s.cdf(-xb1)*s.cdf(-xb2)-s.cdf(xb1+x[2])*s.cdf(xb2+x[2])))\\\n",
    "    + T*np.log(1-s.cdf(-xb1)*s.cdf(-xb2)-s.cdf(xb1+x[2])*s.cdf(xb2+x[2]))\n",
    "    return sum(logl)\n",
    "\n",
    "def br1(x):\n",
    "    xb1 = x[0] * pop + x[1] * dist1\n",
    "    xb2 = x[0] * pop + x[1] * dist2\n",
    "    logl = num0*(np.log(s.cdf(-xb1)*s.cdf(-xb2)) -np.log(1-s.cdf(-xb1)*s.cdf(-xb2)-s.cdf(xb1+x[2])*s.cdf(xb2+x[2]))) \\\n",
    "    + num2*(np.log(s.cdf(xb1+x[2])*s.cdf(xb2+x[2])) - np.log(1-s.cdf(-xb1)*s.cdf(-xb2)-s.cdf(xb1+x[2])*s.cdf(xb2+x[2])))\\\n",
    "    + T*np.log(1-s.cdf(-xb1)*s.cdf(-xb2)-s.cdf(xb1+x[2])*s.cdf(xb2+x[2]))\n",
    "    return logl\n",
    "\n",
    "def robust(x):\n",
    "    xb1 = x[0] * pop + x[1] * dist1\n",
    "    xb2 = x[0] * pop + x[1] * dist2\n",
    "    r = (diff + s.cdf(xb1 + x[2])*s.cdf(xb2 + x[2]) - s.cdf(-xb1)*s.cdf(-xb2))**2\n",
    "    return -sum(r)\n",
    "\n",
    "def robust1(x):\n",
    "    xb1 = x[0] * pop + x[1] * dist1\n",
    "    xb2 = x[0] * pop + x[1] * dist2\n",
    "    r = diff + s.cdf(xb1 + x[2])*s.cdf(xb2 + x[2]) - s.cdf(-xb1)*s.cdf(-xb2)\n",
    "    return r\n",
    "\n",
    "def NR(initial, fun, tol, maxit):\n",
    "    theta = initial\n",
    "    for i in range(0,maxit):\n",
    "        G = nd.Gradient(fun)(theta)\n",
    "        H = nd.Hessian(fun)(theta)\n",
    "        del_theta = inv(H).dot(G)\n",
    "        theta = theta - del_theta\n",
    "        if np.linalg.norm(del_theta) < tol:\n",
    "            print(\"NR終わり\")\n",
    "            break\n",
    "    return theta"
   ]
  },
  {
   "cell_type": "code",
   "execution_count": null,
   "metadata": {
    "collapsed": true
   },
   "outputs": [],
   "source": [
    "# 推定\n",
    "tole = 0.000005\n",
    "maxx = 100000\n",
    "initial = [0.8,-0.5,-0.25]\n",
    "result_br = NR(initial, br, tole, maxx)\n",
    "result_rob = NR(initial, robust, tole, maxx)"
   ]
  },
  {
   "cell_type": "markdown",
   "metadata": {},
   "source": [
    "## ハウスマン検定"
   ]
  },
  {
   "cell_type": "code",
   "execution_count": null,
   "metadata": {
    "collapsed": true
   },
   "outputs": [],
   "source": [
    "# パーツを計算\n",
    "H_br = nd.Hessian(br)(result_br)\n",
    "inv_H_br = inv(H_br)\n",
    "tri_1 = -inv_H_br\n",
    "\n",
    "J_br = nd.Jacobian(br1)(result_br)\n",
    "circle_1 = np.dot(J_br.T, J_br)\n",
    "\n",
    "G_rob = nd.Gradient(robust)(result_rob)\n",
    "a = np.matrix(G_rob)\n",
    "tri_3 = -np.dot(inv(np.dot(a.T, a)), a.T)\n",
    "\n",
    "b = np.matrix(robust1(result_rob)).T\n",
    "circle_3 = np.dot(J_br.T, b)\n",
    "\n",
    "circle_6 = robust(result_rob)\n",
    "\n",
    "A_11 = np.dot(np.dot(tri_1, circle_1), tri_1.T)/M\n",
    "A_33 = np.dot(np.dot(tri_3, circle_6), tri_3.T)/M\n",
    "A_13 = np.dot(np.dot(tri_1, circle_3), tri_3.T)/M\n",
    "A_31 = np.dot(np.dot(tri_3, circle_3.T), tri_1.T)/M"
   ]
  },
  {
   "cell_type": "code",
   "execution_count": null,
   "metadata": {
    "collapsed": true
   },
   "outputs": [],
   "source": [
    "# pure test hausman\n",
    "avar = A_11 - A_13 -A_31 + A_33\n",
    "gap = np.matrix(result_br - result_rob)\n",
    "h = M * np.dot(np.dot(gap, inv(avar)), gap.T)\n",
    "print(h)"
   ]
  },
  {
   "cell_type": "code",
   "execution_count": null,
   "metadata": {
    "collapsed": true
   },
   "outputs": [],
   "source": [
    "np.rank(avar)"
   ]
  },
  {
   "cell_type": "markdown",
   "metadata": {},
   "source": [
    "## M市場ケース"
   ]
  },
  {
   "cell_type": "code",
   "execution_count": null,
   "metadata": {
    "collapsed": true
   },
   "outputs": [],
   "source": []
  }
 ],
 "metadata": {
  "kernelspec": {
   "display_name": "Python 3",
   "language": "python",
   "name": "python3"
  },
  "language_info": {
   "codemirror_mode": {
    "name": "ipython",
    "version": 3
   },
   "file_extension": ".py",
   "mimetype": "text/x-python",
   "name": "python",
   "nbconvert_exporter": "python",
   "pygments_lexer": "ipython3",
   "version": "3.5.1"
  }
 },
 "nbformat": 4,
 "nbformat_minor": 2
}
