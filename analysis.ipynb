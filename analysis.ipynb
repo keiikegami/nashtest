{
 "cells": [
  {
   "cell_type": "code",
   "execution_count": 25,
   "metadata": {
    "collapsed": false
   },
   "outputs": [],
   "source": [
    "import pandas as pd\n",
    "import numpy as np\n",
    "import matplotlib.pyplot as plt\n",
    "from sklearn import linear_model as lm\n",
    "% matplotlib inline"
   ]
  },
  {
   "cell_type": "code",
   "execution_count": 10,
   "metadata": {
    "collapsed": true
   },
   "outputs": [],
   "source": [
    "# Giving some parameter values\n",
    "alpha =  0.5\n",
    "beta  = -0.7\n",
    "delta = -0.3\n",
    "lamb = 0.5"
   ]
  },
  {
   "cell_type": "code",
   "execution_count": 11,
   "metadata": {
    "collapsed": true
   },
   "outputs": [],
   "source": [
    "df = pd.read_csv(\"data.csv\")"
   ]
  },
  {
   "cell_type": "code",
   "execution_count": 12,
   "metadata": {
    "collapsed": false
   },
   "outputs": [
    {
     "data": {
      "text/html": [
       "<div>\n",
       "<style>\n",
       "    .dataframe thead tr:only-child th {\n",
       "        text-align: right;\n",
       "    }\n",
       "\n",
       "    .dataframe thead th {\n",
       "        text-align: left;\n",
       "    }\n",
       "\n",
       "    .dataframe tbody tr th {\n",
       "        vertical-align: top;\n",
       "    }\n",
       "</style>\n",
       "<table border=\"1\" class=\"dataframe\">\n",
       "  <thead>\n",
       "    <tr style=\"text-align: right;\">\n",
       "      <th></th>\n",
       "      <th>Pop</th>\n",
       "      <th>Dist1</th>\n",
       "      <th>Dist2</th>\n",
       "      <th>eps1</th>\n",
       "      <th>eps2</th>\n",
       "      <th>Ent1</th>\n",
       "      <th>Ent2</th>\n",
       "      <th>Equi</th>\n",
       "    </tr>\n",
       "  </thead>\n",
       "  <tbody>\n",
       "    <tr>\n",
       "      <th>0</th>\n",
       "      <td>0.768448</td>\n",
       "      <td>0.492070</td>\n",
       "      <td>0.445576</td>\n",
       "      <td>-0.367240</td>\n",
       "      <td>0.057743</td>\n",
       "      <td>0.0</td>\n",
       "      <td>1.0</td>\n",
       "      <td>2.0</td>\n",
       "    </tr>\n",
       "    <tr>\n",
       "      <th>1</th>\n",
       "      <td>0.940515</td>\n",
       "      <td>0.584842</td>\n",
       "      <td>0.913525</td>\n",
       "      <td>-0.374982</td>\n",
       "      <td>1.583713</td>\n",
       "      <td>0.0</td>\n",
       "      <td>1.0</td>\n",
       "      <td>2.0</td>\n",
       "    </tr>\n",
       "    <tr>\n",
       "      <th>2</th>\n",
       "      <td>0.673959</td>\n",
       "      <td>0.801348</td>\n",
       "      <td>0.638340</td>\n",
       "      <td>0.514222</td>\n",
       "      <td>1.374104</td>\n",
       "      <td>0.0</td>\n",
       "      <td>1.0</td>\n",
       "      <td>2.0</td>\n",
       "    </tr>\n",
       "    <tr>\n",
       "      <th>3</th>\n",
       "      <td>0.395453</td>\n",
       "      <td>0.344749</td>\n",
       "      <td>0.693901</td>\n",
       "      <td>0.200372</td>\n",
       "      <td>1.636160</td>\n",
       "      <td>0.0</td>\n",
       "      <td>1.0</td>\n",
       "      <td>2.0</td>\n",
       "    </tr>\n",
       "    <tr>\n",
       "      <th>4</th>\n",
       "      <td>0.313244</td>\n",
       "      <td>0.104799</td>\n",
       "      <td>0.860071</td>\n",
       "      <td>-0.948269</td>\n",
       "      <td>0.455794</td>\n",
       "      <td>0.0</td>\n",
       "      <td>1.0</td>\n",
       "      <td>2.0</td>\n",
       "    </tr>\n",
       "  </tbody>\n",
       "</table>\n",
       "</div>"
      ],
      "text/plain": [
       "        Pop     Dist1     Dist2      eps1      eps2  Ent1  Ent2  Equi\n",
       "0  0.768448  0.492070  0.445576 -0.367240  0.057743   0.0   1.0   2.0\n",
       "1  0.940515  0.584842  0.913525 -0.374982  1.583713   0.0   1.0   2.0\n",
       "2  0.673959  0.801348  0.638340  0.514222  1.374104   0.0   1.0   2.0\n",
       "3  0.395453  0.344749  0.693901  0.200372  1.636160   0.0   1.0   2.0\n",
       "4  0.313244  0.104799  0.860071 -0.948269  0.455794   0.0   1.0   2.0"
      ]
     },
     "execution_count": 12,
     "metadata": {},
     "output_type": "execute_result"
    }
   ],
   "source": [
    "df.head()"
   ]
  },
  {
   "cell_type": "code",
   "execution_count": 28,
   "metadata": {
    "collapsed": false
   },
   "outputs": [
    {
     "data": {
      "image/png": "[encoded data removed]",
      "text/plain": [
       "<matplotlib.figure.Figure at 0x10efed2e8>"
      ]
     },
     "metadata": {},
     "output_type": "display_data"
    }
   ],
   "source": [
    "# 均衡タイプの予測はできない\n",
    "X1 = df[[\"Pop\", \"Dist1\", \"Dist2\"]]\n",
    "Y = df[\"Equi\"]\n",
    "logreg = lm.LogisticRegression(C=1e5)\n",
    "logreg.fit(X1, Y)\n",
    "plt.plot(Y, logreg.predict(X1), \"o\")\n",
    "plt.xlim(0, 5)\n",
    "plt.ylim(0, 5)\n",
    "plt.show()"
   ]
  },
  {
   "cell_type": "code",
   "execution_count": 31,
   "metadata": {
    "collapsed": true
   },
   "outputs": [],
   "source": [
    "df[\"Equi_pred\"] =  logreg.predict(X1)"
   ]
  },
  {
   "cell_type": "code",
   "execution_count": 40,
   "metadata": {
    "collapsed": false
   },
   "outputs": [
    {
     "name": "stdout",
     "output_type": "stream",
     "text": [
      "Equi_pred    1.0    2.0    3.0  4.0\n",
      "Equi                               \n",
      "1.0        12342   8566   8540    0\n",
      "2.0         8604  12204   8242    2\n",
      "3.0         8556   8425  12068    3\n",
      "4.0         2378   5058   5011    1\n"
     ]
    }
   ],
   "source": [
    "cross = pd.crosstab(df[\"Equi\"], df[\"Equi_pred\"])\n",
    "print(cross)"
   ]
  },
  {
   "cell_type": "code",
   "execution_count": 42,
   "metadata": {
    "collapsed": false
   },
   "outputs": [
    {
     "name": "stdout",
     "output_type": "stream",
     "text": [
      "Ent1_pred    0.0    1.0\n",
      "Ent1                   \n",
      "0.0        49600   8900\n",
      "1.0        30952  10548\n"
     ]
    }
   ],
   "source": [
    "# 企業1についての予測\n",
    "Y1 = df[\"Ent1\"]\n",
    "logreg1 = lm.LogisticRegression(C=1e5)\n",
    "logreg1.fit(X1, Y1)\n",
    "df[\"Ent1_pred\"] =  logreg1.predict(X1)\n",
    "cross = pd.crosstab(df[\"Ent1\"], df[\"Ent1_pred\"])\n",
    "print(cross)"
   ]
  },
  {
   "cell_type": "code",
   "execution_count": 44,
   "metadata": {
    "collapsed": false
   },
   "outputs": [
    {
     "name": "stdout",
     "output_type": "stream",
     "text": [
      "Ent1_pred2    0.0    1.0\n",
      "Ent1                    \n",
      "0.0         46307  12193\n",
      "1.0         24761  16739\n"
     ]
    }
   ],
   "source": [
    "# 企業1についての予測（企業2の行動を所与とする）\n",
    "# これだけではワケワカラン\n",
    "X2 = df[[\"Pop\", \"Dist1\", \"Dist2\", \"Ent2\"]]\n",
    "logreg2 = lm.LogisticRegression(C=1e5)\n",
    "logreg2.fit(X2, Y1)\n",
    "df[\"Ent1_pred2\"] =  logreg2.predict(X2)\n",
    "cross = pd.crosstab(df[\"Ent1\"], df[\"Ent1_pred2\"])\n",
    "print(cross)"
   ]
  },
  {
   "cell_type": "code",
   "execution_count": 47,
   "metadata": {
    "collapsed": false
   },
   "outputs": [
    {
     "name": "stdout",
     "output_type": "stream",
     "text": [
      "Equi_11_pred      0\n",
      "Equi_11            \n",
      "0             87552\n",
      "1             12448\n"
     ]
    }
   ],
   "source": [
    "# 均衡タイプの予測（1,1）華道家を予測する\n",
    "def f(x):\n",
    "    if x == 4.0:\n",
    "        return 1\n",
    "    else:\n",
    "        return 0\n",
    "    \n",
    "df[\"Equi_11\"] = df[\"Equi\"].map(f)\n",
    "Y2 = df[\"Equi_11\"]\n",
    "logreg3 = lm.LogisticRegression(C=1e5)\n",
    "logreg3.fit(X1, Y2)\n",
    "df[\"Equi_11_pred\"] =  logreg3.predict(X1)\n",
    "cross = pd.crosstab(df[\"Equi_11\"], df[\"Equi_11_pred\"])\n",
    "print(cross)"
   ]
  },
  {
   "cell_type": "code",
   "execution_count": 46,
   "metadata": {
    "collapsed": false
   },
   "outputs": [
    {
     "data": {
      "text/html": [
       "<div>\n",
       "<style>\n",
       "    .dataframe thead tr:only-child th {\n",
       "        text-align: right;\n",
       "    }\n",
       "\n",
       "    .dataframe thead th {\n",
       "        text-align: left;\n",
       "    }\n",
       "\n",
       "    .dataframe tbody tr th {\n",
       "        vertical-align: top;\n",
       "    }\n",
       "</style>\n",
       "<table border=\"1\" class=\"dataframe\">\n",
       "  <thead>\n",
       "    <tr style=\"text-align: right;\">\n",
       "      <th></th>\n",
       "      <th>Pop</th>\n",
       "      <th>Dist1</th>\n",
       "      <th>Dist2</th>\n",
       "      <th>eps1</th>\n",
       "      <th>eps2</th>\n",
       "      <th>Ent1</th>\n",
       "      <th>Ent2</th>\n",
       "      <th>Equi</th>\n",
       "      <th>Equi_pred</th>\n",
       "      <th>Ent1_pred</th>\n",
       "      <th>Ent1_pred2</th>\n",
       "      <th>Equi_11</th>\n",
       "    </tr>\n",
       "  </thead>\n",
       "  <tbody>\n",
       "    <tr>\n",
       "      <th>0</th>\n",
       "      <td>0.768448</td>\n",
       "      <td>0.492070</td>\n",
       "      <td>0.445576</td>\n",
       "      <td>-0.367240</td>\n",
       "      <td>0.057743</td>\n",
       "      <td>0.0</td>\n",
       "      <td>1.0</td>\n",
       "      <td>2.0</td>\n",
       "      <td>2.0</td>\n",
       "      <td>0.0</td>\n",
       "      <td>0.0</td>\n",
       "      <td>0</td>\n",
       "    </tr>\n",
       "    <tr>\n",
       "      <th>1</th>\n",
       "      <td>0.940515</td>\n",
       "      <td>0.584842</td>\n",
       "      <td>0.913525</td>\n",
       "      <td>-0.374982</td>\n",
       "      <td>1.583713</td>\n",
       "      <td>0.0</td>\n",
       "      <td>1.0</td>\n",
       "      <td>2.0</td>\n",
       "      <td>3.0</td>\n",
       "      <td>0.0</td>\n",
       "      <td>0.0</td>\n",
       "      <td>0</td>\n",
       "    </tr>\n",
       "    <tr>\n",
       "      <th>2</th>\n",
       "      <td>0.673959</td>\n",
       "      <td>0.801348</td>\n",
       "      <td>0.638340</td>\n",
       "      <td>0.514222</td>\n",
       "      <td>1.374104</td>\n",
       "      <td>0.0</td>\n",
       "      <td>1.0</td>\n",
       "      <td>2.0</td>\n",
       "      <td>1.0</td>\n",
       "      <td>0.0</td>\n",
       "      <td>0.0</td>\n",
       "      <td>0</td>\n",
       "    </tr>\n",
       "    <tr>\n",
       "      <th>3</th>\n",
       "      <td>0.395453</td>\n",
       "      <td>0.344749</td>\n",
       "      <td>0.693901</td>\n",
       "      <td>0.200372</td>\n",
       "      <td>1.636160</td>\n",
       "      <td>0.0</td>\n",
       "      <td>1.0</td>\n",
       "      <td>2.0</td>\n",
       "      <td>3.0</td>\n",
       "      <td>0.0</td>\n",
       "      <td>0.0</td>\n",
       "      <td>0</td>\n",
       "    </tr>\n",
       "    <tr>\n",
       "      <th>4</th>\n",
       "      <td>0.313244</td>\n",
       "      <td>0.104799</td>\n",
       "      <td>0.860071</td>\n",
       "      <td>-0.948269</td>\n",
       "      <td>0.455794</td>\n",
       "      <td>0.0</td>\n",
       "      <td>1.0</td>\n",
       "      <td>2.0</td>\n",
       "      <td>3.0</td>\n",
       "      <td>1.0</td>\n",
       "      <td>0.0</td>\n",
       "      <td>0</td>\n",
       "    </tr>\n",
       "  </tbody>\n",
       "</table>\n",
       "</div>"
      ],
      "text/plain": [
       "        Pop     Dist1     Dist2      eps1      eps2  Ent1  Ent2  Equi  \\\n",
       "0  0.768448  0.492070  0.445576 -0.367240  0.057743   0.0   1.0   2.0   \n",
       "1  0.940515  0.584842  0.913525 -0.374982  1.583713   0.0   1.0   2.0   \n",
       "2  0.673959  0.801348  0.638340  0.514222  1.374104   0.0   1.0   2.0   \n",
       "3  0.395453  0.344749  0.693901  0.200372  1.636160   0.0   1.0   2.0   \n",
       "4  0.313244  0.104799  0.860071 -0.948269  0.455794   0.0   1.0   2.0   \n",
       "\n",
       "   Equi_pred  Ent1_pred  Ent1_pred2  Equi_11  \n",
       "0        2.0        0.0         0.0        0  \n",
       "1        3.0        0.0         0.0        0  \n",
       "2        1.0        0.0         0.0        0  \n",
       "3        3.0        0.0         0.0        0  \n",
       "4        3.0        1.0         0.0        0  "
      ]
     },
     "execution_count": 46,
     "metadata": {},
     "output_type": "execute_result"
    }
   ],
   "source": [
    "df.head()"
   ]
  },
  {
   "cell_type": "code",
   "execution_count": null,
   "metadata": {
    "collapsed": true
   },
   "outputs": [],
   "source": []
  }
 ],
 "metadata": {
  "kernelspec": {
   "display_name": "Python 3",
   "language": "python",
   "name": "python3"
  },
  "language_info": {
   "codemirror_mode": {
    "name": "ipython",
    "version": 3
   },
   "file_extension": ".py",
   "mimetype": "text/x-python",
   "name": "python",
   "nbconvert_exporter": "python",
   "pygments_lexer": "ipython3",
   "version": "3.5.1"
  }
 },
 "nbformat": 4,
 "nbformat_minor": 2
}
